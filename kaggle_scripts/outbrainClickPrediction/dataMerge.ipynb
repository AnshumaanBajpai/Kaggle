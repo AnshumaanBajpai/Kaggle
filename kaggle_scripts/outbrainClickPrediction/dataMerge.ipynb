{
 "cells": [
  {
   "cell_type": "markdown",
   "metadata": {},
   "source": [
    "# This Script analyzes events.csv"
   ]
  },
  {
   "cell_type": "code",
   "execution_count": 1,
   "metadata": {
    "collapsed": true
   },
   "outputs": [],
   "source": [
    "# Importing the libraries\n",
    "import os\n",
    "from matplotlib import pyplot as plt\n",
    "from pyspark.sql.types import *\n",
    "import pyspark.sql.functions as F\n",
    "from pyspark.ml.linalg import Vectors\n",
    "from pyspark.ml.feature import *\n",
    "import numpy as np\n",
    "from pyspark.sql import SQLContext\n",
    "from pyspark import SparkContext"
   ]
  },
  {
   "cell_type": "code",
   "execution_count": 2,
   "metadata": {
    "collapsed": true
   },
   "outputs": [],
   "source": [
    "clTr = \"gs://jupyterbucket/outbrainData/clicks_train.csv\"\n",
    "evt = \"gs://jupyterbucket/outbrainData/events.csv\"\n",
    "proCon = \"gs://jupyterbucket/outbrainData/promoted_content.csv\""
   ]
  },
  {
   "cell_type": "markdown",
   "metadata": {},
   "source": [
    "## Overview"
   ]
  },
  {
   "cell_type": "code",
   "execution_count": 3,
   "metadata": {
    "collapsed": true
   },
   "outputs": [],
   "source": [
    "def csvOverview(fpath):\n",
    "    '''\n",
    "    Function presents a basic overview of the file fed in the argument\n",
    "    @params\n",
    "    fpath: Path to the csv file that needs to be analyzed\n",
    "    @returns \n",
    "    None\n",
    "    '''\n",
    "    # Reading the data as a spark dataframe\n",
    "    print fpath.split(\"/\")[-1]\n",
    "    fpathDF = spark.read.options(header='true', inferschema='true', nullValue='\\\\N') \\\n",
    "                .csv(fpath)\n",
    "    print \"Dataframe has \", fpathDF.count(), \" rows.\"\n",
    "    fpathDF.show(n=5)\n",
    "    \n",
    "    return None"
   ]
  },
  {
   "cell_type": "markdown",
   "metadata": {},
   "source": [
    "### Taking an overview of the data"
   ]
  },
  {
   "cell_type": "code",
   "execution_count": 4,
   "metadata": {
    "collapsed": false
   },
   "outputs": [
    {
     "name": "stdout",
     "output_type": "stream",
     "text": [
      "events.csv\n",
      "Dataframe has  23120126  rows.\n",
      "+----------+--------------+-----------+---------+--------+------------+\n",
      "|display_id|          uuid|document_id|timestamp|platform|geo_location|\n",
      "+----------+--------------+-----------+---------+--------+------------+\n",
      "|         1|cb8c55702adb93|     379743|       61|       3|   US>SC>519|\n",
      "|         2|79a85fa78311b9|    1794259|       81|       2|   US>CA>807|\n",
      "|         3|822932ce3d8757|    1179111|      182|       2|   US>MI>505|\n",
      "|         4|85281d0a49f7ac|    1777797|      234|       2|   US>WV>564|\n",
      "|         5|8d0daef4bf5b56|     252458|      338|       2|       SG>00|\n",
      "+----------+--------------+-----------+---------+--------+------------+\n",
      "only showing top 5 rows\n",
      "\n"
     ]
    }
   ],
   "source": [
    "csvOverview(evt)"
   ]
  },
  {
   "cell_type": "markdown",
   "metadata": {},
   "source": [
    "#### Lets now see how many unique display_ids, uuid, document_ids, timestamp, platform and geo_locations are there. As mentioned above, we have total 23,120,126 datapoints."
   ]
  },
  {
   "cell_type": "code",
   "execution_count": 5,
   "metadata": {
    "collapsed": true
   },
   "outputs": [],
   "source": [
    "evtSchema = StructType(\n",
    "                    [StructField(\"display_id\", StringType(), True),\n",
    "                     StructField(\"uuid\", StringType(), True),\n",
    "                     StructField(\"document_id\", StringType(), True),\n",
    "                     StructField(\"timestamp\", IntegerType(), True),\n",
    "                     StructField(\"platform\", StringType(), True),\n",
    "                     StructField(\"geo_location\", StringType(), True)])"
   ]
  },
  {
   "cell_type": "code",
   "execution_count": 6,
   "metadata": {
    "collapsed": false
   },
   "outputs": [
    {
     "data": {
      "text/plain": [
       "DataFrame[display_id: string, uuid: string, document_id: string, timestamp: int, platform: string, geo_location: string]"
      ]
     },
     "execution_count": 6,
     "metadata": {},
     "output_type": "execute_result"
    }
   ],
   "source": [
    "evtDF = spark.read.schema(evtSchema).options(header='true', inferschema='false', nullValue='\\\\N').csv(evt)\n",
    "evtDF.cache()"
   ]
  },
  {
   "cell_type": "code",
   "execution_count": 7,
   "metadata": {
    "collapsed": false
   },
   "outputs": [
    {
     "name": "stdout",
     "output_type": "stream",
     "text": [
      "Number of unique display_ids:  23120126\n",
      "Number of unique uuids:  19794967\n",
      "Number of unique document_ids:  894060\n",
      "Number of unique platforms:  4\n",
      "Number of unique geo_locations:  2989\n"
     ]
    }
   ],
   "source": [
    "print \"Number of unique display_ids: \", evtDF.select(\"display_id\").distinct().count()\n",
    "print \"Number of unique uuids: \", evtDF.select(\"uuid\").distinct().count()\n",
    "print \"Number of unique document_ids: \", evtDF.select(\"document_id\").distinct().count()\n",
    "print \"Number of unique platforms: \", evtDF.select(\"platform\").distinct().count()\n",
    "print \"Number of unique geo_locations: \", evtDF.select(\"geo_location\").distinct().count()"
   ]
  },
  {
   "cell_type": "markdown",
   "metadata": {},
   "source": [
    "### We can merge these ad_ids with the training set"
   ]
  },
  {
   "cell_type": "code",
   "execution_count": 8,
   "metadata": {
    "collapsed": false
   },
   "outputs": [
    {
     "name": "stdout",
     "output_type": "stream",
     "text": [
      "clicks_train.csv\n",
      "Dataframe has  87141731  rows.\n",
      "+----------+------+-------+\n",
      "|display_id| ad_id|clicked|\n",
      "+----------+------+-------+\n",
      "|         1| 42337|      0|\n",
      "|         1|139684|      0|\n",
      "|         1|144739|      1|\n",
      "|         1|156824|      0|\n",
      "|         1|279295|      0|\n",
      "+----------+------+-------+\n",
      "only showing top 5 rows\n",
      "\n"
     ]
    }
   ],
   "source": [
    "csvOverview(clTr)"
   ]
  },
  {
   "cell_type": "code",
   "execution_count": 9,
   "metadata": {
    "collapsed": true
   },
   "outputs": [],
   "source": [
    "clTrSchema = StructType(\n",
    "                    [StructField(\"display_id\", StringType(), True),\n",
    "                     StructField(\"ad_id\", StringType(), True),\n",
    "                     StructField(\"clicked\", IntegerType(), True)])"
   ]
  },
  {
   "cell_type": "code",
   "execution_count": 10,
   "metadata": {
    "collapsed": false
   },
   "outputs": [
    {
     "name": "stdout",
     "output_type": "stream",
     "text": [
      "+----------+------+-------+\n",
      "|display_id| ad_id|clicked|\n",
      "+----------+------+-------+\n",
      "|         1| 42337|      0|\n",
      "|         1|139684|      0|\n",
      "|         1|144739|      1|\n",
      "|         1|156824|      0|\n",
      "|         1|279295|      0|\n",
      "|         1|296965|      0|\n",
      "|         2|125211|      0|\n",
      "+----------+------+-------+\n",
      "only showing top 7 rows\n",
      "\n"
     ]
    }
   ],
   "source": [
    "clTrDF = spark.read.schema(clTrSchema).options(header='true', inferschema='false', nullValue='\\\\N').csv(clTr)\n",
    "clTrDF.cache()\n",
    "clTrDF.show(n=7)"
   ]
  },
  {
   "cell_type": "code",
   "execution_count": 11,
   "metadata": {
    "collapsed": false
   },
   "outputs": [
    {
     "name": "stdout",
     "output_type": "stream",
     "text": [
      "Number of unique display_ids:  16874593\n",
      "Number of unique ad_ids:  478950\n"
     ]
    }
   ],
   "source": [
    "print \"Number of unique display_ids: \", clTrDF.select(\"display_id\").distinct().count()\n",
    "print \"Number of unique ad_ids: \", clTrDF.select(\"ad_id\").distinct().count()"
   ]
  },
  {
   "cell_type": "markdown",
   "metadata": {},
   "source": [
    "### Merging the events.csv with clicks_train.csv"
   ]
  },
  {
   "cell_type": "code",
   "execution_count": 12,
   "metadata": {
    "collapsed": false
   },
   "outputs": [
    {
     "name": "stdout",
     "output_type": "stream",
     "text": [
      "+----------+------+-------+--------------+-----------+---------+--------+------------+\n",
      "|display_id| ad_id|clicked|          uuid|document_id|timestamp|platform|geo_location|\n",
      "+----------+------+-------+--------------+-----------+---------+--------+------------+\n",
      "|  10000108|132815|      1|66d17a9ccd0e15|    1126487|668707895|       1|   US>CA>807|\n",
      "|  10000108|133677|      0|66d17a9ccd0e15|    1126487|668707895|       1|   US>CA>807|\n",
      "|  10000108|406686|      0|66d17a9ccd0e15|    1126487|668707895|       1|   US>CA>807|\n",
      "|  10000108|406704|      0|66d17a9ccd0e15|    1126487|668707895|       1|   US>CA>807|\n",
      "|  10000108|449087|      0|66d17a9ccd0e15|    1126487|668707895|       1|   US>CA>807|\n",
      "|  10000108|471551|      0|66d17a9ccd0e15|    1126487|668707895|       1|   US>CA>807|\n",
      "|  10000108|488469|      0|66d17a9ccd0e15|    1126487|668707895|       1|   US>CA>807|\n",
      "|  10000172| 45192|      0|11c89d2bcfd60b|    1233989|668711251|       1|   US>OK>671|\n",
      "|  10000172|106790|      0|11c89d2bcfd60b|    1233989|668711251|       1|   US>OK>671|\n",
      "|  10000172|116124|      1|11c89d2bcfd60b|    1233989|668711251|       1|   US>OK>671|\n",
      "|  10000172|123945|      0|11c89d2bcfd60b|    1233989|668711251|       1|   US>OK>671|\n",
      "|  10000172|138353|      0|11c89d2bcfd60b|    1233989|668711251|       1|   US>OK>671|\n",
      "|  10000172|173006|      0|11c89d2bcfd60b|    1233989|668711251|       1|   US>OK>671|\n",
      "|  10000304| 17895|      0|428d44127a2a43|    1088232|668716955|       3|   US>WA>819|\n",
      "|  10000304| 83115|      1|428d44127a2a43|    1088232|668716955|       3|   US>WA>819|\n",
      "+----------+------+-------+--------------+-----------+---------+--------+------------+\n",
      "only showing top 15 rows\n",
      "\n"
     ]
    }
   ],
   "source": [
    "clTrevtDF = clTrDF.join(evtDF, on=\"display_id\", how=\"left\")\n",
    "clTrevtDF.cache()\n",
    "clTrevtDF.show(n=15)"
   ]
  },
  {
   "cell_type": "markdown",
   "metadata": {
    "collapsed": true
   },
   "source": [
    "#### Now looking at promoted_content.csv"
   ]
  },
  {
   "cell_type": "code",
   "execution_count": 13,
   "metadata": {
    "collapsed": false
   },
   "outputs": [
    {
     "name": "stdout",
     "output_type": "stream",
     "text": [
      "promoted_content.csv\n",
      "Dataframe has  559583  rows.\n",
      "+-----+-----------+-----------+-------------+\n",
      "|ad_id|document_id|campaign_id|advertiser_id|\n",
      "+-----+-----------+-----------+-------------+\n",
      "|    1|       6614|          1|            7|\n",
      "|    2|     471467|          2|            7|\n",
      "|    3|       7692|          3|            7|\n",
      "|    4|     471471|          2|            7|\n",
      "|    5|     471472|          2|            7|\n",
      "+-----+-----------+-----------+-------------+\n",
      "only showing top 5 rows\n",
      "\n"
     ]
    }
   ],
   "source": [
    "csvOverview(proCon)"
   ]
  },
  {
   "cell_type": "code",
   "execution_count": 14,
   "metadata": {
    "collapsed": true
   },
   "outputs": [],
   "source": [
    "proConSchema = StructType(\n",
    "                    [StructField(\"ad_id\", StringType(), True),\n",
    "                     StructField(\"document_id\", StringType(), True),\n",
    "                     StructField(\"campaign_id\", StringType(), True),\n",
    "                     StructField(\"advertiser_id\", IntegerType(), True)])"
   ]
  },
  {
   "cell_type": "code",
   "execution_count": 15,
   "metadata": {
    "collapsed": false
   },
   "outputs": [
    {
     "name": "stdout",
     "output_type": "stream",
     "text": [
      "+-----+-----------+-----------+-------------+\n",
      "|ad_id|document_id|campaign_id|advertiser_id|\n",
      "+-----+-----------+-----------+-------------+\n",
      "|    1|       6614|          1|            7|\n",
      "|    2|     471467|          2|            7|\n",
      "|    3|       7692|          3|            7|\n",
      "|    4|     471471|          2|            7|\n",
      "|    5|     471472|          2|            7|\n",
      "|    6|      12736|          1|            7|\n",
      "|    7|      12808|          1|            7|\n",
      "+-----+-----------+-----------+-------------+\n",
      "only showing top 7 rows\n",
      "\n"
     ]
    }
   ],
   "source": [
    "proConDF = spark.read.schema(proConSchema).options(header='true', inferschema='false', nullValue='\\\\N').csv(proCon)\n",
    "proConDF.cache()\n",
    "proConDF.show(n=7)"
   ]
  },
  {
   "cell_type": "markdown",
   "metadata": {},
   "source": [
    "#### In the above dataframe, it must be noted that the document_id mentioned here is the document where clicking on the ad takes the user and not the document_id on which the ad occurs. So we need to rename the column to ad_document_id"
   ]
  },
  {
   "cell_type": "code",
   "execution_count": 27,
   "metadata": {
    "collapsed": false
   },
   "outputs": [
    {
     "name": "stdout",
     "output_type": "stream",
     "text": [
      "+-----+--------+---------+---------+\n",
      "|ad_id|adDoc_id|adCamp_id|advert_id|\n",
      "+-----+--------+---------+---------+\n",
      "|    1|    6614|        1|        7|\n",
      "|    2|  471467|        2|        7|\n",
      "|    3|    7692|        3|        7|\n",
      "|    4|  471471|        2|        7|\n",
      "|    5|  471472|        2|        7|\n",
      "|    6|   12736|        1|        7|\n",
      "|    7|   12808|        1|        7|\n",
      "+-----+--------+---------+---------+\n",
      "only showing top 7 rows\n",
      "\n"
     ]
    }
   ],
   "source": [
    "proConRenDF = proConDF.withColumnRenamed(\"document_id\", \"adDoc_id\").withColumnRenamed(\"campaign_id\", \"adCamp_id\").withColumnRenamed(\"advertiser_id\", \"advert_id\")\n",
    "proConRenDF.cache()\n",
    "proConRenDF.show(n=7)"
   ]
  },
  {
   "cell_type": "code",
   "execution_count": 29,
   "metadata": {
    "collapsed": false
   },
   "outputs": [
    {
     "name": "stdout",
     "output_type": "stream",
     "text": [
      " Number of unique ad_ids:  559583\n",
      "Number of unique adDocument_ids:  185709\n",
      "Number of unique adCampaign_ids:  34675\n",
      "Number of unique advertiser_id:  4385\n"
     ]
    }
   ],
   "source": [
    "print \"Number of unique ad_ids: \", proConRenDF.select(\"ad_id\").distinct().count()\n",
    "print \"Number of unique adDocument_ids: \", proConRenDF.select(\"adDoc_id\").distinct().count()\n",
    "print \"Number of unique adCampaign_ids: \", proConRenDF.select(\"adCamp_id\").distinct().count()\n",
    "print \"Number of unique advertiser_id: \", proConRenDF.select(\"advert_id\").distinct().count()"
   ]
  },
  {
   "cell_type": "markdown",
   "metadata": {},
   "source": [
    "#### Now we merge the information on the ad with the previoulsy merged data"
   ]
  },
  {
   "cell_type": "code",
   "execution_count": 30,
   "metadata": {
    "collapsed": false
   },
   "outputs": [
    {
     "name": "stdout",
     "output_type": "stream",
     "text": [
      "+------+----------+-------+--------------+-----------+----------+--------+------------+--------+---------+---------+\n",
      "| ad_id|display_id|clicked|          uuid|document_id| timestamp|platform|geo_location|adDoc_id|adCamp_id|advert_id|\n",
      "+------+----------+-------+--------------+-----------+----------+--------+------------+--------+---------+---------+\n",
      "|100010|  15514599|      0|c306657bf72e87|    1914050|1029468082|       1|          US| 1132761|    13049|     2848|\n",
      "|100010|  15434742|      0|7cf0aa77cad72d|     339764|1023601796|       1|   US>FL>539| 1132761|    13049|     2848|\n",
      "|100227|   5383514|      0|99d4cc8820a854|    1703188| 349564881|       1|   US>OR>820| 1140509|    13071|     2848|\n",
      "|100227|   5671562|      0|f9a74edb4874db|     313715| 378329714|       1|   US>MO>609| 1140509|    13071|     2848|\n",
      "|100227|   5724166|      0|54594b6166b827|     708515| 381430184|       3|   US>OR>820| 1140509|    13071|     2848|\n",
      "|100227|   9023708|      0|43ceee3456b0b4|    2299068| 605463584|       1|   US>ID>881| 1140509|    13071|     2848|\n",
      "|100227|   5164982|      0|21a1f0bb63ec17|    1849030| 333891248|       3|   US>CO>751| 1140509|    13071|     2848|\n",
      "|100227|   5106997|      0|c01f1232479b2f|     387004| 329688164|       3|   US>DE>504| 1140509|    13071|     2848|\n",
      "|100227|   5980271|      0|bb686419f05918|     886065| 397624349|       1|   US>WI>669| 1140509|    13071|     2848|\n",
      "|100227|   6862907|      0|c3fb3a47612c99|    2100600| 472254861|       3|   US>CA>803| 1140509|    13071|     2848|\n",
      "|100227|   6529697|      0|d7e9b3b519ddf7|    1994824| 439649899|       3|   US>OR>820| 1140509|    13071|     2848|\n",
      "|100227|   5214356|      0|747cb519d99083|     872725| 337394574|       1|   US>CA>807| 1140509|    13071|     2848|\n",
      "|100227|   5608629|      0|30ef018ffc4641|     156077| 374259777|       3|   US>TX>618| 1140509|    13071|     2848|\n",
      "|100227|   8644248|      0|90a75074f324ed|     171456| 583791270|       1|   US>FL>534| 1140509|    13071|     2848|\n",
      "|100227|   4775045|      0|ab1208f0477dc8|     399385| 310355658|       3|   US>UT>770| 1140509|    13071|     2848|\n",
      "|100227|   4764010|      0|15cbf3086a39f5|     970000| 309744287|       1|   US>CA>803| 1140509|    13071|     2848|\n",
      "|100227|   6085143|      0|4efdeb5ef5c946|    1643559| 404973050|       1|   US>NH>506| 1140509|    13071|     2848|\n",
      "|100227|   5581990|      0|8068bbcb62c126|    1715349| 372336722|       3|   US>KY>541| 1140509|    13071|     2848|\n",
      "|100227|   5462782|      0|cc2fb4fbc757df|     402921| 357893036|       3|   US>OK>671| 1140509|    13071|     2848|\n",
      "|100227|   7414643|      0|2baacac628fad3|    2049017| 508723747|       3|   US>GA>507| 1140509|    13071|     2848|\n",
      "+------+----------+-------+--------------+-----------+----------+--------+------------+--------+---------+---------+\n",
      "only showing top 20 rows\n",
      "\n"
     ]
    }
   ],
   "source": [
    "clTrevtproConRenDF = clTrevtDF.join(proConRenDF, on=\"ad_id\", how=\"left\")\n",
    "clTrevtproConRenDF.cache()\n",
    "clTrevtproConRenDF.show()"
   ]
  },
  {
   "cell_type": "code",
   "execution_count": 32,
   "metadata": {
    "collapsed": false
   },
   "outputs": [
    {
     "name": "stdout",
     "output_type": "stream",
     "text": [
      "+------+----------+-------+--------------+-----------+---------+--------+------------+--------+---------+---------+\n",
      "| ad_id|display_id|clicked|          uuid|document_id|timestamp|platform|geo_location|adDoc_id|adCamp_id|advert_id|\n",
      "+------+----------+-------+--------------+-----------+---------+--------+------------+--------+---------+---------+\n",
      "|406686|  10000108|      0|66d17a9ccd0e15|    1126487|668707895|       1|   US>CA>807| 1671134|    27505|     2879|\n",
      "|132815|  10000108|      1|66d17a9ccd0e15|    1126487|668707895|       1|   US>CA>807| 1227645|    17018|      331|\n",
      "|406704|  10000108|      0|66d17a9ccd0e15|    1126487|668707895|       1|   US>CA>807| 1678714|    27506|     2879|\n",
      "|488469|  10000108|      0|66d17a9ccd0e15|    1126487|668707895|       1|   US>CA>807| 2387648|       65|       29|\n",
      "|133677|  10000108|      0|66d17a9ccd0e15|    1126487|668707895|       1|   US>CA>807| 1297868|    17143|     1919|\n",
      "|449087|  10000108|      0|66d17a9ccd0e15|    1126487|668707895|       1|   US>CA>807| 2135836|    31474|     3052|\n",
      "|471551|  10000108|      0|66d17a9ccd0e15|    1126487|668707895|       1|   US>CA>807| 2320075|    32100|     1743|\n",
      "+------+----------+-------+--------------+-----------+---------+--------+------------+--------+---------+---------+\n",
      "\n"
     ]
    }
   ],
   "source": [
    "clTrevtproConRenDF[clTrevtproConRenDF.display_id==\"10000108\"].show()"
   ]
  }
 ],
 "metadata": {
  "anaconda-cloud": {},
  "kernelspec": {
   "display_name": "PySpark",
   "language": "python",
   "name": "pyspark"
  },
  "language_info": {
   "codemirror_mode": {
    "name": "ipython",
    "version": 2
   },
   "file_extension": ".py",
   "mimetype": "text/x-python",
   "name": "python",
   "nbconvert_exporter": "python",
   "pygments_lexer": "ipython2",
   "version": "2.7.12"
  }
 },
 "nbformat": 4,
 "nbformat_minor": 1
}

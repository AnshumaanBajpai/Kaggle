{
 "cells": [
  {
   "cell_type": "markdown",
   "metadata": {},
   "source": [
    "## Outbrain Click Prediction"
   ]
  },
  {
   "cell_type": "markdown",
   "metadata": {},
   "source": [
    "#### This note books contains overall information and a summary of all the data that we have for the kaggle competition https://www.kaggle.com/c/outbrain-click-prediction. It goes through each of the files and presents the overall summay of the data. The analysis is done using Pyspark."
   ]
  },
  {
   "cell_type": "code",
   "execution_count": 2,
   "metadata": {
    "collapsed": false
   },
   "outputs": [
    {
     "name": "stderr",
     "output_type": "stream",
     "text": [
      "/usr/local/bin/miniconda/lib/python2.7/site-packages/matplotlib/font_manager.py:273: UserWarning: Matplotlib is building the font cache using fc-list. This may take a moment.\n",
      "  warnings.warn('Matplotlib is building the font cache using fc-list. This may take a moment.')\n"
     ]
    }
   ],
   "source": [
    "# Importing the libraries\n",
    "import os\n",
    "from matplotlib import pyplot as plt\n",
    "from pyspark.sql.types import *\n",
    "import pyspark.sql.functions as F"
   ]
  },
  {
   "cell_type": "markdown",
   "metadata": {},
   "source": [
    "### 1) File Locations"
   ]
  },
  {
   "cell_type": "code",
   "execution_count": 20,
   "metadata": {
    "collapsed": true
   },
   "outputs": [],
   "source": [
    "# Location of all the files.\n",
    "# These files are located in google cloud platform\n",
    "clTe = \"gs://jupyterbucket/outbrainData/clicks_test.csv\"\n",
    "clTr = \"gs://jupyterbucket/outbrainData/clicks_train.csv\"\n",
    "docCat = \"gs://jupyterbucket/outbrainData/documents_categories.csv\"\n",
    "docEnt = \"gs://jupyterbucket/outbrainData/documents_entities.csv\"\n",
    "docMet = \"gs://jupyterbucket/outbrainData/documents_meta.csv\"\n",
    "docTop = \"gs://jupyterbucket/outbrainData/documents_topics.csv\"\n",
    "evt = \"gs://jupyterbucket/outbrainData/events.csv\"\n",
    "pageViewsSam = \"gs://jupyterbucket/outbrainData/page_views_sample.csv\"\n",
    "pageViews = \"gs://jupyterbucket/outbrainData/page_views.csv\"\n",
    "proCon = \"gs://jupyterbucket/outbrainData/promoted_content.csv\"\n",
    "samSub = \"gs://jupyterbucket/outbrainData/sample_submission.csv\"\n",
    "\n",
    "# Creating a list to iterate over in case we need to perform some operation for all the csv files\n",
    "allFiles = [clTe, clTr, docCat, docEnt, docMet, docTop, evt, pageViewsSam, proCon, samSub, pageViews]"
   ]
  },
  {
   "cell_type": "markdown",
   "metadata": {},
   "source": [
    "### 2) Funtion to get an overview of each datafile\n",
    "* Obtain a basic understanding of the file in terms of number of columns\n",
    "* Generate Schema for each of the files that will be used later on."
   ]
  },
  {
   "cell_type": "code",
   "execution_count": 21,
   "metadata": {
    "collapsed": true
   },
   "outputs": [],
   "source": [
    "def csvOverview(fpath):\n",
    "    '''\n",
    "    Function presents a basic overview of the file fed in the argument\n",
    "    @params\n",
    "    fpath: Path to the csv file that needs to be analyzed\n",
    "    @returns \n",
    "    None\n",
    "    '''\n",
    "    # Reading the data as a spark dataframe\n",
    "    fpathDF = spark.read.options(header='true', inferschema='true', nullValue='\\\\N') \\\n",
    "                .csv(fpath)\n",
    "    fpathDF.show(n=5)\n",
    "    \n",
    "    return None"
   ]
  },
  {
   "cell_type": "markdown",
   "metadata": {},
   "source": [
    "#### Displaying all the files"
   ]
  },
  {
   "cell_type": "code",
   "execution_count": 22,
   "metadata": {
    "collapsed": false
   },
   "outputs": [
    {
     "name": "stdout",
     "output_type": "stream",
     "text": [
      "clicks_test.csv\n",
      "+----------+------+\n",
      "|display_id| ad_id|\n",
      "+----------+------+\n",
      "|  16874594| 66758|\n",
      "|  16874594|150083|\n",
      "|  16874594|162754|\n",
      "|  16874594|170392|\n",
      "|  16874594|172888|\n",
      "+----------+------+\n",
      "only showing top 5 rows\n",
      "\n",
      "clicks_train.csv\n",
      "+----------+------+-------+\n",
      "|display_id| ad_id|clicked|\n",
      "+----------+------+-------+\n",
      "|         1| 42337|      0|\n",
      "|         1|139684|      0|\n",
      "|         1|144739|      1|\n",
      "|         1|156824|      0|\n",
      "|         1|279295|      0|\n",
      "+----------+------+-------+\n",
      "only showing top 5 rows\n",
      "\n",
      "documents_categories.csv\n",
      "+-----------+-----------+----------------+\n",
      "|document_id|category_id|confidence_level|\n",
      "+-----------+-----------+----------------+\n",
      "|    1595802|       1611|            0.92|\n",
      "|    1595802|       1610|            0.07|\n",
      "|    1524246|       1807|            0.92|\n",
      "|    1524246|       1608|            0.07|\n",
      "|    1617787|       1807|            0.92|\n",
      "+-----------+-----------+----------------+\n",
      "only showing top 5 rows\n",
      "\n",
      "documents_entities.csv\n",
      "+-----------+--------------------+-----------------+\n",
      "|document_id|           entity_id| confidence_level|\n",
      "+-----------+--------------------+-----------------+\n",
      "|    1524246|f9eec25663db4cd83...|0.672865314504701|\n",
      "|    1524246|55ebcfbdaff1d6f60...|0.399113728441297|\n",
      "|    1524246|839907a972930b17b...|0.392095749652966|\n",
      "|    1524246|04d8f9a1ad48f126d...|0.213996376305138|\n",
      "|    1617787|612a1d17685a498af...|0.386192829940441|\n",
      "+-----------+--------------------+-----------------+\n",
      "only showing top 5 rows\n",
      "\n",
      "documents_meta.csv\n",
      "+-----------+---------+------------+--------------------+\n",
      "|document_id|source_id|publisher_id|        publish_time|\n",
      "+-----------+---------+------------+--------------------+\n",
      "|    1595802|        1|         603|2016-06-05 00:00:...|\n",
      "|    1524246|        1|         603|2016-05-26 11:00:...|\n",
      "|    1617787|        1|         603|2016-05-27 00:00:...|\n",
      "|    1615583|        1|         603|2016-06-07 00:00:...|\n",
      "|    1615460|        1|         603|2016-06-20 00:00:...|\n",
      "+-----------+---------+------------+--------------------+\n",
      "only showing top 5 rows\n",
      "\n",
      "documents_topics.csv\n",
      "+-----------+--------+------------------+\n",
      "|document_id|topic_id|  confidence_level|\n",
      "+-----------+--------+------------------+\n",
      "|    1595802|     140|0.0731131601068925|\n",
      "|    1595802|      16|0.0594164867373976|\n",
      "|    1595802|     143|0.0454207537554526|\n",
      "|    1595802|     170|0.0388674285182961|\n",
      "|    1524246|     113| 0.196450402209685|\n",
      "+-----------+--------+------------------+\n",
      "only showing top 5 rows\n",
      "\n",
      "events.csv\n",
      "+----------+--------------+-----------+---------+--------+------------+\n",
      "|display_id|          uuid|document_id|timestamp|platform|geo_location|\n",
      "+----------+--------------+-----------+---------+--------+------------+\n",
      "|         1|cb8c55702adb93|     379743|       61|       3|   US>SC>519|\n",
      "|         2|79a85fa78311b9|    1794259|       81|       2|   US>CA>807|\n",
      "|         3|822932ce3d8757|    1179111|      182|       2|   US>MI>505|\n",
      "|         4|85281d0a49f7ac|    1777797|      234|       2|   US>WV>564|\n",
      "|         5|8d0daef4bf5b56|     252458|      338|       2|       SG>00|\n",
      "+----------+--------------+-----------+---------+--------+------------+\n",
      "only showing top 5 rows\n",
      "\n",
      "page_views_sample.csv\n",
      "+--------------+-----------+---------+--------+------------+--------------+\n",
      "|          uuid|document_id|timestamp|platform|geo_location|traffic_source|\n",
      "+--------------+-----------+---------+--------+------------+--------------+\n",
      "|1fd5f051fba643|        120| 31905835|       1|          RS|             2|\n",
      "|8557aa9004be3b|        120| 32053104|       1|       VN>44|             2|\n",
      "|c351b277a358f0|        120| 54013023|       1|       KR>12|             1|\n",
      "|8205775c5387f9|        120| 44196592|       1|       IN>16|             2|\n",
      "|9cb0ccd8458371|        120| 65817371|       1|   US>CA>807|             2|\n",
      "+--------------+-----------+---------+--------+------------+--------------+\n",
      "only showing top 5 rows\n",
      "\n",
      "promoted_content.csv\n",
      "+-----+-----------+-----------+-------------+\n",
      "|ad_id|document_id|campaign_id|advertiser_id|\n",
      "+-----+-----------+-----------+-------------+\n",
      "|    1|       6614|          1|            7|\n",
      "|    2|     471467|          2|            7|\n",
      "|    3|       7692|          3|            7|\n",
      "|    4|     471471|          2|            7|\n",
      "|    5|     471472|          2|            7|\n",
      "+-----+-----------+-----------+-------------+\n",
      "only showing top 5 rows\n",
      "\n",
      "sample_submission.csv\n",
      "+----------+--------------------+\n",
      "|display_id|               ad_id|\n",
      "+----------+--------------------+\n",
      "|  16874594|66758 150083 1627...|\n",
      "|  16874595|   8846 30609 143982|\n",
      "|  16874596|11430 57197 13282...|\n",
      "|  16874597|137858 143981 155...|\n",
      "|  16874598|67292 145937 2500...|\n",
      "+----------+--------------------+\n",
      "only showing top 5 rows\n",
      "\n"
     ]
    }
   ],
   "source": [
    "for filepath in allFiles[:-1]:\n",
    "    print filepath.split(\"/\")[-1]\n",
    "    csvOverview(filepath)"
   ]
  },
  {
   "cell_type": "code",
   "execution_count": null,
   "metadata": {
    "collapsed": true
   },
   "outputs": [],
   "source": []
  }
 ],
 "metadata": {
  "anaconda-cloud": {},
  "kernelspec": {
   "display_name": "PySpark",
   "language": "python",
   "name": "pyspark"
  },
  "language_info": {
   "codemirror_mode": {
    "name": "ipython",
    "version": 2
   },
   "file_extension": ".py",
   "mimetype": "text/x-python",
   "name": "python",
   "nbconvert_exporter": "python",
   "pygments_lexer": "ipython2",
   "version": "2.7.12"
  }
 },
 "nbformat": 4,
 "nbformat_minor": 1
}

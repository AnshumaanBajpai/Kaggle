{
 "cells": [
  {
   "cell_type": "code",
   "execution_count": 1,
   "metadata": {
    "collapsed": false
   },
   "outputs": [
    {
     "name": "stdout",
     "output_type": "stream",
     "text": [
      "Collecting matplotlib\n",
      "  Downloading matplotlib-1.5.3-cp27-cp27mu-manylinux1_x86_64.whl (13.7MB)\n",
      "Requirement already satisfied: pytz in /usr/local/bin/miniconda/lib/python2.7/site-packages (from matplotlib)\n",
      "Collecting cycler (from matplotlib)\n",
      "  Downloading cycler-0.10.0-py2.py3-none-any.whl\n",
      "Requirement already satisfied: python-dateutil in /usr/local/bin/miniconda/lib/python2.7/site-packages (from matplotlib)\n",
      "Collecting pyparsing!=2.0.0,!=2.0.4,!=2.1.2,>=1.5.6 (from matplotlib)\n",
      "  Downloading pyparsing-2.1.10-py2.py3-none-any.whl (56kB)\n",
      "Collecting numpy>=1.6 (from matplotlib)\n",
      "  Downloading numpy-1.11.3-cp27-cp27mu-manylinux1_x86_64.whl (15.4MB)\n",
      "Requirement already satisfied: six in /usr/local/bin/miniconda/lib/python2.7/site-packages (from cycler->matplotlib)\n",
      "Installing collected packages: cycler, pyparsing, numpy, matplotlib\n",
      "Successfully installed cycler-0.10.0 matplotlib-1.5.3 numpy-1.11.3 pyparsing-2.1.10\n",
      "Requirement already satisfied: numpy in /usr/local/bin/miniconda/lib/python2.7/site-packages\n",
      "Collecting pandas\n",
      "  Downloading pandas-0.19.1-cp27-cp27mu-manylinux1_x86_64.whl (16.7MB)\n",
      "Requirement already satisfied: pytz>=2011k in /usr/local/bin/miniconda/lib/python2.7/site-packages (from pandas)\n",
      "Requirement already satisfied: python-dateutil in /usr/local/bin/miniconda/lib/python2.7/site-packages (from pandas)\n",
      "Requirement already satisfied: numpy>=1.7.0 in /usr/local/bin/miniconda/lib/python2.7/site-packages (from pandas)\n",
      "Requirement already satisfied: six>=1.5 in /usr/local/bin/miniconda/lib/python2.7/site-packages (from python-dateutil->pandas)\n",
      "Installing collected packages: pandas\n",
      "Successfully installed pandas-0.19.1\n"
     ]
    }
   ],
   "source": [
    "%%bash\n",
    "pip install matplotlib\n",
    "pip install numpy\n",
    "pip install pandas"
   ]
  },
  {
   "cell_type": "code",
   "execution_count": null,
   "metadata": {
    "collapsed": true
   },
   "outputs": [],
   "source": []
  }
 ],
 "metadata": {
  "anaconda-cloud": {},
  "kernelspec": {
   "display_name": "PySpark",
   "language": "python",
   "name": "pyspark"
  },
  "language_info": {
   "codemirror_mode": {
    "name": "ipython",
    "version": 2
   },
   "file_extension": ".py",
   "mimetype": "text/x-python",
   "name": "python",
   "nbconvert_exporter": "python",
   "pygments_lexer": "ipython2",
   "version": "2.7.13"
  }
 },
 "nbformat": 4,
 "nbformat_minor": 1
}

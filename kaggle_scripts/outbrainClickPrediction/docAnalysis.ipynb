{
 "cells": [
  {
   "cell_type": "markdown",
   "metadata": {},
   "source": [
    "## This script performs an analysis of the 4 documents---.csv files in the data "
   ]
  },
  {
   "cell_type": "markdown",
   "metadata": {},
   "source": [
    "#### These files contain information about the content of the web page on display and the goal is to extract critical features for the webpages"
   ]
  },
  {
   "cell_type": "code",
   "execution_count": 1,
   "metadata": {
    "collapsed": false
   },
   "outputs": [],
   "source": [
    "# Importing the libraries\n",
    "import os\n",
    "from matplotlib import pyplot as plt\n",
    "from pyspark.sql.types import *\n",
    "import pyspark.sql.functions as F\n",
    "from pyspark.ml.linalg import Vectors\n",
    "from pyspark.ml.feature import *\n",
    "import numpy as np\n",
    "from pyspark.sql import SQLContext\n",
    "from pyspark import SparkContext"
   ]
  },
  {
   "cell_type": "markdown",
   "metadata": {},
   "source": [
    "### 1) File paths:"
   ]
  },
  {
   "cell_type": "code",
   "execution_count": 2,
   "metadata": {
    "collapsed": true
   },
   "outputs": [],
   "source": [
    "docCat = \"gs://jupyterbucket/outbrainData/documents_categories.csv\"\n",
    "docEnt = \"gs://jupyterbucket/outbrainData/documents_entities.csv\"\n",
    "docMet = \"gs://jupyterbucket/outbrainData/documents_meta.csv\"\n",
    "docTop = \"gs://jupyterbucket/outbrainData/documents_topics.csv\""
   ]
  },
  {
   "cell_type": "code",
   "execution_count": 3,
   "metadata": {
    "collapsed": true
   },
   "outputs": [],
   "source": [
    "def csvOverview(fpath):\n",
    "    '''\n",
    "    Function presents a basic overview of the file fed in the argument\n",
    "    @params\n",
    "    fpath: Path to the csv file that needs to be analyzed\n",
    "    @returns \n",
    "    None\n",
    "    '''\n",
    "    # Reading the data as a spark dataframe\n",
    "    print fpath.split(\"/\")[-1]\n",
    "    fpathDF = spark.read.options(header='true', inferschema='true', nullValue='\\\\N') \\\n",
    "                .csv(fpath)\n",
    "    print \"Dataframe has \", fpathDF.count(), \" rows.\"\n",
    "    fpathDF.show(n=5)\n",
    "    \n",
    "    return None"
   ]
  },
  {
   "cell_type": "markdown",
   "metadata": {},
   "source": [
    "### 2) Analysis for each file:"
   ]
  },
  {
   "cell_type": "markdown",
   "metadata": {},
   "source": [
    "#### a) documents_meta.csv"
   ]
  },
  {
   "cell_type": "code",
   "execution_count": 4,
   "metadata": {
    "collapsed": false
   },
   "outputs": [
    {
     "name": "stdout",
     "output_type": "stream",
     "text": [
      "documents_meta.csv\n",
      "Dataframe has  2999334  rows.\n",
      "+-----------+---------+------------+--------------------+\n",
      "|document_id|source_id|publisher_id|        publish_time|\n",
      "+-----------+---------+------------+--------------------+\n",
      "|    1595802|        1|         603|2016-06-05 00:00:...|\n",
      "|    1524246|        1|         603|2016-05-26 11:00:...|\n",
      "|    1617787|        1|         603|2016-05-27 00:00:...|\n",
      "|    1615583|        1|         603|2016-06-07 00:00:...|\n",
      "|    1615460|        1|         603|2016-06-20 00:00:...|\n",
      "+-----------+---------+------------+--------------------+\n",
      "only showing top 5 rows\n",
      "\n"
     ]
    }
   ],
   "source": [
    "csvOverview(docMet)"
   ]
  },
  {
   "cell_type": "code",
   "execution_count": 5,
   "metadata": {
    "collapsed": false
   },
   "outputs": [],
   "source": [
    "docMetSchema = StructType(\n",
    "                    [StructField(\"document_id\", StringType(), True),\n",
    "                     StructField(\"source_id\", StringType(), True),\n",
    "                     StructField(\"publisher_id\", StringType(), True),\n",
    "                     StructField(\"publish_time\", StringType(), True)])"
   ]
  },
  {
   "cell_type": "code",
   "execution_count": 6,
   "metadata": {
    "collapsed": false
   },
   "outputs": [
    {
     "data": {
      "text/plain": [
       "DataFrame[document_id: string, source_id: string, publisher_id: string, publish_time: string]"
      ]
     },
     "execution_count": 6,
     "metadata": {},
     "output_type": "execute_result"
    }
   ],
   "source": [
    "docMetDF = spark.read.schema(docMetSchema).options(header='true', inferschema='false', nullValue='\\\\N').csv(docMet)\n",
    "docMetDF.cache()"
   ]
  },
  {
   "cell_type": "code",
   "execution_count": 7,
   "metadata": {
    "collapsed": false
   },
   "outputs": [
    {
     "name": "stdout",
     "output_type": "stream",
     "text": [
      "+-----------+---------+------------+-------------------+\n",
      "|document_id|source_id|publisher_id|       publish_time|\n",
      "+-----------+---------+------------+-------------------+\n",
      "|    1171192|     9999|         155|2016-03-21 00:00:00|\n",
      "|    1385087|     9998|        1196|               null|\n",
      "|    1055593|     9998|        1196|               null|\n",
      "|    1398472|     9997|        null|2016-05-05 10:00:00|\n",
      "|    1330887|     9997|        null|2015-08-14 00:00:00|\n",
      "|    1455691|     9997|        null|2016-05-17 10:00:00|\n",
      "|    1043914|     9997|        null|2016-01-12 08:00:00|\n",
      "|    1266959|     9997|        null|2016-04-05 07:00:00|\n",
      "|    1414526|     9996|         428|2016-05-10 04:00:00|\n",
      "|    1461020|     9996|         428|2016-05-19 00:00:00|\n",
      "+-----------+---------+------------+-------------------+\n",
      "only showing top 10 rows\n",
      "\n",
      "Total distinct entries:  2999334\n",
      "Total distinct documents:  2999334\n",
      "Total distinct sources:  14395\n",
      "Total null values in source_id:  2518\n",
      "Total distinct publishers:  1260\n",
      "Total null values in publisher_id:  64024\n"
     ]
    }
   ],
   "source": [
    "docMetDF.orderBy(docMetDF.source_id.desc()).show(10)\n",
    "print \"Total distinct entries: \", docMetDF.distinct().count()\n",
    "print \"Total distinct documents: \", docMetDF.select('document_id').distinct().count()\n",
    "print \"Total distinct sources: \", docMetDF.select('source_id').distinct().count()\n",
    "print \"Total null values in source_id: \", docMetDF.where(docMetDF.source_id.isNull()).count()\n",
    "print \"Total distinct publishers: \", docMetDF.select('publisher_id').distinct().count()\n",
    "print \"Total null values in publisher_id: \", docMetDF.where(docMetDF.publisher_id.isNull()).count()"
   ]
  },
  {
   "cell_type": "markdown",
   "metadata": {},
   "source": [
    "#### We observe a lot of null entries in the dataframe and we will have to figure out some way to deal these. Lets see if the documents are uniformly distributed across sources and publishers"
   ]
  },
  {
   "cell_type": "code",
   "execution_count": 8,
   "metadata": {
    "collapsed": false
   },
   "outputs": [
    {
     "name": "stdout",
     "output_type": "stream",
     "text": [
      "+------------+---------+-----+\n",
      "|publisher_id|source_id|count|\n",
      "+------------+---------+-----+\n",
      "|         999|     9224|   35|\n",
      "|         999|     1130| 1864|\n",
      "|         999|    13252|  182|\n",
      "|         999|     1513|  868|\n",
      "|         999|     9244|   20|\n",
      "|         999|     9246|   25|\n",
      "|         999|     9222|  213|\n",
      "|         999|     9245|   41|\n",
      "|         998|     3204|   46|\n",
      "|         997|      786|  120|\n",
      "|         996|     7242|    6|\n",
      "|         996|     3203|  527|\n",
      "|         995|     1191|  252|\n",
      "|         994|     8470|  111|\n",
      "|         993|     8438|    3|\n",
      "|         992|     8437|    8|\n",
      "|         991|     7774|   14|\n",
      "|         990|     8057|    2|\n",
      "|          99|    12459|    1|\n",
      "|          99|    14195|    1|\n",
      "+------------+---------+-----+\n",
      "only showing top 20 rows\n",
      "\n"
     ]
    }
   ],
   "source": [
    "docMetDFGrpBy = docMetDF.groupBy('publisher_id', 'source_id').count().sort('publisher_id', ascending=False)\n",
    "docMetDFGrpBy.show(20)"
   ]
  },
  {
   "cell_type": "markdown",
   "metadata": {},
   "source": [
    "#### We observe that a single publisher has multiple sources in the dataset and there are multiple documents for a common source_id"
   ]
  },
  {
   "cell_type": "markdown",
   "metadata": {},
   "source": [
    "#### b) documents_categories.csv"
   ]
  },
  {
   "cell_type": "code",
   "execution_count": 9,
   "metadata": {
    "collapsed": false
   },
   "outputs": [
    {
     "name": "stdout",
     "output_type": "stream",
     "text": [
      "documents_categories.csv\n",
      "Dataframe has  5481475  rows.\n",
      "+-----------+-----------+----------------+\n",
      "|document_id|category_id|confidence_level|\n",
      "+-----------+-----------+----------------+\n",
      "|    1595802|       1611|            0.92|\n",
      "|    1595802|       1610|            0.07|\n",
      "|    1524246|       1807|            0.92|\n",
      "|    1524246|       1608|            0.07|\n",
      "|    1617787|       1807|            0.92|\n",
      "+-----------+-----------+----------------+\n",
      "only showing top 5 rows\n",
      "\n"
     ]
    }
   ],
   "source": [
    "csvOverview(docCat)"
   ]
  },
  {
   "cell_type": "code",
   "execution_count": 10,
   "metadata": {
    "collapsed": false
   },
   "outputs": [],
   "source": [
    "docCatSchema = StructType(\n",
    "                    [StructField(\"document_id\", StringType(), True),\n",
    "                     StructField(\"category_id\", StringType(), True),\n",
    "                     StructField(\"confidence_level\", DoubleType(), True)])"
   ]
  },
  {
   "cell_type": "code",
   "execution_count": 11,
   "metadata": {
    "collapsed": false
   },
   "outputs": [
    {
     "name": "stdout",
     "output_type": "stream",
     "text": [
      "Number of distinct categories:  97\n",
      "Number of null values in category_id:  0\n",
      "Number of null values in confidence_level:  0\n"
     ]
    }
   ],
   "source": [
    "docCatDF = spark.read.schema(docCatSchema).options(header='true', inferschema='false', nullValue='\\\\N').csv(docCat)\n",
    "docCatDF.cache()\n",
    "print \"Number of distinct categories: \", docCatDF.select('category_id').distinct().count()\n",
    "print \"Number of null values in category_id: \", docCatDF.where(docCatDF.category_id.isNull()).count()\n",
    "print \"Number of null values in confidence_level: \", docCatDF.where(docCatDF.confidence_level.isNull()).count()"
   ]
  },
  {
   "cell_type": "markdown",
   "metadata": {},
   "source": [
    "#### Lets perform a principal component analysis on the document categories\n",
    "* The categories Id are converted into a label encoding. Each category will become a column and the confidence level its correspoding value"
   ]
  },
  {
   "cell_type": "code",
   "execution_count": 12,
   "metadata": {
    "collapsed": false
   },
   "outputs": [
    {
     "name": "stdout",
     "output_type": "stream",
     "text": [
      "+-----------+--------------------------------------+\n",
      "|document_id|allCat                                |\n",
      "+-----------+--------------------------------------+\n",
      "|2607913    |(97,[22,58],[0.029262198,0.384588888])|\n",
      "|2895246    |(97,[58,93],[0.021108913,0.277431428])|\n",
      "|2893289    |(97,[6,87],[0.326935156,0.024875501]) |\n",
      "|2839534    |(97,[41,77],[0.279544392,0.021269682])|\n",
      "|2754547    |(97,[58,93],[0.022578801,0.296749956])|\n",
      "|2809777    |(97,[1,10],[0.022785504,0.299466624]) |\n",
      "|2193382    |(97,[29,69],[0.380664812,0.028963627])|\n",
      "|2400765    |(97,[14,32],[0.026598026,0.349574056])|\n",
      "|1870980    |(97,[22,45],[0.021706055,0.28527958]) |\n",
      "|2047530    |(97,[58,62],[0.04065383,0.53430748])  |\n",
      "|1978585    |(97,[82,87],[0.020971111,0.275620316])|\n",
      "|1881095    |(97,[58,82],[0.07,0.92])              |\n",
      "|963473     |(97,[22,24],[0.06086479,0.79993724])  |\n",
      "|2939063    |(97,[1,53],[0.059303034,0.779411304]) |\n",
      "|514019     |(97,[8,39],[0.419301868,0.031903403]) |\n",
      "|4821       |(97,[50,59],[0.62939086,0.047888435]) |\n",
      "|1115316    |(97,[39,74],[0.07,0.92])              |\n",
      "|2375069    |(97,[30,36],[0.07,0.92])              |\n",
      "|2902860    |(97,[62,96],[0.92,0.07])              |\n",
      "|448129     |(97,[22,55],[0.058453255,0.76824278]) |\n",
      "+-----------+--------------------------------------+\n",
      "only showing top 20 rows\n",
      "\n"
     ]
    }
   ],
   "source": [
    "# Converting the doctCatDF into a new streched out dataframe by pivoting about the category_id\n",
    "docCatPivotDF = docCatDF.groupBy(\"document_id\").pivot(\"category_id\").agg(F.first(\"confidence_level\")).na.fill(0)\n",
    "# Combining all the 97 category dimensions to form a single vector\n",
    "colCatAssembler = VectorAssembler(inputCols=docCatPivotDF.columns[1:], outputCol=\"allCat\")\n",
    "docCatPivotConcDF = colCatAssembler.transform(docCatPivotDF).select(\"document_id\", \"allCat\")\n",
    "docCatPivotConcDF.cache()\n",
    "docCatPivotConcDF.show(truncate=False)"
   ]
  },
  {
   "cell_type": "markdown",
   "metadata": {},
   "source": [
    "#### PCA analysis"
   ]
  },
  {
   "cell_type": "code",
   "execution_count": 13,
   "metadata": {
    "collapsed": false
   },
   "outputs": [],
   "source": [
    "catPCAextracted = PCA(k=97, inputCol = \"allCat\", outputCol=\"pca_features\")\n",
    "catPCAmodel = catPCAextracted.fit(docCatPivotConcDF)\n",
    "catPCAExpVar = catPCAmodel.explainedVariance\n",
    "catPCAExpVarCumSum = np.cumsum(catPCAExpVar)\n",
    "# Plotting ExpVar and ExpVarCumSum\n",
    "%matplotlib inline"
   ]
  },
  {
   "cell_type": "code",
   "execution_count": 14,
   "metadata": {
    "collapsed": false
   },
   "outputs": [
    {
     "data": {
      "image/png": "[encoded data removed]",
      "text/plain": [
       "<matplotlib.figure.Figure at 0x7ffb67482290>"
      ]
     },
     "metadata": {},
     "output_type": "display_data"
    },
    {
     "data": {
      "image/png": "[encoded data removed]",
      "text/plain": [
       "<matplotlib.figure.Figure at 0x7ffb64a95810>"
      ]
     },
     "metadata": {},
     "output_type": "display_data"
    }
   ],
   "source": [
    "plt.plot(range(1, len(catPCAExpVar)+1), catPCAExpVar, 'r+--', label=\"Var Exp\")\n",
    "plt.axhline(.05*catPCAExpVar[0])\n",
    "plt.legend(loc=\"best\")\n",
    "plt.show()\n",
    "plt.plot(range(1, len(catPCAExpVarCumSum)+1), catPCAExpVarCumSum, 'g+-', label=\"CumSum Var Exp\")\n",
    "plt.legend(loc=\"best\")\n",
    "plt.show()"
   ]
  },
  {
   "cell_type": "markdown",
   "metadata": {},
   "source": [
    "#### c) document_topics.csv"
   ]
  },
  {
   "cell_type": "code",
   "execution_count": 15,
   "metadata": {
    "collapsed": false
   },
   "outputs": [
    {
     "name": "stdout",
     "output_type": "stream",
     "text": [
      "documents_topics.csv\n",
      "Dataframe has  11325960  rows.\n",
      "+-----------+--------+------------------+\n",
      "|document_id|topic_id|  confidence_level|\n",
      "+-----------+--------+------------------+\n",
      "|    1595802|     140|0.0731131601068925|\n",
      "|    1595802|      16|0.0594164867373976|\n",
      "|    1595802|     143|0.0454207537554526|\n",
      "|    1595802|     170|0.0388674285182961|\n",
      "|    1524246|     113| 0.196450402209685|\n",
      "+-----------+--------+------------------+\n",
      "only showing top 5 rows\n",
      "\n"
     ]
    }
   ],
   "source": [
    "csvOverview(docTop)"
   ]
  },
  {
   "cell_type": "code",
   "execution_count": 16,
   "metadata": {
    "collapsed": true
   },
   "outputs": [],
   "source": [
    "docTopSchema = StructType(\n",
    "                    [StructField(\"document_id\", StringType(), True),\n",
    "                     StructField(\"topic_id\", StringType(), True),\n",
    "                     StructField(\"confidence_level\", DoubleType(), True)])"
   ]
  },
  {
   "cell_type": "code",
   "execution_count": 17,
   "metadata": {
    "collapsed": false
   },
   "outputs": [
    {
     "name": "stdout",
     "output_type": "stream",
     "text": [
      "Number of distinct topics:  300\n",
      "Number of null values in topic_id:  0\n",
      "Number of null values in confidence_level:  0\n"
     ]
    }
   ],
   "source": [
    "docTopDF = spark.read.schema(docTopSchema).options(header='true', inferschema='false', nullValue='\\\\N').csv(docTop)\n",
    "docTopDF.cache()\n",
    "print \"Number of distinct topics: \", docTopDF.select('topic_id').distinct().count()\n",
    "print \"Number of null values in topic_id: \", docTopDF.where(docTopDF.topic_id.isNull()).count()\n",
    "print \"Number of null values in confidence_level: \", docTopDF.where(docTopDF.confidence_level.isNull()).count()"
   ]
  },
  {
   "cell_type": "code",
   "execution_count": 18,
   "metadata": {
    "collapsed": false
   },
   "outputs": [
    {
     "name": "stdout",
     "output_type": "stream",
     "text": [
      "+-----------+------------------------------------------------------------------------------------------------------------------------------------------------------------------------------------------------------------------------------------------------------------------+\n",
      "|document_id|allTop                                                                                                                                                                                                                                                            |\n",
      "+-----------+------------------------------------------------------------------------------------------------------------------------------------------------------------------------------------------------------------------------------------------------------------------+\n",
      "|210783     |(300,[17,47,68,77,134,177,180,251],[0.240005019033307,0.0191736882010477,0.0361051803729736,0.0198995300219963,0.00826431857508649,0.020124068804973,0.161245932558863,0.00858906232876556])                                                                      |\n",
      "|209567     |(300,[17,121,157,180,182,285,288],[0.207333370489851,0.00812344231602908,0.0273567074115963,0.070405371040389,0.0165297162239635,0.0103966326875686,0.0916539053143199])                                                                                          |\n",
      "|397667     |(300,[17,47,68,77,83,121,139,167,180,189,280],[0.161918432582519,0.0482076838256615,0.0485250788189584,0.0119005891170702,0.00912109028457069,0.0123347364959172,0.00967338023646833,0.0714302987323687,0.198442349812203,0.0169062220633644,0.00975731718765677])|\n",
      "|707151     |(300,[20,42,92,143,162,185,186,236,265],[0.0108170724208327,0.036803482696325,0.0174513821796344,0.00832406123337354,0.027675526390913,0.0357475157871555,0.00828729327554105,0.0104662436721681,0.014536934504803])                                              |\n",
      "|449982     |(300,[42,82,110,162,236,276,277],[0.0425052901285923,0.0103207116932829,0.0158117352005306,0.028911367743092,0.00918272857709212,0.0164207977870451,0.00855207507841975])                                                                                         |\n",
      "+-----------+------------------------------------------------------------------------------------------------------------------------------------------------------------------------------------------------------------------------------------------------------------------+\n",
      "only showing top 5 rows\n",
      "\n"
     ]
    }
   ],
   "source": [
    "# Converting the docTopDF into a new streched out dataframe by pivoting about the topic_id\n",
    "docTopPivotDF = docTopDF.groupBy(\"document_id\").pivot(\"topic_id\").agg(F.first(\"confidence_level\")).na.fill(0)\n",
    "colTopAssembler = VectorAssembler(inputCols=docTopPivotDF.columns[1:], outputCol=\"allTop\")\n",
    "docTopPivotConcDF = colTopAssembler.transform(docTopPivotDF).select(\"document_id\", \"allTop\")\n",
    "docTopPivotConcDF.cache()\n",
    "docTopPivotConcDF.show(n=5, truncate=False)"
   ]
  },
  {
   "cell_type": "code",
   "execution_count": 19,
   "metadata": {
    "collapsed": false
   },
   "outputs": [],
   "source": [
    "topPCAextracted = PCA(k=300, inputCol = \"allTop\", outputCol=\"pca_features\")\n",
    "topPCAmodel = topPCAextracted.fit(docTopPivotConcDF)\n",
    "topPCAExpVar = topPCAmodel.explainedVariance\n",
    "topPCAExpVarCumSum = np.cumsum(topPCAExpVar)\n",
    "%matplotlib inline"
   ]
  },
  {
   "cell_type": "code",
   "execution_count": 20,
   "metadata": {
    "collapsed": false
   },
   "outputs": [
    {
     "data": {
      "image/png": "[encoded data removed]",
      "text/plain": [
       "<matplotlib.figure.Figure at 0x7ffb649d5890>"
      ]
     },
     "metadata": {},
     "output_type": "display_data"
    },
    {
     "data": {
      "image/png": "[encoded data removed]",
      "text/plain": [
       "<matplotlib.figure.Figure at 0x7ffb649e4c90>"
      ]
     },
     "metadata": {},
     "output_type": "display_data"
    }
   ],
   "source": [
    "plt.plot(range(1, len(topPCAExpVar)+1), topPCAExpVar, 'r+--', label=\"Var Exp\")\n",
    "plt.axhline(0.05*topPCAExpVar[0])\n",
    "plt.legend(loc=\"best\")\n",
    "plt.show()\n",
    "plt.plot(range(1, len(topPCAExpVarCumSum)+1), topPCAExpVarCumSum, 'g+-', label=\"CumSum Var Exp\")\n",
    "plt.legend(loc=\"best\")\n",
    "plt.show()"
   ]
  },
  {
   "cell_type": "markdown",
   "metadata": {},
   "source": [
    "### We merge the docTopPivotConcDF and docCatPivotConcDF"
   ]
  },
  {
   "cell_type": "code",
   "execution_count": 23,
   "metadata": {
    "collapsed": false
   },
   "outputs": [
    {
     "name": "stdout",
     "output_type": "stream",
     "text": [
      "+-----------+--------------------+--------------------+\n",
      "|document_id|              allTop|              allCat|\n",
      "+-----------+--------------------+--------------------+\n",
      "|     100010|(300,[68,83,104,1...|(97,[39,74],[0.79...|\n",
      "|    1000240|(300,[44,50,106,1...|(97,[30,32],[0.07...|\n",
      "|    1000280|(300,[94,111,152,...|(97,[83,86],[0.92...|\n",
      "|    1000665|(300,[94,229],[0....|(97,[22,78],[0.02...|\n",
      "|    1000795|(300,[94,229],[0....|(97,[22,78],[0.02...|\n",
      "|    1000839|(300,[49,90,94,95...|(97,[22,78],[0.05...|\n",
      "|    1000888|(300,[50,261,273]...|(97,[92,95],[0.92...|\n",
      "|     100140|(300,[16,92,157],...|(97,[39,40],[0.61...|\n",
      "|    1001866|(300,[36,55,117,1...|(97,[58,62],[0.07...|\n",
      "|    1002011|(300,[23,32,43,52...|(97,[64,81],[0.04...|\n",
      "|    1002185|(300,[92,173,269]...|(97,[39,74],[0.04...|\n",
      "|     100227|(300,[92,157,168,...|(97,[39,74],[0.05...|\n",
      "|    1002442|(300,[131,156,171...|(97,[62,64],[0.92...|\n",
      "|     100263|(300,[61,83,92,26...|(97,[39,45],[0.54...|\n",
      "|    1002783|(300,[95,229],[0....|(97,[22,81],[0.02...|\n",
      "|    1002883|(300,[49,90,95,13...|(97,[22,63],[0.05...|\n",
      "|    1002887|(300,[94,116,229]...|(97,[22,83],[0.02...|\n",
      "|     100320|(300,[68,83,157,1...|(97,[39,74],[0.04...|\n",
      "|    1003202|(300,[10,35,84,12...|(97,[62,64],[0.07...|\n",
      "|    1003366|(300,[21,137,149,...|(97,[63,64],[0.05...|\n",
      "+-----------+--------------------+--------------------+\n",
      "only showing top 20 rows\n",
      "\n",
      "+-----------+--------------------+\n",
      "|document_id|           allTopCat|\n",
      "+-----------+--------------------+\n",
      "|     100010|(397,[68,83,104,1...|\n",
      "|    1000240|(397,[44,50,106,1...|\n",
      "|    1000280|(397,[94,111,152,...|\n",
      "|    1000665|(397,[94,229,322,...|\n",
      "|    1000795|(397,[94,229,322,...|\n",
      "|    1000839|(397,[49,90,94,95...|\n",
      "|    1000888|(397,[50,261,273,...|\n",
      "|     100140|(397,[16,92,157,3...|\n",
      "|    1001866|(397,[36,55,117,1...|\n",
      "|    1002011|(397,[23,32,43,52...|\n",
      "|    1002185|(397,[92,173,269,...|\n",
      "|     100227|(397,[92,157,168,...|\n",
      "|    1002442|(397,[131,156,171...|\n",
      "|     100263|(397,[61,83,92,26...|\n",
      "|    1002783|(397,[95,229,322,...|\n",
      "|    1002883|(397,[49,90,95,13...|\n",
      "|    1002887|(397,[94,116,229,...|\n",
      "|     100320|(397,[68,83,157,1...|\n",
      "|    1003202|(397,[10,35,84,12...|\n",
      "|    1003366|(397,[21,137,149,...|\n",
      "+-----------+--------------------+\n",
      "only showing top 20 rows\n",
      "\n"
     ]
    }
   ],
   "source": [
    "docTopCatDF = docTopPivotConcDF.join(docCatPivotConcDF, on=\"document_id\", how=\"inner\")\n",
    "docTopCatDF.cache()\n",
    "docTopCatDF.show()\n",
    "colTopCatAssembler = VectorAssembler(inputCols=[\"allTop\", \"allCat\"], outputCol=\"allTopCat\")\n",
    "docTopCatConcDF = colTopCatAssembler.transform(docTopCatDF).select(\"document_id\", \"allTopCat\")\n",
    "docTopCatConcDF.cache()\n",
    "docTopCatConcDF.show()"
   ]
  },
  {
   "cell_type": "code",
   "execution_count": 25,
   "metadata": {
    "collapsed": true
   },
   "outputs": [],
   "source": [
    "topcatPCAextracted = PCA(k=397, inputCol = \"allTopCat\", outputCol=\"topcat_pca_features\")\n",
    "topcatPCAmodel = topcatPCAextracted.fit(docTopCatConcDF)\n",
    "topcatPCAExpVar = topcatPCAmodel.explainedVariance\n",
    "topcatPCAExpVarCumSum = np.cumsum(topcatPCAExpVar)"
   ]
  },
  {
   "cell_type": "code",
   "execution_count": 26,
   "metadata": {
    "collapsed": false
   },
   "outputs": [
    {
     "data": {
      "image/png": "[encoded data removed]",
      "text/plain": [
       "<matplotlib.figure.Figure at 0x7ffb64b62450>"
      ]
     },
     "metadata": {},
     "output_type": "display_data"
    },
    {
     "data": {
      "image/png": "[encoded data removed]",
      "text/plain": [
       "<matplotlib.figure.Figure at 0x7ffb674825d0>"
      ]
     },
     "metadata": {},
     "output_type": "display_data"
    }
   ],
   "source": [
    "plt.plot(range(1, len(topcatPCAExpVar)+1), topcatPCAExpVar, 'r+--', label=\"Var Exp\")\n",
    "plt.axhline(0.05*topPCAExpVar[0])\n",
    "plt.legend(loc=\"best\")\n",
    "plt.show()\n",
    "plt.plot(range(1, len(topcatPCAExpVarCumSum)+1), topcatPCAExpVarCumSum, 'g+-', label=\"CumSum Var Exp\")\n",
    "plt.legend(loc=\"best\")\n",
    "plt.show()"
   ]
  },
  {
   "cell_type": "markdown",
   "metadata": {},
   "source": [
    "#### d) document_entities.csv"
   ]
  },
  {
   "cell_type": "code",
   "execution_count": 21,
   "metadata": {
    "collapsed": false
   },
   "outputs": [
    {
     "name": "stdout",
     "output_type": "stream",
     "text": [
      "documents_entities.csv\n",
      "Dataframe has  5537552  rows.\n",
      "+-----------+--------------------+-----------------+\n",
      "|document_id|           entity_id| confidence_level|\n",
      "+-----------+--------------------+-----------------+\n",
      "|    1524246|f9eec25663db4cd83...|0.672865314504701|\n",
      "|    1524246|55ebcfbdaff1d6f60...|0.399113728441297|\n",
      "|    1524246|839907a972930b17b...|0.392095749652966|\n",
      "|    1524246|04d8f9a1ad48f126d...|0.213996376305138|\n",
      "|    1617787|612a1d17685a498af...|0.386192829940441|\n",
      "+-----------+--------------------+-----------------+\n",
      "only showing top 5 rows\n",
      "\n"
     ]
    }
   ],
   "source": [
    "csvOverview(docEnt)"
   ]
  },
  {
   "cell_type": "code",
   "execution_count": 22,
   "metadata": {
    "collapsed": true
   },
   "outputs": [],
   "source": [
    "docEntSchema = StructType(\n",
    "                    [StructField(\"document_id\", StringType(), True),\n",
    "                     StructField(\"entity_id\", StringType(), True),\n",
    "                     StructField(\"confidence_level\", DoubleType(), True)])"
   ]
  },
  {
   "cell_type": "code",
   "execution_count": 23,
   "metadata": {
    "collapsed": false
   },
   "outputs": [
    {
     "name": "stdout",
     "output_type": "stream",
     "text": [
      "Number of entities entries:  5537552\n",
      "Number of distinct entities:  1326009\n",
      "Number of null values in entity_id:  0\n",
      "Number of null values in confidence_level:  0\n",
      "+-----------+--------------------+-----------------+\n",
      "|document_id|           entity_id| confidence_level|\n",
      "+-----------+--------------------+-----------------+\n",
      "|    1524246|f9eec25663db4cd83...|0.672865314504701|\n",
      "|    1524246|55ebcfbdaff1d6f60...|0.399113728441297|\n",
      "|    1524246|839907a972930b17b...|0.392095749652966|\n",
      "|    1524246|04d8f9a1ad48f126d...|0.213996376305138|\n",
      "|    1617787|612a1d17685a498af...|0.386192829940441|\n",
      "|    1617787|fb8c6cb0879e0de87...|0.364116465983032|\n",
      "|    1617787|793c6a6cf386edb82...|0.349168245516694|\n",
      "|    1617787|b525b84d5ed52a345...|0.287004519610819|\n",
      "|    1617787|758cb9cb3014607cb...|0.237956988738312|\n",
      "|    1617787|d523aaba6d3916f8b...|0.235798527030791|\n",
      "+-----------+--------------------+-----------------+\n",
      "only showing top 10 rows\n",
      "\n"
     ]
    }
   ],
   "source": [
    "docEntDF = spark.read.schema(docEntSchema).options(header='true', inferschema='false', nullValue='\\\\N').csv(docEnt)\n",
    "docEntDF.cache()\n",
    "print \"Number of entities entries: \", docEntDF.select('entity_id').count()\n",
    "print \"Number of distinct entities: \", docEntDF.select('entity_id').distinct().count()\n",
    "print \"Number of null values in entity_id: \", docEntDF.where(docEntDF.entity_id.isNull()).count()\n",
    "print \"Number of null values in confidence_level: \", docEntDF.where(docEntDF.confidence_level.isNull()).count()\n",
    "docEntDF.show(n=10)"
   ]
  },
  {
   "cell_type": "code",
   "execution_count": 24,
   "metadata": {
    "collapsed": false
   },
   "outputs": [],
   "source": [
    "# Converting the docEntDF into a new streched out dataframe by pivoting about the entity_id\n",
    "#docEntPivotDF = docEntLimitDF.groupBy(\"document_id\").pivot(\"entity_id\").agg(F.first(\"confidence_level\")).na.fill(0)\n",
    "#colEntAssembler = VectorAssembler(inputCols=docEntPivotDF.columns[1:], outputCol=\"allEnt\")\n",
    "#docEntPivotConcDF = colEntAssembler.transform(docEntPivotDF).select(\"document_id\", \"allEnt\")\n",
    "#docEntPivotConcDF.show(truncate=False)\n",
    "#sqlContext = SQLContext.getOrCreate(SparkContext.getOrCreate())\n",
    "#sqlContext.clearCache()"
   ]
  },
  {
   "cell_type": "markdown",
   "metadata": {},
   "source": [
    "#### Playing around with docEntDF"
   ]
  },
  {
   "cell_type": "code",
   "execution_count": null,
   "metadata": {
    "collapsed": true
   },
   "outputs": [],
   "source": []
  }
 ],
 "metadata": {
  "anaconda-cloud": {},
  "kernelspec": {
   "display_name": "PySpark",
   "language": "python",
   "name": "pyspark"
  },
  "language_info": {
   "codemirror_mode": {
    "name": "ipython",
    "version": 2
   },
   "file_extension": ".py",
   "mimetype": "text/x-python",
   "name": "python",
   "nbconvert_exporter": "python",
   "pygments_lexer": "ipython2",
   "version": "2.7.12"
  }
 },
 "nbformat": 4,
 "nbformat_minor": 1
}

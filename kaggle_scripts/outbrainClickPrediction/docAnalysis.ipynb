{
 "cells": [
  {
   "cell_type": "markdown",
   "metadata": {},
   "source": [
    "## This script performs an analysis of the 4 documents---.csv files in the data "
   ]
  },
  {
   "cell_type": "markdown",
   "metadata": {},
   "source": [
    "#### These files contain information about the content of the web page on display and the goal is to extract critical features for the webpages"
   ]
  },
  {
   "cell_type": "code",
   "execution_count": 1,
   "metadata": {
    "collapsed": true
   },
   "outputs": [],
   "source": [
    "# Importing the libraries\n",
    "import os\n",
    "from matplotlib import pyplot as plt\n",
    "from pyspark.sql.types import *\n",
    "import pyspark.sql.functions as F\n",
    "from pyspark.ml.linalg import Vectors\n",
    "from pyspark.ml.feature import *\n",
    "import numpy as np"
   ]
  },
  {
   "cell_type": "markdown",
   "metadata": {},
   "source": [
    "### 1) File paths:"
   ]
  },
  {
   "cell_type": "code",
   "execution_count": 2,
   "metadata": {
    "collapsed": true
   },
   "outputs": [],
   "source": [
    "docCat = \"gs://jupyterbucket/outbrainData/documents_categories.csv\"\n",
    "docEnt = \"gs://jupyterbucket/outbrainData/documents_entities.csv\"\n",
    "docMet = \"gs://jupyterbucket/outbrainData/documents_meta.csv\"\n",
    "docTop = \"gs://jupyterbucket/outbrainData/documents_topics.csv\""
   ]
  },
  {
   "cell_type": "code",
   "execution_count": 3,
   "metadata": {
    "collapsed": true
   },
   "outputs": [],
   "source": [
    "def csvOverview(fpath):\n",
    "    '''\n",
    "    Function presents a basic overview of the file fed in the argument\n",
    "    @params\n",
    "    fpath: Path to the csv file that needs to be analyzed\n",
    "    @returns \n",
    "    None\n",
    "    '''\n",
    "    # Reading the data as a spark dataframe\n",
    "    print fpath.split(\"/\")[-1]\n",
    "    fpathDF = spark.read.options(header='true', inferschema='true', nullValue='\\\\N') \\\n",
    "                .csv(fpath)\n",
    "    print \"Dataframe has \", fpathDF.count(), \" rows.\"\n",
    "    fpathDF.show(n=5)\n",
    "    \n",
    "    return None"
   ]
  },
  {
   "cell_type": "markdown",
   "metadata": {},
   "source": [
    "### 2) Analysis for each file:"
   ]
  },
  {
   "cell_type": "markdown",
   "metadata": {},
   "source": [
    "#### a) documents_meta.csv"
   ]
  },
  {
   "cell_type": "code",
   "execution_count": 4,
   "metadata": {
    "collapsed": false
   },
   "outputs": [
    {
     "name": "stdout",
     "output_type": "stream",
     "text": [
      "documents_meta.csv\n",
      "Dataframe has  2999334  rows.\n",
      "+-----------+---------+------------+--------------------+\n",
      "|document_id|source_id|publisher_id|        publish_time|\n",
      "+-----------+---------+------------+--------------------+\n",
      "|    1595802|        1|         603|2016-06-05 00:00:...|\n",
      "|    1524246|        1|         603|2016-05-26 11:00:...|\n",
      "|    1617787|        1|         603|2016-05-27 00:00:...|\n",
      "|    1615583|        1|         603|2016-06-07 00:00:...|\n",
      "|    1615460|        1|         603|2016-06-20 00:00:...|\n",
      "+-----------+---------+------------+--------------------+\n",
      "only showing top 5 rows\n",
      "\n"
     ]
    }
   ],
   "source": [
    "csvOverview(docMet)"
   ]
  },
  {
   "cell_type": "code",
   "execution_count": 5,
   "metadata": {
    "collapsed": false
   },
   "outputs": [],
   "source": [
    "docMetSchema = StructType(\n",
    "                    [StructField(\"document_id\", StringType(), True),\n",
    "                     StructField(\"source_id\", StringType(), True),\n",
    "                     StructField(\"publisher_id\", StringType(), True),\n",
    "                     StructField(\"publish_time\", StringType(), True)])"
   ]
  },
  {
   "cell_type": "code",
   "execution_count": 6,
   "metadata": {
    "collapsed": false
   },
   "outputs": [
    {
     "data": {
      "text/plain": [
       "DataFrame[document_id: string, source_id: string, publisher_id: string, publish_time: string]"
      ]
     },
     "execution_count": 6,
     "metadata": {},
     "output_type": "execute_result"
    }
   ],
   "source": [
    "docMetDF = spark.read.schema(docMetSchema).options(header='true', inferschema='false', nullValue='\\\\N').csv(docMet)\n",
    "docMetDF.cache()"
   ]
  },
  {
   "cell_type": "code",
   "execution_count": 7,
   "metadata": {
    "collapsed": false
   },
   "outputs": [
    {
     "name": "stdout",
     "output_type": "stream",
     "text": [
      "+-----------+---------+------------+-------------------+\n",
      "|document_id|source_id|publisher_id|       publish_time|\n",
      "+-----------+---------+------------+-------------------+\n",
      "|    1171192|     9999|         155|2016-03-21 00:00:00|\n",
      "|    1385087|     9998|        1196|               null|\n",
      "|    1055593|     9998|        1196|               null|\n",
      "|    1398472|     9997|        null|2016-05-05 10:00:00|\n",
      "|    1330887|     9997|        null|2015-08-14 00:00:00|\n",
      "|    1455691|     9997|        null|2016-05-17 10:00:00|\n",
      "|    1043914|     9997|        null|2016-01-12 08:00:00|\n",
      "|    1266959|     9997|        null|2016-04-05 07:00:00|\n",
      "|    1414526|     9996|         428|2016-05-10 04:00:00|\n",
      "|    1461020|     9996|         428|2016-05-19 00:00:00|\n",
      "+-----------+---------+------------+-------------------+\n",
      "only showing top 10 rows\n",
      "\n",
      "Total distinct entries:  2999334\n",
      "Total distinct documents:  2999334\n",
      "Total distinct sources:  14395\n",
      "Total null values in source_id:  2518\n",
      "Total distinct publishers:  1260\n",
      "Total null values in publisher_id:  64024\n"
     ]
    }
   ],
   "source": [
    "docMetDF.orderBy(docMetDF.source_id.desc()).show(10)\n",
    "print \"Total distinct entries: \", docMetDF.distinct().count()\n",
    "print \"Total distinct documents: \", docMetDF.select('document_id').distinct().count()\n",
    "print \"Total distinct sources: \", docMetDF.select('source_id').distinct().count()\n",
    "print \"Total null values in source_id: \", docMetDF.where(docMetDF.source_id.isNull()).count()\n",
    "print \"Total distinct publishers: \", docMetDF.select('publisher_id').distinct().count()\n",
    "print \"Total null values in publisher_id: \", docMetDF.where(docMetDF.publisher_id.isNull()).count()"
   ]
  },
  {
   "cell_type": "markdown",
   "metadata": {},
   "source": [
    "#### We observe a lot of null entries in the dataframe and we will have to figure out some way to deal these. Lets see if the documents are uniformly distributed across sources and publishers"
   ]
  },
  {
   "cell_type": "code",
   "execution_count": 8,
   "metadata": {
    "collapsed": false
   },
   "outputs": [
    {
     "name": "stdout",
     "output_type": "stream",
     "text": [
      "+------------+---------+-----+\n",
      "|publisher_id|source_id|count|\n",
      "+------------+---------+-----+\n",
      "|         999|    13252|  182|\n",
      "|         999|     1130| 1864|\n",
      "|         999|     9244|   20|\n",
      "|         999|     9246|   25|\n",
      "|         999|     9224|   35|\n",
      "|         999|     1513|  868|\n",
      "|         999|     9245|   41|\n",
      "|         999|     9222|  213|\n",
      "|         998|     3204|   46|\n",
      "|         997|      786|  120|\n",
      "|         996|     3203|  527|\n",
      "|         996|     7242|    6|\n",
      "|         995|     1191|  252|\n",
      "|         994|     8470|  111|\n",
      "|         993|     8438|    3|\n",
      "|         992|     8437|    8|\n",
      "|         991|     7774|   14|\n",
      "|         990|     8057|    2|\n",
      "|          99|    12459|    1|\n",
      "|          99|      469| 2856|\n",
      "+------------+---------+-----+\n",
      "only showing top 20 rows\n",
      "\n"
     ]
    }
   ],
   "source": [
    "docMetDFGrpBy = docMetDF.groupBy('publisher_id', 'source_id').count().sort('publisher_id', ascending=False)\n",
    "docMetDFGrpBy.show(20)"
   ]
  },
  {
   "cell_type": "markdown",
   "metadata": {},
   "source": [
    "#### We observe that a single publisher has multiple sources in the dataset and there are multiple documents for a common source_id"
   ]
  },
  {
   "cell_type": "markdown",
   "metadata": {},
   "source": [
    "#### b) documents_categories.csv"
   ]
  },
  {
   "cell_type": "code",
   "execution_count": 9,
   "metadata": {
    "collapsed": false
   },
   "outputs": [
    {
     "name": "stdout",
     "output_type": "stream",
     "text": [
      "documents_categories.csv\n",
      "Dataframe has  5481475  rows.\n",
      "+-----------+-----------+----------------+\n",
      "|document_id|category_id|confidence_level|\n",
      "+-----------+-----------+----------------+\n",
      "|    1595802|       1611|            0.92|\n",
      "|    1595802|       1610|            0.07|\n",
      "|    1524246|       1807|            0.92|\n",
      "|    1524246|       1608|            0.07|\n",
      "|    1617787|       1807|            0.92|\n",
      "+-----------+-----------+----------------+\n",
      "only showing top 5 rows\n",
      "\n"
     ]
    }
   ],
   "source": [
    "csvOverview(docCat)"
   ]
  },
  {
   "cell_type": "code",
   "execution_count": 10,
   "metadata": {
    "collapsed": false
   },
   "outputs": [],
   "source": [
    "docCatSchema = StructType(\n",
    "                    [StructField(\"document_id\", StringType(), True),\n",
    "                     StructField(\"category_id\", StringType(), True),\n",
    "                     StructField(\"confidence_level\", DoubleType(), True)])"
   ]
  },
  {
   "cell_type": "code",
   "execution_count": 11,
   "metadata": {
    "collapsed": false
   },
   "outputs": [
    {
     "name": "stdout",
     "output_type": "stream",
     "text": [
      "Number of distinct categories:  97\n",
      "Number of null values in category_id:  0\n",
      "Number of null values in confidence_level:  0\n"
     ]
    }
   ],
   "source": [
    "docCatDF = spark.read.schema(docCatSchema).options(header='true', inferschema='false', nullValue='\\\\N').csv(docCat)\n",
    "docCatDF.cache()\n",
    "print \"Number of distinct categories: \", docCatDF.select('category_id').distinct().count()\n",
    "print \"Number of null values in category_id: \", docCatDF.where(docCatDF.category_id.isNull()).count()\n",
    "print \"Number of null values in confidence_level: \", docCatDF.where(docCatDF.confidence_level.isNull()).count()"
   ]
  },
  {
   "cell_type": "markdown",
   "metadata": {},
   "source": [
    "#### Lets perform a principal component analysis on the document categories\n",
    "* The categories Id are converted into a label encoding. Each category will become a column and the confidence level its correspoding value"
   ]
  },
  {
   "cell_type": "code",
   "execution_count": 12,
   "metadata": {
    "collapsed": false
   },
   "outputs": [
    {
     "name": "stdout",
     "output_type": "stream",
     "text": [
      "+-----------+--------------------------------------+\n",
      "|document_id|allCat                                |\n",
      "+-----------+--------------------------------------+\n",
      "|817926     |(97,[50,73],[0.92,0.07])              |\n",
      "|1237072    |(97,[40,55],[0.046051075,0.6052427])  |\n",
      "|680061     |(97,[22,55],[0.702439044,0.053446449])|\n",
      "|2198112    |(97,[78,81],[0.92,0.07])              |\n",
      "|2346197    |(97,[45,46],[0.284675876,0.021660121])|\n",
      "|2448924    |(97,[1,58],[0.043249101,0.568416756]) |\n",
      "|1841539    |(97,[58,63],[0.83465022,0.063505995]) |\n",
      "|917328     |(97,[39,48],[0.07,0.92])              |\n",
      "|274400     |(97,[37,39],[0.452203736,0.034406806])|\n",
      "|2976831    |(97,[81,83],[0.92,0.07])              |\n",
      "|2424128    |(97,[63,64],[0.92,0.07])              |\n",
      "|2348394    |(97,[81,86],[0.326633304,0.024852534])|\n",
      "|2199739    |(97,[72,81],[0.07,0.92])              |\n",
      "|2636761    |(97,[77,78],[0.039115041,0.514083396])|\n",
      "|761290     |(97,[21,27],[0.032110106,0.422018536])|\n",
      "|1527271    |(97,[5,27],[0.824387252,0.062725117]) |\n",
      "|902466     |(97,[22,26],[0.92,0.07])              |\n",
      "|2503057    |(97,[77,81],[0.07,0.92])              |\n",
      "|2745470    |(97,[32,36],[0.92,0.07])              |\n",
      "|1364369    |(97,[1,96],[0.92,0.07])               |\n",
      "+-----------+--------------------------------------+\n",
      "only showing top 20 rows\n",
      "\n"
     ]
    }
   ],
   "source": [
    "# Converting the doctCatDF into a new streched out dataframe by pivoting about the category_id\n",
    "docCatPivotDF = docCatDF.groupBy(\"document_id\").pivot(\"category_id\").agg(F.first(\"confidence_level\")).na.fill(0)\n",
    "# Combining all the 97 category dimensions to form a single vector\n",
    "colCatAssembler = VectorAssembler(inputCols=docCatPivotDF.columns[1:], outputCol=\"allCat\")\n",
    "docCatPivotConcDF = colCatAssembler.transform(docCatPivotDF).select(\"document_id\", \"allCat\")\n",
    "docCatPivotConcDF.cache()\n",
    "docCatPivotConcDF.show(truncate=False)"
   ]
  },
  {
   "cell_type": "markdown",
   "metadata": {},
   "source": [
    "#### PCA analysis"
   ]
  },
  {
   "cell_type": "code",
   "execution_count": 13,
   "metadata": {
    "collapsed": false
   },
   "outputs": [],
   "source": [
    "catPCAextracted = PCA(k=97, inputCol = \"allCat\", outputCol=\"pca_features\")\n",
    "catPCAmodel = catPCAextracted.fit(docCatPivotConcDF)\n",
    "catPCAExpVar = catPCAmodel.explainedVariance\n",
    "catPCAExpVarCumSum = np.cumsum(catPCAExpVar)\n",
    "# Plotting ExpVar and ExpVarCumSum\n",
    "%matplotlib inline"
   ]
  },
  {
   "cell_type": "code",
   "execution_count": 14,
   "metadata": {
    "collapsed": false
   },
   "outputs": [
    {
     "data": {
      "image/png": "[encoded data removed]",
      "text/plain": [
       "<matplotlib.figure.Figure at 0x7f9370c83390>"
      ]
     },
     "metadata": {},
     "output_type": "display_data"
    },
    {
     "data": {
      "image/png": "[encoded data removed]",
      "text/plain": [
       "<matplotlib.figure.Figure at 0x7f9370297810>"
      ]
     },
     "metadata": {},
     "output_type": "display_data"
    }
   ],
   "source": [
    "plt.plot(range(1, len(catPCAExpVar)+1), catPCAExpVar, 'r+--', label=\"Var Exp\")\n",
    "plt.axhline(.05*catPCAExpVar[0])\n",
    "plt.legend(loc=\"best\")\n",
    "plt.show()\n",
    "plt.plot(range(1, len(catPCAExpVarCumSum)+1), catPCAExpVarCumSum, 'g+-', label=\"CumSum Var Exp\")\n",
    "plt.legend(loc=\"best\")\n",
    "plt.show()"
   ]
  },
  {
   "cell_type": "markdown",
   "metadata": {},
   "source": [
    "#### c) document_topics.csv"
   ]
  },
  {
   "cell_type": "code",
   "execution_count": 15,
   "metadata": {
    "collapsed": false
   },
   "outputs": [
    {
     "name": "stdout",
     "output_type": "stream",
     "text": [
      "documents_topics.csv\n",
      "Dataframe has  11325960  rows.\n",
      "+-----------+--------+------------------+\n",
      "|document_id|topic_id|  confidence_level|\n",
      "+-----------+--------+------------------+\n",
      "|    1595802|     140|0.0731131601068925|\n",
      "|    1595802|      16|0.0594164867373976|\n",
      "|    1595802|     143|0.0454207537554526|\n",
      "|    1595802|     170|0.0388674285182961|\n",
      "|    1524246|     113| 0.196450402209685|\n",
      "+-----------+--------+------------------+\n",
      "only showing top 5 rows\n",
      "\n"
     ]
    }
   ],
   "source": [
    "csvOverview(docTop)"
   ]
  },
  {
   "cell_type": "code",
   "execution_count": 16,
   "metadata": {
    "collapsed": true
   },
   "outputs": [],
   "source": [
    "docTopSchema = StructType(\n",
    "                    [StructField(\"document_id\", StringType(), True),\n",
    "                     StructField(\"topic_id\", StringType(), True),\n",
    "                     StructField(\"confidence_level\", DoubleType(), True)])"
   ]
  },
  {
   "cell_type": "code",
   "execution_count": 17,
   "metadata": {
    "collapsed": false
   },
   "outputs": [
    {
     "name": "stdout",
     "output_type": "stream",
     "text": [
      "Number of distinct topics:  300\n",
      "Number of null values in topic_id:  0\n",
      "Number of null values in confidence_level:  0\n"
     ]
    }
   ],
   "source": [
    "docTopDF = spark.read.schema(docTopSchema).options(header='true', inferschema='false', nullValue='\\\\N').csv(docTop)\n",
    "docTopDF.cache()\n",
    "print \"Number of distinct topics: \", docTopDF.select('topic_id').distinct().count()\n",
    "print \"Number of null values in topic_id: \", docTopDF.where(docTopDF.topic_id.isNull()).count()\n",
    "print \"Number of null values in confidence_level: \", docTopDF.where(docTopDF.confidence_level.isNull()).count()"
   ]
  },
  {
   "cell_type": "code",
   "execution_count": 18,
   "metadata": {
    "collapsed": false
   },
   "outputs": [
    {
     "name": "stdout",
     "output_type": "stream",
     "text": [
      "+-----------+-------------------------------------------------------------------------------------------------------------------------------------------------------------------------------------------+\n",
      "|document_id|allTop                                                                                                                                                                                     |\n",
      "+-----------+-------------------------------------------------------------------------------------------------------------------------------------------------------------------------------------------+\n",
      "|709342     |(300,[12,17,55,152,167,180,283],[0.00878531318635259,0.238854354597996,0.00840546940667729,0.0115589266842911,0.0268987716327165,0.0896034835627721,0.0112840243190644])                   |\n",
      "|219750     |(300,[17,50,113,180,208,248,261],[0.0654181172999413,0.035159949153449,0.0466796630233099,0.096980703374755,0.0086439659245638,0.00913874022434772,0.00862733884775877])                   |\n",
      "|1055685    |(300,[2,42,165,291],[0.075480093041335,0.0144868064031414,0.0323688749819387,0.00832691574750905])                                                                                         |\n",
      "|478272     |(300,[1,16,68,83,92,121,180,215],[0.0173470279600906,0.0496625374152015,0.0469652023757887,0.0857414392723734,0.0584427584531064,0.0293350686638827,0.0291028660002525,0.0113168071644764])|\n",
      "|471105     |(300,[52,95,162,165,241],[0.0109818432263756,0.0365888164173625,0.0278566619586394,0.0352204592442707,0.00849841504222351])                                                                |\n",
      "+-----------+-------------------------------------------------------------------------------------------------------------------------------------------------------------------------------------------+\n",
      "only showing top 5 rows\n",
      "\n"
     ]
    }
   ],
   "source": [
    "# Converting the docTopDF into a new streched out dataframe by pivoting about the topic_id\n",
    "docTopPivotDF = docTopDF.groupBy(\"document_id\").pivot(\"topic_id\").agg(F.first(\"confidence_level\")).na.fill(0)\n",
    "colTopAssembler = VectorAssembler(inputCols=docTopPivotDF.columns[1:], outputCol=\"allTop\")\n",
    "docTopPivotConcDF = colTopAssembler.transform(docTopPivotDF).select(\"document_id\", \"allTop\")\n",
    "docTopPivotConcDF.cache()\n",
    "docTopPivotConcDF.show(n=5, truncate=False)"
   ]
  },
  {
   "cell_type": "code",
   "execution_count": 19,
   "metadata": {
    "collapsed": false
   },
   "outputs": [],
   "source": [
    "topPCAextracted = PCA(k=300, inputCol = \"allTop\", outputCol=\"pca_features\")\n",
    "topPCAmodel = topPCAextracted.fit(docTopPivotConcDF)\n",
    "topPCAExpVar = topPCAmodel.explainedVariance\n",
    "topPCAExpVarCumSum = np.cumsum(topPCAExpVar)\n",
    "%matplotlib inline"
   ]
  },
  {
   "cell_type": "code",
   "execution_count": 20,
   "metadata": {
    "collapsed": false
   },
   "outputs": [
    {
     "data": {
      "image/png": "[encoded data removed]",
      "text/plain": [
       "<matplotlib.figure.Figure at 0x7f93701e98d0>"
      ]
     },
     "metadata": {},
     "output_type": "display_data"
    },
    {
     "data": {
      "image/png": "[encoded data removed]",
      "text/plain": [
       "<matplotlib.figure.Figure at 0x7f937015fa50>"
      ]
     },
     "metadata": {},
     "output_type": "display_data"
    }
   ],
   "source": [
    "plt.plot(range(1, len(topPCAExpVar)+1), topPCAExpVar, 'r+--', label=\"Var Exp\")\n",
    "plt.axhline(0.05*topPCAExpVar[0])\n",
    "plt.legend(loc=\"best\")\n",
    "plt.show()\n",
    "plt.plot(range(1, len(topPCAExpVarCumSum)+1), topPCAExpVarCumSum, 'g+-', label=\"CumSum Var Exp\")\n",
    "plt.legend(loc=\"best\")\n",
    "plt.show()"
   ]
  },
  {
   "cell_type": "markdown",
   "metadata": {},
   "source": [
    "#### d) document_entities.csv"
   ]
  },
  {
   "cell_type": "code",
   "execution_count": 21,
   "metadata": {
    "collapsed": false
   },
   "outputs": [
    {
     "name": "stdout",
     "output_type": "stream",
     "text": [
      "documents_entities.csv\n",
      "Dataframe has  5537552  rows.\n",
      "+-----------+--------------------+-----------------+\n",
      "|document_id|           entity_id| confidence_level|\n",
      "+-----------+--------------------+-----------------+\n",
      "|    1524246|f9eec25663db4cd83...|0.672865314504701|\n",
      "|    1524246|55ebcfbdaff1d6f60...|0.399113728441297|\n",
      "|    1524246|839907a972930b17b...|0.392095749652966|\n",
      "|    1524246|04d8f9a1ad48f126d...|0.213996376305138|\n",
      "|    1617787|612a1d17685a498af...|0.386192829940441|\n",
      "+-----------+--------------------+-----------------+\n",
      "only showing top 5 rows\n",
      "\n"
     ]
    }
   ],
   "source": [
    "csvOverview(docEnt)"
   ]
  },
  {
   "cell_type": "code",
   "execution_count": 22,
   "metadata": {
    "collapsed": true
   },
   "outputs": [],
   "source": [
    "docEntSchema = StructType(\n",
    "                    [StructField(\"document_id\", StringType(), True),\n",
    "                     StructField(\"entity_id\", StringType(), True),\n",
    "                     StructField(\"confidence_level\", DoubleType(), True)])"
   ]
  },
  {
   "cell_type": "code",
   "execution_count": 23,
   "metadata": {
    "collapsed": false
   },
   "outputs": [
    {
     "name": "stdout",
     "output_type": "stream",
     "text": [
      "Number of distinct entities:  1326009\n",
      "Number of null values in entity_id:  0\n",
      "Number of null values in confidence_level:  0\n"
     ]
    }
   ],
   "source": [
    "docEntDF = spark.read.schema(docEntSchema).options(header='true', inferschema='false', nullValue='\\\\N').csv(docEnt)\n",
    "docEntDF.cache()\n",
    "docEntLimitDF = docEntDF.limit(20)\n",
    "docEntLimitDF.cache()\n",
    "print \"Number of distinct entities: \", docEntDF.select('entity_id').distinct().count()\n",
    "print \"Number of null values in entity_id: \", docEntDF.where(docEntDF.entity_id.isNull()).count()\n",
    "print \"Number of null values in confidence_level: \", docEntDF.where(docEntDF.confidence_level.isNull()).count()"
   ]
  },
  {
   "cell_type": "code",
   "execution_count": 24,
   "metadata": {
    "collapsed": false
   },
   "outputs": [],
   "source": [
    "# Converting the docEntDF into a new streched out dataframe by pivoting about the entity_id\n",
    "#docEntPivotDF = docEntLimitDF.groupBy(\"document_id\").pivot(\"entity_id\").agg(F.first(\"confidence_level\")).na.fill(0)\n",
    "#colEntAssembler = VectorAssembler(inputCols=docEntPivotDF.columns[1:], outputCol=\"allEnt\")\n",
    "#docEntPivotConcDF = colEntAssembler.transform(docEntPivotDF).select(\"document_id\", \"allEnt\")\n",
    "#docEntPivotConcDF.show(truncate=False)"
   ]
  },
  {
   "cell_type": "markdown",
   "metadata": {},
   "source": [
    "### Some Testing Codes"
   ]
  },
  {
   "cell_type": "code",
   "execution_count": 25,
   "metadata": {
    "collapsed": false
   },
   "outputs": [],
   "source": [
    "#from pyspark.ml.feature import *\n",
    "#from pyspark.ml.linalg import Vectors\n",
    "#from pyspark.ml.feature import VectorAssembler\n",
    "\n",
    "#data = [(0.0, 1.0, 0.0, 7.0, 0.0,),\n",
    "#        (2.0, 0.0, 3.0, 4.0, 5.0),\n",
    "#        (4.0, 0.0, 0.0, 6.0, 7.0)]\n",
    "#df = sqlContext.createDataFrame(data,[\"f1\", \"f2\", \"f3\", \"f4\", \"f5\"])\n",
    "#df.show()\n",
    "#assembler = VectorAssembler(inputCols=[\"f1\", \"f2\", \"f3\", \"f4\", \"f5\"], outputCol=\"features\")\n",
    "#output = assembler.transform(df)\n",
    "#pca_extracted = PCA(k=5, inputCol = \"features\", outputCol=\"pca_features\")\n",
    "#model = pca_extracted.fit(output)\n",
    "#model.transform(output).collect()\n",
    "#output.show(truncate=False)\n",
    "#model.explainedVariance\n"
   ]
  },
  {
   "cell_type": "code",
   "execution_count": 26,
   "metadata": {
    "collapsed": false
   },
   "outputs": [],
   "source": [
    "#model.explainedVariance"
   ]
  },
  {
   "cell_type": "code",
   "execution_count": null,
   "metadata": {
    "collapsed": true
   },
   "outputs": [],
   "source": []
  }
 ],
 "metadata": {
  "anaconda-cloud": {},
  "kernelspec": {
   "display_name": "PySpark",
   "language": "python",
   "name": "pyspark"
  },
  "language_info": {
   "codemirror_mode": {
    "name": "ipython",
    "version": 2
   },
   "file_extension": ".py",
   "mimetype": "text/x-python",
   "name": "python",
   "nbconvert_exporter": "python",
   "pygments_lexer": "ipython2",
   "version": "2.7.12"
  }
 },
 "nbformat": 4,
 "nbformat_minor": 1
}

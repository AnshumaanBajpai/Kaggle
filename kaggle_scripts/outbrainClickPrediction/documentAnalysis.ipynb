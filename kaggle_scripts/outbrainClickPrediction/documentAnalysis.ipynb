{
 "cells": [
  {
   "cell_type": "markdown",
   "metadata": {},
   "source": [
    "# This script performs an analysis of the 4 documents---.csv files in the data"
   ]
  },
  {
   "cell_type": "markdown",
   "metadata": {},
   "source": [
    "## These files contain information about the content of the web page on display and the goal is to extract critical features for the webpages"
   ]
  },
  {
   "cell_type": "code",
   "execution_count": 1,
   "metadata": {
    "collapsed": false
   },
   "outputs": [
    {
     "name": "stderr",
     "output_type": "stream",
     "text": [
      "/usr/local/bin/miniconda/lib/python2.7/site-packages/matplotlib/font_manager.py:273: UserWarning: Matplotlib is building the font cache using fc-list. This may take a moment.\n",
      "  warnings.warn('Matplotlib is building the font cache using fc-list. This may take a moment.')\n"
     ]
    }
   ],
   "source": [
    "# Importing the libraries\n",
    "import os\n",
    "import numpy as np\n",
    "from matplotlib import pyplot as plt\n",
    "from pyspark.sql.types import *\n",
    "import pyspark.sql.functions as F\n",
    "from pyspark.ml.linalg import Vectors\n",
    "from pyspark.ml.feature import *\n",
    "%matplotlib inline"
   ]
  },
  {
   "cell_type": "markdown",
   "metadata": {
    "collapsed": true
   },
   "source": [
    "### 1) File Paths"
   ]
  },
  {
   "cell_type": "code",
   "execution_count": 2,
   "metadata": {
    "collapsed": true
   },
   "outputs": [],
   "source": [
    "docCat = \"gs://jupyterbucket/outbrainData/documents_categories.csv\"\n",
    "docEnt = \"gs://jupyterbucket/outbrainData/documents_entities.csv\"\n",
    "docMet = \"gs://jupyterbucket/outbrainData/documents_meta.csv\"\n",
    "docTop = \"gs://jupyterbucket/outbrainData/documents_topics.csv\""
   ]
  },
  {
   "cell_type": "markdown",
   "metadata": {},
   "source": [
    "### 2) Function to provide a basic overview of a given file"
   ]
  },
  {
   "cell_type": "code",
   "execution_count": 7,
   "metadata": {
    "collapsed": true
   },
   "outputs": [],
   "source": [
    "def csvOverview(fpath):\n",
    "    '''\n",
    "    Function presents a basic overview of the file fed in the argument\n",
    "    @params\n",
    "    fpath: Path to the csv file that needs to be analyzed\n",
    "    @returns \n",
    "    None\n",
    "    '''\n",
    "    # Reading the data as a spark dataframe\n",
    "    print fpath.split(\"/\")[-1]\n",
    "    fpathDF = spark.read.options(header='true', inferschema='true', nullValue='\\\\N') \\\n",
    "                .csv(fpath)\n",
    "    print \"Dataframe has \", fpathDF.count(), \" rows.\"\n",
    "    fpathDF.show(n=5)\n",
    "    fpathDF.printSchema()\n",
    "    \n",
    "    return None"
   ]
  },
  {
   "cell_type": "markdown",
   "metadata": {},
   "source": [
    "### 3) Analyzing individual files"
   ]
  },
  {
   "cell_type": "markdown",
   "metadata": {},
   "source": [
    "#### a) documents_meta.csv"
   ]
  },
  {
   "cell_type": "code",
   "execution_count": 8,
   "metadata": {
    "collapsed": false
   },
   "outputs": [
    {
     "name": "stdout",
     "output_type": "stream",
     "text": [
      "documents_meta.csv\n",
      "Dataframe has  2999334  rows.\n",
      "+-----------+---------+------------+--------------------+\n",
      "|document_id|source_id|publisher_id|        publish_time|\n",
      "+-----------+---------+------------+--------------------+\n",
      "|    1595802|        1|         603|2016-06-05 00:00:...|\n",
      "|    1524246|        1|         603|2016-05-26 11:00:...|\n",
      "|    1617787|        1|         603|2016-05-27 00:00:...|\n",
      "|    1615583|        1|         603|2016-06-07 00:00:...|\n",
      "|    1615460|        1|         603|2016-06-20 00:00:...|\n",
      "+-----------+---------+------------+--------------------+\n",
      "only showing top 5 rows\n",
      "\n",
      "root\n",
      " |-- document_id: integer (nullable = true)\n",
      " |-- source_id: integer (nullable = true)\n",
      " |-- publisher_id: integer (nullable = true)\n",
      " |-- publish_time: timestamp (nullable = true)\n",
      "\n"
     ]
    }
   ],
   "source": [
    "csvOverview(docMet)"
   ]
  },
  {
   "cell_type": "code",
   "execution_count": 9,
   "metadata": {
    "collapsed": true
   },
   "outputs": [],
   "source": [
    " docMetSchema = StructType(\n",
    "                    [StructField(\"document_id\", StringType(), True),\n",
    "                     StructField(\"source_id\", StringType(), True),\n",
    "                     StructField(\"publisher_id\", StringType(), True),\n",
    "                     StructField(\"publish_time\", StringType(), True)])\n",
    "docMetDF = spark.read.schema(docMetSchema).options(header='true', inferschema='false', nullValue='\\\\N').csv(docMet)"
   ]
  },
  {
   "cell_type": "code",
   "execution_count": 10,
   "metadata": {
    "collapsed": false
   },
   "outputs": [
    {
     "name": "stdout",
     "output_type": "stream",
     "text": [
      "+-----------+---------+------------+-------------------+\n",
      "|document_id|source_id|publisher_id|       publish_time|\n",
      "+-----------+---------+------------+-------------------+\n",
      "|    1171192|     9999|         155|2016-03-21 00:00:00|\n",
      "|    1385087|     9998|        1196|               null|\n",
      "|    1055593|     9998|        1196|               null|\n",
      "|    1330887|     9997|        null|2015-08-14 00:00:00|\n",
      "|    1266959|     9997|        null|2016-04-05 07:00:00|\n",
      "+-----------+---------+------------+-------------------+\n",
      "only showing top 5 rows\n",
      "\n",
      "Total distinct entries:  2999334\n",
      "Total distinct documents:  2999334\n",
      "Total distinct sources:  14395\n",
      "Total null values in source_id:  2518\n",
      "Total distinct publishers:  1260\n",
      "Total null values in publisher_id:  64024\n"
     ]
    }
   ],
   "source": [
    "docMetDF.orderBy(docMetDF.source_id.desc()).show(5)\n",
    "print \"Total distinct entries: \", docMetDF.distinct().count()\n",
    "print \"Total distinct documents: \", docMetDF.select('document_id').distinct().count()\n",
    "print \"Total distinct sources: \", docMetDF.select('source_id').distinct().count()\n",
    "print \"Total null values in source_id: \", docMetDF.where(docMetDF.source_id.isNull()).count()\n",
    "print \"Total distinct publishers: \", docMetDF.select('publisher_id').distinct().count()\n",
    "print \"Total null values in publisher_id: \", docMetDF.where(docMetDF.publisher_id.isNull()).count()"
   ]
  },
  {
   "cell_type": "markdown",
   "metadata": {},
   "source": [
    "#### We observe a lot of null entries in the dataframe and we will have to figure out some way to deal these. Lets see if the documents are uniformly distributed across sources and publishers"
   ]
  },
  {
   "cell_type": "code",
   "execution_count": 17,
   "metadata": {
    "collapsed": false
   },
   "outputs": [
    {
     "name": "stdout",
     "output_type": "stream",
     "text": [
      "+------------+---------+------+\n",
      "|publisher_id|source_id| count|\n",
      "+------------+---------+------+\n",
      "|         925|      722|235463|\n",
      "|         450|      948|211671|\n",
      "|         328|     3670| 41516|\n",
      "|         421|     3669| 30631|\n",
      "|          27|     3962| 23941|\n",
      "|         743|      417| 22432|\n",
      "|        1217|    12649| 20718|\n",
      "|         876|     5326| 20226|\n",
      "|         151|     3307| 17222|\n",
      "|         284|     1907| 16956|\n",
      "|         740|        3| 16709|\n",
      "|         253|      822| 16166|\n",
      "|         784|     6698| 15585|\n",
      "|         937|      475| 15530|\n",
      "|        1119|     4789| 14201|\n",
      "|        1025|     1032| 13822|\n",
      "|        1089|    10030| 13223|\n",
      "|         603|        1| 12867|\n",
      "|         607|      481| 12491|\n",
      "|          74|     1516| 12412|\n",
      "+------------+---------+------+\n",
      "only showing top 20 rows\n",
      "\n"
     ]
    }
   ],
   "source": [
    "docMetDFGrpBy = docMetDF.groupBy('publisher_id', 'source_id').count().sort('count', ascending=False)\n",
    "docMetDFGrpBy.show(20)\n",
    "#docMetcountList = docMetDFGrpBy.select(\"count\").rdd.map(lambda r: r(0)).collect()"
   ]
  },
  {
   "cell_type": "markdown",
   "metadata": {},
   "source": [
    "#### b) document_categories.csv"
   ]
  },
  {
   "cell_type": "code",
   "execution_count": 18,
   "metadata": {
    "collapsed": false
   },
   "outputs": [
    {
     "name": "stdout",
     "output_type": "stream",
     "text": [
      "documents_categories.csv\n",
      "Dataframe has  5481475  rows.\n",
      "+-----------+-----------+----------------+\n",
      "|document_id|category_id|confidence_level|\n",
      "+-----------+-----------+----------------+\n",
      "|    1595802|       1611|            0.92|\n",
      "|    1595802|       1610|            0.07|\n",
      "|    1524246|       1807|            0.92|\n",
      "|    1524246|       1608|            0.07|\n",
      "|    1617787|       1807|            0.92|\n",
      "+-----------+-----------+----------------+\n",
      "only showing top 5 rows\n",
      "\n",
      "root\n",
      " |-- document_id: integer (nullable = true)\n",
      " |-- category_id: integer (nullable = true)\n",
      " |-- confidence_level: double (nullable = true)\n",
      "\n"
     ]
    }
   ],
   "source": [
    "csvOverview(docCat)"
   ]
  },
  {
   "cell_type": "code",
   "execution_count": 19,
   "metadata": {
    "collapsed": false
   },
   "outputs": [
    {
     "name": "stdout",
     "output_type": "stream",
     "text": [
      "Number of distinct categories:  97\n",
      "Number of null values in category_id:  0\n",
      "Number of null values in confidence_level:  0\n"
     ]
    }
   ],
   "source": [
    "docCatSchema = StructType(\n",
    "                    [StructField(\"document_id\", StringType(), True),\n",
    "                     StructField(\"category_id\", StringType(), True),\n",
    "                     StructField(\"confidence_level\", DoubleType(), True)])\n",
    "\n",
    "docCatDF = spark.read.schema(docCatSchema).options(header='true', inferschema='false', nullValue='\\\\N').csv(docCat)\n",
    "docCatDF.cache()\n",
    "print \"Number of distinct categories: \", docCatDF.select('category_id').distinct().count()\n",
    "print \"Number of null values in category_id: \", docCatDF.where(docCatDF.category_id.isNull()).count()\n",
    "print \"Number of null values in confidence_level: \", docCatDF.where(docCatDF.confidence_level.isNull()).count()"
   ]
  },
  {
   "cell_type": "markdown",
   "metadata": {},
   "source": [
    "#### Lets perform a principal component analysis on the document categories\n",
    "* The categories Id are converted into a label encoding. Each category will become a column and the confidence level its correspoding value"
   ]
  },
  {
   "cell_type": "code",
   "execution_count": 20,
   "metadata": {
    "collapsed": false
   },
   "outputs": [
    {
     "name": "stdout",
     "output_type": "stream",
     "text": [
      "+-----------+--------------------------------------+\n",
      "|document_id|allCat                                |\n",
      "+-----------+--------------------------------------+\n",
      "|2266361    |(97,[78,81],[0.041319873,0.543061188])|\n",
      "|1535236    |(97,[11,44],[0.92,0.07])              |\n",
      "|1112780    |(97,[36,93],[0.07,0.92])              |\n",
      "|2475447    |(97,[58,62],[0.92,0.07])              |\n",
      "|995816     |(97,[58,81],[0.058751826,0.772166856])|\n",
      "+-----------+--------------------------------------+\n",
      "only showing top 5 rows\n",
      "\n"
     ]
    }
   ],
   "source": [
    "# Converting the doctCatDF into a new streched out dataframe by pivoting about the category_id\n",
    "docCatPivotDF = docCatDF.groupBy(\"document_id\").pivot(\"category_id\").agg(F.first(\"confidence_level\")).na.fill(0)\n",
    "\n",
    "# Combining all the 97 category dimensions to form a single vector\n",
    "colCatAssembler = VectorAssembler(inputCols=docCatPivotDF.columns[1:], outputCol=\"allCat\")\n",
    "docCatPivotConcDF = colCatAssembler.transform(docCatPivotDF).select(\"document_id\", \"allCat\")\n",
    "docCatPivotConcDF.cache()\n",
    "docCatPivotConcDF.show(truncate=False, n=5)"
   ]
  },
  {
   "cell_type": "markdown",
   "metadata": {},
   "source": [
    "#### At this stage we can uncache the docCatDF as we will not be needing it in the original form"
   ]
  },
  {
   "cell_type": "code",
   "execution_count": 21,
   "metadata": {
    "collapsed": false
   },
   "outputs": [
    {
     "data": {
      "text/plain": [
       "DataFrame[document_id: string, category_id: string, confidence_level: double]"
      ]
     },
     "execution_count": 21,
     "metadata": {},
     "output_type": "execute_result"
    }
   ],
   "source": [
    "docCatDF.unpersist()"
   ]
  },
  {
   "cell_type": "markdown",
   "metadata": {},
   "source": [
    "#### PCA analysis"
   ]
  },
  {
   "cell_type": "code",
   "execution_count": 22,
   "metadata": {
    "collapsed": true
   },
   "outputs": [],
   "source": [
    "catPCAextracted = PCA(k=97, inputCol = \"allCat\", outputCol=\"pca_features\")\n",
    "catPCAmodel = catPCAextracted.fit(docCatPivotConcDF)\n",
    "catPCAExpVar = catPCAmodel.explainedVariance\n",
    "catPCAExpVarCumSum = np.cumsum(catPCAExpVar)"
   ]
  },
  {
   "cell_type": "markdown",
   "metadata": {},
   "source": [
    "#### Plotting the variance and cumulative variance of the data explained by principal components"
   ]
  },
  {
   "cell_type": "code",
   "execution_count": 23,
   "metadata": {
    "collapsed": false
   },
   "outputs": [
    {
     "data": {
      "image/png": "[encoded data removed]",
      "text/plain": [
       "<matplotlib.figure.Figure at 0x7f57f8811c10>"
      ]
     },
     "metadata": {},
     "output_type": "display_data"
    },
    {
     "data": {
      "image/png": "[encoded data removed]",
      "text/plain": [
       "<matplotlib.figure.Figure at 0x7f57f3d684d0>"
      ]
     },
     "metadata": {},
     "output_type": "display_data"
    }
   ],
   "source": [
    "plt.plot(range(1, len(catPCAExpVar)+1), catPCAExpVar, 'r+--', label=\"Var Exp\")\n",
    "plt.axhline(.05*catPCAExpVar[0])\n",
    "plt.xlabel(\"No. of PCAs\")\n",
    "plt.legend(loc=\"best\")\n",
    "plt.show()\n",
    "plt.plot(range(1, len(catPCAExpVarCumSum)+1), catPCAExpVarCumSum, 'g+-', label=\"CumSum Var Exp\")\n",
    "plt.xlabel(\"No. of PCAs\")\n",
    "plt.legend(loc=\"best\")\n",
    "plt.show()"
   ]
  },
  {
   "cell_type": "markdown",
   "metadata": {},
   "source": [
    "#### c) document_topics.csv"
   ]
  },
  {
   "cell_type": "code",
   "execution_count": 24,
   "metadata": {
    "collapsed": false
   },
   "outputs": [
    {
     "name": "stdout",
     "output_type": "stream",
     "text": [
      "documents_topics.csv\n",
      "Dataframe has  11325960  rows.\n",
      "+-----------+--------+------------------+\n",
      "|document_id|topic_id|  confidence_level|\n",
      "+-----------+--------+------------------+\n",
      "|    1595802|     140|0.0731131601068925|\n",
      "|    1595802|      16|0.0594164867373976|\n",
      "|    1595802|     143|0.0454207537554526|\n",
      "|    1595802|     170|0.0388674285182961|\n",
      "|    1524246|     113| 0.196450402209685|\n",
      "+-----------+--------+------------------+\n",
      "only showing top 5 rows\n",
      "\n",
      "root\n",
      " |-- document_id: integer (nullable = true)\n",
      " |-- topic_id: integer (nullable = true)\n",
      " |-- confidence_level: double (nullable = true)\n",
      "\n"
     ]
    }
   ],
   "source": [
    "csvOverview(docTop)"
   ]
  },
  {
   "cell_type": "code",
   "execution_count": 25,
   "metadata": {
    "collapsed": false
   },
   "outputs": [
    {
     "name": "stdout",
     "output_type": "stream",
     "text": [
      "Number of distinct topics:  300\n",
      "Number of null values in topic_id:  0\n",
      "Number of null values in confidence_level:  0\n"
     ]
    }
   ],
   "source": [
    "docTopSchema = StructType(\n",
    "                    [StructField(\"document_id\", StringType(), True),\n",
    "                     StructField(\"topic_id\", StringType(), True),\n",
    "                     StructField(\"confidence_level\", DoubleType(), True)])\n",
    "\n",
    "docTopDF = spark.read.schema(docTopSchema).options(header='true', inferschema='false', nullValue='\\\\N').csv(docTop)\n",
    "docTopDF.cache()\n",
    "print \"Number of distinct topics: \", docTopDF.select('topic_id').distinct().count()\n",
    "print \"Number of null values in topic_id: \", docTopDF.where(docTopDF.topic_id.isNull()).count()\n",
    "print \"Number of null values in confidence_level: \", docTopDF.where(docTopDF.confidence_level.isNull()).count()"
   ]
  },
  {
   "cell_type": "markdown",
   "metadata": {},
   "source": [
    "#### One Hot kind of encoding"
   ]
  },
  {
   "cell_type": "code",
   "execution_count": 27,
   "metadata": {
    "collapsed": false
   },
   "outputs": [
    {
     "name": "stdout",
     "output_type": "stream",
     "text": [
      "+-----------+-------------------------------------------------------------------------------------------------------------------------------------------------------------------------------------------------------------------------------------------------------------------------------------------+\n",
      "|document_id|allTop                                                                                                                                                                                                                                                                                     |\n",
      "+-----------+-------------------------------------------------------------------------------------------------------------------------------------------------------------------------------------------------------------------------------------------------------------------------------------------+\n",
      "|1453211    |(300,[23,92,95,114,149,179,226,285],[0.0117641865936831,0.0237438615694819,0.0632274448012765,0.0252146523355652,0.00939616322772851,0.0507552116630331,0.0897487716162219,0.0145668146310146])                                                                                            |\n",
      "|199579     |(300,[55,83,84,114,157,173,207,213,215],[0.0107657971884667,0.0315767823973968,0.0231461320224651,0.0198856911884778,0.0489571797313887,0.00987609139957023,0.00919073432870438,0.0411043864386149,0.176583195737059])                                                                     |\n",
      "|954790     |(300,[61,131,139,192,244],[0.0881913953252473,0.0275657999433159,0.0181211511907508,0.0340498477871864,0.0296414921202992])                                                                                                                                                                |\n",
      "|1689651    |(300,[26,47,68,110,112,178,180,207,238,262,263,278],[0.00864455231249861,0.0698533025564863,0.0295268611871086,0.0416736188043668,0.0155061832865546,0.0458092445177696,0.0327643975645638,0.0148530343153536,0.0655576225003942,0.0100683095778241,0.0295716711913334,0.0539763373861722])|\n",
      "|1107939    |(300,[90,94,152,276],[0.0087977995545103,0.0877256202081382,0.0122764794983602,0.0109114356702128])                                                                                                                                                                                        |\n",
      "+-----------+-------------------------------------------------------------------------------------------------------------------------------------------------------------------------------------------------------------------------------------------------------------------------------------------+\n",
      "only showing top 5 rows\n",
      "\n"
     ]
    },
    {
     "data": {
      "text/plain": [
       "DataFrame[document_id: string, topic_id: string, confidence_level: double]"
      ]
     },
     "execution_count": 27,
     "metadata": {},
     "output_type": "execute_result"
    }
   ],
   "source": [
    "# Converting the docTopDF into a new streched out dataframe by pivoting about the topic_id\n",
    "docTopPivotDF = docTopDF.groupBy(\"document_id\").pivot(\"topic_id\").agg(F.first(\"confidence_level\")).na.fill(0)\n",
    "colTopAssembler = VectorAssembler(inputCols=docTopPivotDF.columns[1:], outputCol=\"allTop\")\n",
    "docTopPivotConcDF = colTopAssembler.transform(docTopPivotDF).select(\"document_id\", \"allTop\")\n",
    "docTopPivotConcDF.cache()\n",
    "docTopPivotConcDF.show(n=5, truncate=False)\n",
    "docTopDF.unpersist()"
   ]
  },
  {
   "cell_type": "markdown",
   "metadata": {},
   "source": [
    "#### PCA analysis"
   ]
  },
  {
   "cell_type": "code",
   "execution_count": 28,
   "metadata": {
    "collapsed": true
   },
   "outputs": [],
   "source": [
    "topPCAextracted = PCA(k=300, inputCol = \"allTop\", outputCol=\"pca_features\")\n",
    "topPCAmodel = topPCAextracted.fit(docTopPivotConcDF)\n",
    "topPCAExpVar = topPCAmodel.explainedVariance\n",
    "topPCAExpVarCumSum = np.cumsum(topPCAExpVar)"
   ]
  },
  {
   "cell_type": "code",
   "execution_count": 29,
   "metadata": {
    "collapsed": false
   },
   "outputs": [
    {
     "data": {
      "image/png": "[encoded data removed]",
      "text/plain": [
       "<matplotlib.figure.Figure at 0x7f57f3f15d50>"
      ]
     },
     "metadata": {},
     "output_type": "display_data"
    },
    {
     "data": {
      "image/png": "[encoded data removed]",
      "text/plain": [
       "<matplotlib.figure.Figure at 0x7f57f3efb150>"
      ]
     },
     "metadata": {},
     "output_type": "display_data"
    }
   ],
   "source": [
    "plt.plot(range(1, len(topPCAExpVar)+1), topPCAExpVar, 'r+--', label=\"Var Exp\")\n",
    "plt.axhline(0.05*topPCAExpVar[0])\n",
    "plt.xlabel(\"No. of PCAs\")\n",
    "plt.legend(loc=\"best\")\n",
    "plt.show()\n",
    "plt.plot(range(1, len(topPCAExpVarCumSum)+1), topPCAExpVarCumSum, 'g+-', label=\"CumSum Var Exp\")\n",
    "plt.legend(loc=\"best\")\n",
    "plt.xlabel(\"No. of PCAs\")\n",
    "plt.show()"
   ]
  },
  {
   "cell_type": "markdown",
   "metadata": {},
   "source": [
    "#### On looking at the two sets of plots that we have made so far, we can see that we need about 45 PCAs for document category and about 200 PCAs for document topic to explain ~ 90% of the total variance in the data. So overall it seems that we dont observe any distinct advantage by performing PCA. However, may be if we merge the two datasets on document id, we might see some added features since both topic and category somewhat refer to similar domain"
   ]
  },
  {
   "cell_type": "markdown",
   "metadata": {},
   "source": [
    "### Merging docTopPivotConcDF and docCatPivotConcDF"
   ]
  },
  {
   "cell_type": "code",
   "execution_count": 30,
   "metadata": {
    "collapsed": false
   },
   "outputs": [
    {
     "name": "stdout",
     "output_type": "stream",
     "text": [
      "+-----------+--------------------+--------------------+\n",
      "|document_id|              allTop|              allCat|\n",
      "+-----------+--------------------+--------------------+\n",
      "|     100010|(300,[68,83,104,1...|(97,[39,74],[0.79...|\n",
      "|    1000240|(300,[44,50,106,1...|(97,[30,32],[0.07...|\n",
      "|    1000280|(300,[94,111,152,...|(97,[83,86],[0.92...|\n",
      "|    1000665|(300,[94,229],[0....|(97,[22,78],[0.02...|\n",
      "|    1000795|(300,[94,229],[0....|(97,[22,78],[0.02...|\n",
      "|    1000839|(300,[49,90,94,95...|(97,[22,78],[0.05...|\n",
      "|    1000888|(300,[50,261,273]...|(97,[92,95],[0.92...|\n",
      "|     100140|(300,[16,92,157],...|(97,[39,40],[0.61...|\n",
      "|    1001866|(300,[36,55,117,1...|(97,[58,62],[0.07...|\n",
      "|    1002011|(300,[23,32,43,52...|(97,[64,81],[0.04...|\n",
      "|    1002185|(300,[92,173,269]...|(97,[39,74],[0.04...|\n",
      "|     100227|(300,[92,157,168,...|(97,[39,74],[0.05...|\n",
      "|    1002442|(300,[131,156,171...|(97,[62,64],[0.92...|\n",
      "|     100263|(300,[61,83,92,26...|(97,[39,45],[0.54...|\n",
      "|    1002783|(300,[95,229],[0....|(97,[22,81],[0.02...|\n",
      "|    1002883|(300,[49,90,95,13...|(97,[22,63],[0.05...|\n",
      "|    1002887|(300,[94,116,229]...|(97,[22,83],[0.02...|\n",
      "|     100320|(300,[68,83,157,1...|(97,[39,74],[0.04...|\n",
      "|    1003202|(300,[10,35,84,12...|(97,[62,64],[0.07...|\n",
      "|    1003366|(300,[21,137,149,...|(97,[63,64],[0.05...|\n",
      "+-----------+--------------------+--------------------+\n",
      "only showing top 20 rows\n",
      "\n",
      "+-----------+--------------------+\n",
      "|document_id|           allTopCat|\n",
      "+-----------+--------------------+\n",
      "|     100010|(397,[68,83,104,1...|\n",
      "|    1000240|(397,[44,50,106,1...|\n",
      "|    1000280|(397,[94,111,152,...|\n",
      "|    1000665|(397,[94,229,322,...|\n",
      "|    1000795|(397,[94,229,322,...|\n",
      "|    1000839|(397,[49,90,94,95...|\n",
      "|    1000888|(397,[50,261,273,...|\n",
      "|     100140|(397,[16,92,157,3...|\n",
      "|    1001866|(397,[36,55,117,1...|\n",
      "|    1002011|(397,[23,32,43,52...|\n",
      "|    1002185|(397,[92,173,269,...|\n",
      "|     100227|(397,[92,157,168,...|\n",
      "|    1002442|(397,[131,156,171...|\n",
      "|     100263|(397,[61,83,92,26...|\n",
      "|    1002783|(397,[95,229,322,...|\n",
      "|    1002883|(397,[49,90,95,13...|\n",
      "|    1002887|(397,[94,116,229,...|\n",
      "|     100320|(397,[68,83,157,1...|\n",
      "|    1003202|(397,[10,35,84,12...|\n",
      "|    1003366|(397,[21,137,149,...|\n",
      "+-----------+--------------------+\n",
      "only showing top 20 rows\n",
      "\n"
     ]
    }
   ],
   "source": [
    "docTopCatDF = docTopPivotConcDF.join(docCatPivotConcDF, on=\"document_id\", how=\"inner\")\n",
    "docTopCatDF.cache()\n",
    "docTopPivotConcDF.unpersist()\n",
    "docCatPivotConcDF.unpersist()\n",
    "docTopCatDF.show()\n",
    "colTopCatAssembler = VectorAssembler(inputCols=[\"allTop\", \"allCat\"], outputCol=\"allTopCat\")\n",
    "docTopCatConcDF = colTopCatAssembler.transform(docTopCatDF).select(\"document_id\", \"allTopCat\")\n",
    "docTopCatConcDF.cache()\n",
    "docTopCatConcDF.show()"
   ]
  },
  {
   "cell_type": "markdown",
   "metadata": {},
   "source": [
    "### Now we perform PCA on the merged dataset"
   ]
  },
  {
   "cell_type": "code",
   "execution_count": 31,
   "metadata": {
    "collapsed": true
   },
   "outputs": [],
   "source": [
    "topcatPCAextracted = PCA(k=397, inputCol = \"allTopCat\", outputCol=\"topcat_pca_features\")\n",
    "topcatPCAmodel = topcatPCAextracted.fit(docTopCatConcDF)\n",
    "topcatPCAExpVar = topcatPCAmodel.explainedVariance\n",
    "topcatPCAExpVarCumSum = np.cumsum(topcatPCAExpVar)"
   ]
  },
  {
   "cell_type": "code",
   "execution_count": 32,
   "metadata": {
    "collapsed": false
   },
   "outputs": [
    {
     "data": {
      "image/png": "[encoded data removed]",
      "text/plain": [
       "<matplotlib.figure.Figure at 0x7f57f3ba8750>"
      ]
     },
     "metadata": {},
     "output_type": "display_data"
    },
    {
     "data": {
      "image/png": "[encoded data removed]",
      "text/plain": [
       "<matplotlib.figure.Figure at 0x7f57f3a39e10>"
      ]
     },
     "metadata": {},
     "output_type": "display_data"
    }
   ],
   "source": [
    "plt.plot(range(1, len(topcatPCAExpVar)+1), topcatPCAExpVar, 'r+--', label=\"Var Exp\")\n",
    "plt.axhline(0.05*topPCAExpVar[0])\n",
    "plt.legend(loc=\"best\")\n",
    "plt.show()\n",
    "plt.plot(range(1, len(topcatPCAExpVarCumSum)+1), topcatPCAExpVarCumSum, 'g+-', label=\"CumSum Var Exp\")\n",
    "plt.axhline(0.9)\n",
    "plt.legend(loc=\"best\")\n",
    "plt.ylim(0, 1)\n",
    "plt.show()"
   ]
  },
  {
   "cell_type": "markdown",
   "metadata": {},
   "source": [
    "#### We observe that 50 PCAs from a total of 397 variables are able to explain over 90% variance in the data"
   ]
  },
  {
   "cell_type": "markdown",
   "metadata": {},
   "source": [
    "#### d) document_entities.csv"
   ]
  },
  {
   "cell_type": "code",
   "execution_count": 33,
   "metadata": {
    "collapsed": false
   },
   "outputs": [
    {
     "name": "stdout",
     "output_type": "stream",
     "text": [
      "documents_entities.csv\n",
      "Dataframe has  5537552  rows.\n",
      "+-----------+--------------------+-----------------+\n",
      "|document_id|           entity_id| confidence_level|\n",
      "+-----------+--------------------+-----------------+\n",
      "|    1524246|f9eec25663db4cd83...|0.672865314504701|\n",
      "|    1524246|55ebcfbdaff1d6f60...|0.399113728441297|\n",
      "|    1524246|839907a972930b17b...|0.392095749652966|\n",
      "|    1524246|04d8f9a1ad48f126d...|0.213996376305138|\n",
      "|    1617787|612a1d17685a498af...|0.386192829940441|\n",
      "+-----------+--------------------+-----------------+\n",
      "only showing top 5 rows\n",
      "\n",
      "root\n",
      " |-- document_id: integer (nullable = true)\n",
      " |-- entity_id: string (nullable = true)\n",
      " |-- confidence_level: double (nullable = true)\n",
      "\n"
     ]
    }
   ],
   "source": [
    "csvOverview(docEnt)"
   ]
  },
  {
   "cell_type": "code",
   "execution_count": 34,
   "metadata": {
    "collapsed": false
   },
   "outputs": [
    {
     "name": "stdout",
     "output_type": "stream",
     "text": [
      "Number of entities entries:  5537552\n",
      "Number of distinct entities:  1326009\n",
      "Number of null values in entity_id:  0\n",
      "Number of null values in confidence_level:  0\n",
      "+-----------+--------------------+-----------------+\n",
      "|document_id|           entity_id| confidence_level|\n",
      "+-----------+--------------------+-----------------+\n",
      "|    1524246|f9eec25663db4cd83...|0.672865314504701|\n",
      "|    1524246|55ebcfbdaff1d6f60...|0.399113728441297|\n",
      "|    1524246|839907a972930b17b...|0.392095749652966|\n",
      "|    1524246|04d8f9a1ad48f126d...|0.213996376305138|\n",
      "|    1617787|612a1d17685a498af...|0.386192829940441|\n",
      "|    1617787|fb8c6cb0879e0de87...|0.364116465983032|\n",
      "|    1617787|793c6a6cf386edb82...|0.349168245516694|\n",
      "|    1617787|b525b84d5ed52a345...|0.287004519610819|\n",
      "|    1617787|758cb9cb3014607cb...|0.237956988738312|\n",
      "|    1617787|d523aaba6d3916f8b...|0.235798527030791|\n",
      "+-----------+--------------------+-----------------+\n",
      "only showing top 10 rows\n",
      "\n"
     ]
    }
   ],
   "source": [
    "docEntSchema = StructType(\n",
    "                    [StructField(\"document_id\", StringType(), True),\n",
    "                     StructField(\"entity_id\", StringType(), True),\n",
    "                     StructField(\"confidence_level\", DoubleType(), True)])\n",
    "\n",
    "docEntDF = spark.read.schema(docEntSchema).options(header='true', inferschema='false', nullValue='\\\\N').csv(docEnt)\n",
    "docEntDF.cache()\n",
    "print \"Number of entities entries: \", docEntDF.select('entity_id').count()\n",
    "print \"Number of distinct entities: \", docEntDF.select('entity_id').distinct().count()\n",
    "print \"Number of null values in entity_id: \", docEntDF.where(docEntDF.entity_id.isNull()).count()\n",
    "print \"Number of null values in confidence_level: \", docEntDF.where(docEntDF.confidence_level.isNull()).count()\n",
    "docEntDF.show(n=10)"
   ]
  },
  {
   "cell_type": "markdown",
   "metadata": {},
   "source": [
    "#### As we see there are 1,326,009 total distinct entities and therefore the pivot function that helped us perform the one hot kind of encoding is giving some issues. There is a pivatMaxValues cutoff that is set to 10,000 and has to be changed manually in order to proceed and I haven't been able to find the variable and change it. So I am attempting to perform the same operation manually"
   ]
  },
  {
   "cell_type": "code",
   "execution_count": 40,
   "metadata": {
    "collapsed": false
   },
   "outputs": [
    {
     "name": "stdout",
     "output_type": "stream",
     "text": [
      "+-----------+--------------------+\n",
      "|document_id|    entityID_confLev|\n",
      "+-----------+--------------------+\n",
      "|     100010|[[e02abf90d2468f5...|\n",
      "|    1000280|[[0de673b866f813d...|\n",
      "|    1000665|[[2b52dff4d22372a...|\n",
      "|    1000795|[[0118cc1dfcd36e7...|\n",
      "|    1000839|[[ad7ba80ab1cdfed...|\n",
      "|    1000888|[[a40341963e70ad4...|\n",
      "|    1001866|[[f99562839169726...|\n",
      "|    1002011|[[2682af480e68d7d...|\n",
      "|    1002442|[[7abd44c1c64174b...|\n",
      "|     100263|[[9885667acfee3b6...|\n",
      "|    1002783|[[faa36def8ad1c2c...|\n",
      "|    1002883|[[c6512152d4ca624...|\n",
      "|    1002887|[[6ea3362c5bb6b29...|\n",
      "|    1003202|[[f61658abe2b31a9...|\n",
      "|    1003366|[[2c46b2cca2c07c1...|\n",
      "|    1003644|[[ce5785ac9c385bf...|\n",
      "|    1003663|[[d3198a7813bdb14...|\n",
      "|    1003665|[[d5133a0f2979d04...|\n",
      "|    1004042|[[ed674f1890f2ef9...|\n",
      "|    1004266|[[830fbd5b701b17f...|\n",
      "+-----------+--------------------+\n",
      "only showing top 20 rows\n",
      "\n"
     ]
    }
   ],
   "source": [
    "def getConfArray(entityList, tup2conv):\n",
    "    '''\n",
    "    Function converts the tup2conv into a one hot encoding using the refList\n",
    "    @params\n",
    "    entityList: a python list with names of all the entity_ids\n",
    "    tup2conv: list of tuple kind of object containing pair of (entity_id, confidence_level)\n",
    "    @returns\n",
    "    A sparse vector\n",
    "    '''    \n",
    "    entityIdx = []\n",
    "    confLevVal = []\n",
    "    for tupPair in tup2conv:\n",
    "        entityIdx.append(entityList.index(tupPair[0]))\n",
    "        confLevVal.append(tupPair[1])\n",
    "\n",
    "    return Vectors.sparse(len(entityList), entityIdx, confLevVal)\n",
    "\n",
    "def performPivot(dfname, groupByCol, pivotCol, values):\n",
    "    '''\n",
    "    This function performs a pivoting job similar to the ones performed above using pysparks pivot function.\n",
    "    @params\n",
    "    dfname: dataframe that needs to used to create a new df\n",
    "    pivotCol: column name around which it needs to be pivoted\n",
    "    values: column to be used for assigning values to the new variable\n",
    "    @returns\n",
    "    pyspark dataframe\n",
    "    '''\n",
    "    # Variable to define an output type for a userDefinedFunction udf\n",
    "    mergedSchema = ArrayType(StructType([\n",
    "                StructField(pivotCol, StringType(), True),\n",
    "                StructField(values, DoubleType(), True)]))\n",
    "    \n",
    "    # An array to be used for comparison while creating a sparse confidence_level vector for each document_id\n",
    "    entityArray = dfname.select(\"entity_id\").distinct().rdd.map(lambda r: r(0)).collect()\n",
    "    \n",
    "    # User Defined Functions\n",
    "    createTup = F.udf(lambda entID, conLev: [(entID[i], conLev[i]) for i in range(len(entID))], mergedSchema)\n",
    "    #createPivotedData = F.udf(lambda tupleVec: getConfArray(entityArray, tupleVec), ArrayType(FloatType(), containsNull=False))\n",
    "    \n",
    "    groupedDF = dfname.groupBy(groupByCol).agg(F.collect_list(pivotCol).alias(pivotCol+'s'), F.collect_list(values).alias(values+'s'))\n",
    "    groupedTupDF = groupedDF.select('document_id', createTup(groupedDF.entity_ids, groupedDF.confidence_levels).alias(\"entityID_confLev\"))\n",
    "    \n",
    "    groupedTupDF.show()\n",
    "    return None\n",
    "\n",
    "performPivot(docEntDF, \"document_id\", \"entity_id\", \"confidence_level\")"
   ]
  },
  {
   "cell_type": "code",
   "execution_count": null,
   "metadata": {
    "collapsed": true
   },
   "outputs": [],
   "source": []
  }
 ],
 "metadata": {
  "anaconda-cloud": {},
  "kernelspec": {
   "display_name": "PySpark",
   "language": "python",
   "name": "pyspark"
  },
  "language_info": {
   "codemirror_mode": {
    "name": "ipython",
    "version": 2
   },
   "file_extension": ".py",
   "mimetype": "text/x-python",
   "name": "python",
   "nbconvert_exporter": "python",
   "pygments_lexer": "ipython2",
   "version": "2.7.12"
  }
 },
 "nbformat": 4,
 "nbformat_minor": 1
}

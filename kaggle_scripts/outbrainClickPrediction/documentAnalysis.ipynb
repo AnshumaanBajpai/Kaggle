{
 "cells": [
  {
   "cell_type": "markdown",
   "metadata": {},
   "source": [
    "# This script performs an analysis of the 4 documents---.csv files in the data"
   ]
  },
  {
   "cell_type": "markdown",
   "metadata": {},
   "source": [
    "## These files contain information about the content of the web page on display and the goal is to extract critical features for the webpages"
   ]
  },
  {
   "cell_type": "code",
   "execution_count": 2,
   "metadata": {
    "collapsed": false
   },
   "outputs": [
    {
     "name": "stderr",
     "output_type": "stream",
     "text": [
      "/usr/local/bin/miniconda/lib/python2.7/site-packages/matplotlib/font_manager.py:273: UserWarning: Matplotlib is building the font cache using fc-list. This may take a moment.\n",
      "  warnings.warn('Matplotlib is building the font cache using fc-list. This may take a moment.')\n"
     ]
    }
   ],
   "source": [
    "# Importing the libraries\n",
    "import os\n",
    "import numpy as np\n",
    "from matplotlib import pyplot as plt\n",
    "from pyspark.sql.types import *\n",
    "import pyspark.sql.functions as F\n",
    "from pyspark.ml.linalg import Vectors\n",
    "from pyspark.ml.feature import *\n",
    "%matplotlib inline"
   ]
  },
  {
   "cell_type": "markdown",
   "metadata": {
    "collapsed": true
   },
   "source": [
    "### 1) File Paths"
   ]
  },
  {
   "cell_type": "code",
   "execution_count": 3,
   "metadata": {
    "collapsed": true
   },
   "outputs": [],
   "source": [
    "docCat = \"gs://jupyterbucket/outbrainData/documents_categories.csv\"\n",
    "docEnt = \"gs://jupyterbucket/outbrainData/documents_entities.csv\"\n",
    "docMet = \"gs://jupyterbucket/outbrainData/documents_meta.csv\"\n",
    "docTop = \"gs://jupyterbucket/outbrainData/documents_topics.csv\""
   ]
  },
  {
   "cell_type": "markdown",
   "metadata": {},
   "source": [
    "### 2) Function to provide a basic overview of a given file"
   ]
  },
  {
   "cell_type": "code",
   "execution_count": 4,
   "metadata": {
    "collapsed": true
   },
   "outputs": [],
   "source": [
    "def csvOverview(fpath):\n",
    "    '''\n",
    "    Function presents a basic overview of the file fed in the argument\n",
    "    @params\n",
    "    fpath: Path to the csv file that needs to be analyzed\n",
    "    @returns \n",
    "    None\n",
    "    '''\n",
    "    # Reading the data as a spark dataframe\n",
    "    print fpath.split(\"/\")[-1]\n",
    "    fpathDF = spark.read.options(header='true', inferschema='true', nullValue='\\\\N') \\\n",
    "                .csv(fpath)\n",
    "    print \"Dataframe has \", fpathDF.count(), \" rows.\"\n",
    "    fpathDF.show(n=5)\n",
    "    fpathDF.printSchema()\n",
    "    \n",
    "    return None"
   ]
  },
  {
   "cell_type": "markdown",
   "metadata": {},
   "source": [
    "### 3) Analyzing individual files"
   ]
  },
  {
   "cell_type": "markdown",
   "metadata": {},
   "source": [
    "#### a) documents_meta.csv"
   ]
  },
  {
   "cell_type": "code",
   "execution_count": 5,
   "metadata": {
    "collapsed": false
   },
   "outputs": [
    {
     "name": "stdout",
     "output_type": "stream",
     "text": [
      "documents_meta.csv\n",
      "Dataframe has  2999334  rows.\n",
      "+-----------+---------+------------+--------------------+\n",
      "|document_id|source_id|publisher_id|        publish_time|\n",
      "+-----------+---------+------------+--------------------+\n",
      "|    1595802|        1|         603|2016-06-05 00:00:...|\n",
      "|    1524246|        1|         603|2016-05-26 11:00:...|\n",
      "|    1617787|        1|         603|2016-05-27 00:00:...|\n",
      "|    1615583|        1|         603|2016-06-07 00:00:...|\n",
      "|    1615460|        1|         603|2016-06-20 00:00:...|\n",
      "+-----------+---------+------------+--------------------+\n",
      "only showing top 5 rows\n",
      "\n",
      "root\n",
      " |-- document_id: integer (nullable = true)\n",
      " |-- source_id: integer (nullable = true)\n",
      " |-- publisher_id: integer (nullable = true)\n",
      " |-- publish_time: timestamp (nullable = true)\n",
      "\n"
     ]
    }
   ],
   "source": [
    "csvOverview(docMet)"
   ]
  },
  {
   "cell_type": "code",
   "execution_count": 6,
   "metadata": {
    "collapsed": true
   },
   "outputs": [],
   "source": [
    " docMetSchema = StructType(\n",
    "                    [StructField(\"document_id\", StringType(), True),\n",
    "                     StructField(\"source_id\", IntegerType(), True),\n",
    "                     StructField(\"publisher_id\", IntegerType(), True),\n",
    "                     StructField(\"publish_time\", StringType(), True)])\n",
    "docMetDF = spark.read.schema(docMetSchema).options(header='true', inferschema='false', nullValue='\\\\N').csv(docMet).na.fill(0)"
   ]
  },
  {
   "cell_type": "code",
   "execution_count": 7,
   "metadata": {
    "collapsed": false
   },
   "outputs": [
    {
     "name": "stdout",
     "output_type": "stream",
     "text": [
      "+-----------+---------+------------+-------------------+\n",
      "|document_id|source_id|publisher_id|       publish_time|\n",
      "+-----------+---------+------------+-------------------+\n",
      "|    1616901|    14404|         716|2016-06-06 00:00:00|\n",
      "|    1610167|    14404|         716|2016-06-05 00:00:00|\n",
      "|    1438824|    14404|         716|2016-05-15 00:00:00|\n",
      "|    1439142|    14404|         716|2016-05-15 00:00:00|\n",
      "|    1439080|    14404|         716|2016-05-15 00:00:00|\n",
      "+-----------+---------+------------+-------------------+\n",
      "only showing top 5 rows\n",
      "\n",
      "Total distinct entries:  2999334\n",
      "Total distinct documents:  2999334\n",
      "Total distinct sources:  14395\n",
      "Total null values in source_id:  0\n",
      "Total distinct publishers:  1260\n",
      "Total null values in publisher_id:  0\n"
     ]
    }
   ],
   "source": [
    "docMetDF.orderBy(docMetDF.source_id.desc()).show(5)\n",
    "print \"Total distinct entries: \", docMetDF.distinct().count()\n",
    "print \"Total distinct documents: \", docMetDF.select('document_id').distinct().count()\n",
    "print \"Total distinct sources: \", docMetDF.select('source_id').distinct().count()\n",
    "print \"Total null values in source_id: \", docMetDF.where(docMetDF.source_id.isNull()).count()\n",
    "print \"Total distinct publishers: \", docMetDF.select('publisher_id').distinct().count()\n",
    "print \"Total null values in publisher_id: \", docMetDF.where(docMetDF.publisher_id.isNull()).count()"
   ]
  },
  {
   "cell_type": "markdown",
   "metadata": {},
   "source": [
    "#### We observe a lot of null entries in the dataframe and we will have to figure out some way to deal these. Lets see if the documents are uniformly distributed across sources and publishers"
   ]
  },
  {
   "cell_type": "code",
   "execution_count": 8,
   "metadata": {
    "collapsed": false
   },
   "outputs": [
    {
     "name": "stdout",
     "output_type": "stream",
     "text": [
      "+------------+---------+------+\n",
      "|publisher_id|source_id| count|\n",
      "+------------+---------+------+\n",
      "|         925|      722|235463|\n",
      "|         450|      948|211671|\n",
      "|         328|     3670| 41516|\n",
      "|         421|     3669| 30631|\n",
      "|          27|     3962| 23941|\n",
      "|         743|      417| 22432|\n",
      "|        1217|    12649| 20718|\n",
      "|         876|     5326| 20226|\n",
      "|         151|     3307| 17222|\n",
      "|         284|     1907| 16956|\n",
      "|         740|        3| 16709|\n",
      "|         253|      822| 16166|\n",
      "|         784|     6698| 15585|\n",
      "|         937|      475| 15530|\n",
      "|        1119|     4789| 14201|\n",
      "|        1025|     1032| 13822|\n",
      "|        1089|    10030| 13223|\n",
      "|         603|        1| 12867|\n",
      "|         607|      481| 12491|\n",
      "|          74|     1516| 12412|\n",
      "+------------+---------+------+\n",
      "only showing top 20 rows\n",
      "\n"
     ]
    }
   ],
   "source": [
    "docMetDFGrpBy = docMetDF.groupBy('publisher_id', 'source_id').count().sort('count', ascending=False)\n",
    "docMetDFGrpBy.show(20)\n",
    "#docMetcountList = docMetDFGrpBy.select(\"count\").rdd.map(lambda r: r(0)).collect()"
   ]
  },
  {
   "cell_type": "markdown",
   "metadata": {},
   "source": [
    "#### b) document_categories.csv"
   ]
  },
  {
   "cell_type": "code",
   "execution_count": 9,
   "metadata": {
    "collapsed": false
   },
   "outputs": [
    {
     "name": "stdout",
     "output_type": "stream",
     "text": [
      "documents_categories.csv\n",
      "Dataframe has  5481475  rows.\n",
      "+-----------+-----------+----------------+\n",
      "|document_id|category_id|confidence_level|\n",
      "+-----------+-----------+----------------+\n",
      "|    1595802|       1611|            0.92|\n",
      "|    1595802|       1610|            0.07|\n",
      "|    1524246|       1807|            0.92|\n",
      "|    1524246|       1608|            0.07|\n",
      "|    1617787|       1807|            0.92|\n",
      "+-----------+-----------+----------------+\n",
      "only showing top 5 rows\n",
      "\n",
      "root\n",
      " |-- document_id: integer (nullable = true)\n",
      " |-- category_id: integer (nullable = true)\n",
      " |-- confidence_level: double (nullable = true)\n",
      "\n"
     ]
    }
   ],
   "source": [
    "csvOverview(docCat)"
   ]
  },
  {
   "cell_type": "code",
   "execution_count": 10,
   "metadata": {
    "collapsed": false
   },
   "outputs": [
    {
     "name": "stdout",
     "output_type": "stream",
     "text": [
      "Number of distinct categories:  97\n",
      "Number of null values in category_id:  0\n",
      "Number of null values in confidence_level:  0\n"
     ]
    }
   ],
   "source": [
    "docCatSchema = StructType(\n",
    "                    [StructField(\"document_id\", StringType(), True),\n",
    "                     StructField(\"category_id\", StringType(), True),\n",
    "                     StructField(\"confidence_level\", DoubleType(), True)])\n",
    "\n",
    "docCatDF = spark.read.schema(docCatSchema).options(header='true', inferschema='false', nullValue='\\\\N').csv(docCat)\n",
    "docCatDF.cache()\n",
    "print \"Number of distinct categories: \", docCatDF.select('category_id').distinct().count()\n",
    "print \"Number of null values in category_id: \", docCatDF.where(docCatDF.category_id.isNull()).count()\n",
    "print \"Number of null values in confidence_level: \", docCatDF.where(docCatDF.confidence_level.isNull()).count()"
   ]
  },
  {
   "cell_type": "markdown",
   "metadata": {},
   "source": [
    "#### Lets perform a principal component analysis on the document categories\n",
    "* The categories Id are converted into a label encoding. Each category will become a column and the confidence level its correspoding value"
   ]
  },
  {
   "cell_type": "code",
   "execution_count": 11,
   "metadata": {
    "collapsed": false
   },
   "outputs": [
    {
     "name": "stdout",
     "output_type": "stream",
     "text": [
      "+-----------+--------------------------------------+\n",
      "|document_id|allCat                                |\n",
      "+-----------+--------------------------------------+\n",
      "|2420908    |(97,[13,58],[0.879022464,0.066882144])|\n",
      "|1712229    |(97,[22,24],[0.07,0.92])              |\n",
      "|318220     |(97,[39,74],[0.92,0.07])              |\n",
      "|317337     |(97,[39,74],[0.677989032,0.051586122])|\n",
      "|325582     |(97,[39,48],[0.586226024,0.044604154])|\n",
      "+-----------+--------------------------------------+\n",
      "only showing top 5 rows\n",
      "\n"
     ]
    }
   ],
   "source": [
    "# Converting the doctCatDF into a new streched out dataframe by pivoting about the category_id\n",
    "docCatPivotDF = docCatDF.groupBy(\"document_id\").pivot(\"category_id\").agg(F.first(\"confidence_level\")).na.fill(0)\n",
    "\n",
    "# Combining all the 97 category dimensions to form a single vector\n",
    "colCatAssembler = VectorAssembler(inputCols=docCatPivotDF.columns[1:], outputCol=\"allCat\")\n",
    "docCatPivotConcDF = colCatAssembler.transform(docCatPivotDF).select(\"document_id\", \"allCat\")\n",
    "docCatPivotConcDF.cache()\n",
    "docCatPivotConcDF.show(truncate=False, n=5)"
   ]
  },
  {
   "cell_type": "markdown",
   "metadata": {},
   "source": [
    "#### At this stage we can uncache the docCatDF as we will not be needing it in the original form"
   ]
  },
  {
   "cell_type": "code",
   "execution_count": 12,
   "metadata": {
    "collapsed": false
   },
   "outputs": [
    {
     "data": {
      "text/plain": [
       "DataFrame[document_id: string, category_id: string, confidence_level: double]"
      ]
     },
     "execution_count": 12,
     "metadata": {},
     "output_type": "execute_result"
    }
   ],
   "source": [
    "docCatDF.unpersist()"
   ]
  },
  {
   "cell_type": "markdown",
   "metadata": {},
   "source": [
    "#### PCA analysis"
   ]
  },
  {
   "cell_type": "code",
   "execution_count": 13,
   "metadata": {
    "collapsed": true
   },
   "outputs": [],
   "source": [
    "catPCAextracted = PCA(k=97, inputCol = \"allCat\", outputCol=\"pca_features\")\n",
    "catPCAmodel = catPCAextracted.fit(docCatPivotConcDF)\n",
    "catPCAExpVar = catPCAmodel.explainedVariance\n",
    "catPCAExpVarCumSum = np.cumsum(catPCAExpVar)"
   ]
  },
  {
   "cell_type": "markdown",
   "metadata": {},
   "source": [
    "#### Plotting the variance and cumulative variance of the data explained by principal components"
   ]
  },
  {
   "cell_type": "code",
   "execution_count": 14,
   "metadata": {
    "collapsed": false
   },
   "outputs": [
    {
     "data": {
      "image/png": "[encoded data removed]",
      "text/plain": [
       "<matplotlib.figure.Figure at 0x7f78a78b8a50>"
      ]
     },
     "metadata": {},
     "output_type": "display_data"
    },
    {
     "data": {
      "image/png": "[encoded data removed]",
      "text/plain": [
       "<matplotlib.figure.Figure at 0x7f78a78b0450>"
      ]
     },
     "metadata": {},
     "output_type": "display_data"
    }
   ],
   "source": [
    "plt.plot(range(1, len(catPCAExpVar)+1), catPCAExpVar, 'r+--', label=\"Var Exp\")\n",
    "plt.axhline(.05*catPCAExpVar[0])\n",
    "plt.xlabel(\"No. of PCAs\")\n",
    "plt.legend(loc=\"best\")\n",
    "plt.show()\n",
    "plt.plot(range(1, len(catPCAExpVarCumSum)+1), catPCAExpVarCumSum, 'g+-', label=\"CumSum Var Exp\")\n",
    "plt.xlabel(\"No. of PCAs\")\n",
    "plt.legend(loc=\"best\")\n",
    "plt.show()"
   ]
  },
  {
   "cell_type": "markdown",
   "metadata": {},
   "source": [
    "#### c) document_topics.csv"
   ]
  },
  {
   "cell_type": "code",
   "execution_count": 15,
   "metadata": {
    "collapsed": false
   },
   "outputs": [
    {
     "name": "stdout",
     "output_type": "stream",
     "text": [
      "documents_topics.csv\n",
      "Dataframe has  11325960  rows.\n",
      "+-----------+--------+------------------+\n",
      "|document_id|topic_id|  confidence_level|\n",
      "+-----------+--------+------------------+\n",
      "|    1595802|     140|0.0731131601068925|\n",
      "|    1595802|      16|0.0594164867373976|\n",
      "|    1595802|     143|0.0454207537554526|\n",
      "|    1595802|     170|0.0388674285182961|\n",
      "|    1524246|     113| 0.196450402209685|\n",
      "+-----------+--------+------------------+\n",
      "only showing top 5 rows\n",
      "\n",
      "root\n",
      " |-- document_id: integer (nullable = true)\n",
      " |-- topic_id: integer (nullable = true)\n",
      " |-- confidence_level: double (nullable = true)\n",
      "\n"
     ]
    }
   ],
   "source": [
    "csvOverview(docTop)"
   ]
  },
  {
   "cell_type": "code",
   "execution_count": 16,
   "metadata": {
    "collapsed": false
   },
   "outputs": [
    {
     "name": "stdout",
     "output_type": "stream",
     "text": [
      "Number of distinct topics:  300\n",
      "Number of null values in topic_id:  0\n",
      "Number of null values in confidence_level:  0\n"
     ]
    }
   ],
   "source": [
    "docTopSchema = StructType(\n",
    "                    [StructField(\"document_id\", StringType(), True),\n",
    "                     StructField(\"topic_id\", StringType(), True),\n",
    "                     StructField(\"confidence_level\", DoubleType(), True)])\n",
    "\n",
    "docTopDF = spark.read.schema(docTopSchema).options(header='true', inferschema='false', nullValue='\\\\N').csv(docTop)\n",
    "docTopDF.cache()\n",
    "print \"Number of distinct topics: \", docTopDF.select('topic_id').distinct().count()\n",
    "print \"Number of null values in topic_id: \", docTopDF.where(docTopDF.topic_id.isNull()).count()\n",
    "print \"Number of null values in confidence_level: \", docTopDF.where(docTopDF.confidence_level.isNull()).count()"
   ]
  },
  {
   "cell_type": "markdown",
   "metadata": {},
   "source": [
    "#### One Hot kind of encoding"
   ]
  },
  {
   "cell_type": "code",
   "execution_count": 17,
   "metadata": {
    "collapsed": false
   },
   "outputs": [
    {
     "name": "stdout",
     "output_type": "stream",
     "text": [
      "+-----------+--------------------------------------------------------------------------------------------------------------------------+\n",
      "|document_id|allTop                                                                                                                    |\n",
      "+-----------+--------------------------------------------------------------------------------------------------------------------------+\n",
      "|605765     |(300,[95,229],[0.026090193764958,0.0123160132577496])                                                                     |\n",
      "|632116     |(300,[10,95,148,244,294],[0.0459860321168254,0.0427199436894084,0.0103648829626402,0.014152294950135,0.00858523579913151])|\n",
      "|525091     |(300,[10,95,148,244],[0.0437619740682364,0.032309017818718,0.0112139711534899,0.0132544190974106])                        |\n",
      "|523989     |(300,[10,95,148,244,294],[0.0459860321168254,0.0427199436894084,0.0103648829626402,0.014152294950135,0.00858523579913151])|\n",
      "|550469     |(300,[10,95,148,244,294],[0.0459860321168254,0.0427199436894084,0.0103648829626402,0.014152294950135,0.00858523579913151])|\n",
      "+-----------+--------------------------------------------------------------------------------------------------------------------------+\n",
      "only showing top 5 rows\n",
      "\n"
     ]
    },
    {
     "data": {
      "text/plain": [
       "DataFrame[document_id: string, topic_id: string, confidence_level: double]"
      ]
     },
     "execution_count": 17,
     "metadata": {},
     "output_type": "execute_result"
    }
   ],
   "source": [
    "# Converting the docTopDF into a new streched out dataframe by pivoting about the topic_id\n",
    "docTopPivotDF = docTopDF.groupBy(\"document_id\").pivot(\"topic_id\").agg(F.first(\"confidence_level\")).na.fill(0)\n",
    "colTopAssembler = VectorAssembler(inputCols=docTopPivotDF.columns[1:], outputCol=\"allTop\")\n",
    "docTopPivotConcDF = colTopAssembler.transform(docTopPivotDF).select(\"document_id\", \"allTop\")\n",
    "docTopPivotConcDF.cache()\n",
    "docTopPivotConcDF.show(n=5, truncate=False)\n",
    "docTopDF.unpersist()"
   ]
  },
  {
   "cell_type": "markdown",
   "metadata": {},
   "source": [
    "#### PCA analysis"
   ]
  },
  {
   "cell_type": "code",
   "execution_count": 18,
   "metadata": {
    "collapsed": true
   },
   "outputs": [],
   "source": [
    "topPCAextracted = PCA(k=300, inputCol = \"allTop\", outputCol=\"pca_features\")\n",
    "topPCAmodel = topPCAextracted.fit(docTopPivotConcDF)\n",
    "topPCAExpVar = topPCAmodel.explainedVariance\n",
    "topPCAExpVarCumSum = np.cumsum(topPCAExpVar)"
   ]
  },
  {
   "cell_type": "code",
   "execution_count": 19,
   "metadata": {
    "collapsed": false
   },
   "outputs": [
    {
     "data": {
      "image/png": "[encoded data removed]",
      "text/plain": [
       "<matplotlib.figure.Figure at 0x7f78a7703290>"
      ]
     },
     "metadata": {},
     "output_type": "display_data"
    },
    {
     "data": {
      "image/png": "[encoded data removed]",
      "text/plain": [
       "<matplotlib.figure.Figure at 0x7f78a4e5fb50>"
      ]
     },
     "metadata": {},
     "output_type": "display_data"
    }
   ],
   "source": [
    "plt.plot(range(1, len(topPCAExpVar)+1), topPCAExpVar, 'r+--', label=\"Var Exp\")\n",
    "plt.axhline(0.05*topPCAExpVar[0])\n",
    "plt.xlabel(\"No. of PCAs\")\n",
    "plt.legend(loc=\"best\")\n",
    "plt.show()\n",
    "plt.plot(range(1, len(topPCAExpVarCumSum)+1), topPCAExpVarCumSum, 'g+-', label=\"CumSum Var Exp\")\n",
    "plt.legend(loc=\"best\")\n",
    "plt.xlabel(\"No. of PCAs\")\n",
    "plt.show()"
   ]
  },
  {
   "cell_type": "markdown",
   "metadata": {},
   "source": [
    "#### On looking at the two sets of plots that we have made so far, we can see that we need about 45 PCAs for document category and about 200 PCAs for document topic to explain ~ 90% of the total variance in the data. So overall it seems that we dont observe any distinct advantage by performing PCA. However, may be if we merge the two datasets on document id, we might see some added features since both topic and category somewhat refer to similar domain"
   ]
  },
  {
   "cell_type": "markdown",
   "metadata": {},
   "source": [
    "### Merging docTopPivotConcDF and docCatPivotConcDF"
   ]
  },
  {
   "cell_type": "code",
   "execution_count": 20,
   "metadata": {
    "collapsed": false
   },
   "outputs": [
    {
     "name": "stdout",
     "output_type": "stream",
     "text": [
      "+-----------+--------------------+--------------------+\n",
      "|document_id|              allTop|              allCat|\n",
      "+-----------+--------------------+--------------------+\n",
      "|     100010|(300,[68,83,104,1...|(97,[39,74],[0.79...|\n",
      "|    1000240|(300,[44,50,106,1...|(97,[30,32],[0.07...|\n",
      "|    1000280|(300,[94,111,152,...|(97,[83,86],[0.92...|\n",
      "|    1000665|(300,[94,229],[0....|(97,[22,78],[0.02...|\n",
      "|    1000795|(300,[94,229],[0....|(97,[22,78],[0.02...|\n",
      "|    1000839|(300,[49,90,94,95...|(97,[22,78],[0.05...|\n",
      "|    1000888|(300,[50,261,273]...|(97,[92,95],[0.92...|\n",
      "|     100140|(300,[16,92,157],...|(97,[39,40],[0.61...|\n",
      "|    1001866|(300,[36,55,117,1...|(97,[58,62],[0.07...|\n",
      "|    1002011|(300,[23,32,43,52...|(97,[64,81],[0.04...|\n",
      "|    1002185|(300,[92,173,269]...|(97,[39,74],[0.04...|\n",
      "|     100227|(300,[92,157,168,...|(97,[39,74],[0.05...|\n",
      "|    1002442|(300,[131,156,171...|(97,[62,64],[0.92...|\n",
      "|     100263|(300,[61,83,92,26...|(97,[39,45],[0.54...|\n",
      "|    1002783|(300,[95,229],[0....|(97,[22,81],[0.02...|\n",
      "|    1002883|(300,[49,90,95,13...|(97,[22,63],[0.05...|\n",
      "|    1002887|(300,[94,116,229]...|(97,[22,83],[0.02...|\n",
      "|     100320|(300,[68,83,157,1...|(97,[39,74],[0.04...|\n",
      "|    1003202|(300,[10,35,84,12...|(97,[62,64],[0.07...|\n",
      "|    1003366|(300,[21,137,149,...|(97,[63,64],[0.05...|\n",
      "+-----------+--------------------+--------------------+\n",
      "only showing top 20 rows\n",
      "\n",
      "+-----------+--------------------+\n",
      "|document_id|           allTopCat|\n",
      "+-----------+--------------------+\n",
      "|     100010|(397,[68,83,104,1...|\n",
      "|    1000240|(397,[44,50,106,1...|\n",
      "|    1000280|(397,[94,111,152,...|\n",
      "|    1000665|(397,[94,229,322,...|\n",
      "|    1000795|(397,[94,229,322,...|\n",
      "|    1000839|(397,[49,90,94,95...|\n",
      "|    1000888|(397,[50,261,273,...|\n",
      "|     100140|(397,[16,92,157,3...|\n",
      "|    1001866|(397,[36,55,117,1...|\n",
      "|    1002011|(397,[23,32,43,52...|\n",
      "|    1002185|(397,[92,173,269,...|\n",
      "|     100227|(397,[92,157,168,...|\n",
      "|    1002442|(397,[131,156,171...|\n",
      "|     100263|(397,[61,83,92,26...|\n",
      "|    1002783|(397,[95,229,322,...|\n",
      "|    1002883|(397,[49,90,95,13...|\n",
      "|    1002887|(397,[94,116,229,...|\n",
      "|     100320|(397,[68,83,157,1...|\n",
      "|    1003202|(397,[10,35,84,12...|\n",
      "|    1003366|(397,[21,137,149,...|\n",
      "+-----------+--------------------+\n",
      "only showing top 20 rows\n",
      "\n"
     ]
    }
   ],
   "source": [
    "docTopCatDF = docTopPivotConcDF.join(docCatPivotConcDF, on=\"document_id\", how=\"inner\")\n",
    "docTopCatDF.cache()\n",
    "docTopPivotConcDF.unpersist()\n",
    "docCatPivotConcDF.unpersist()\n",
    "docTopCatDF.show()\n",
    "colTopCatAssembler = VectorAssembler(inputCols=[\"allTop\", \"allCat\"], outputCol=\"allTopCat\")\n",
    "docTopCatConcDF = colTopCatAssembler.transform(docTopCatDF).select(\"document_id\", \"allTopCat\")\n",
    "docTopCatConcDF.cache()\n",
    "docTopCatConcDF.show()"
   ]
  },
  {
   "cell_type": "markdown",
   "metadata": {},
   "source": [
    "### Now we perform PCA on the merged dataset"
   ]
  },
  {
   "cell_type": "code",
   "execution_count": 21,
   "metadata": {
    "collapsed": true
   },
   "outputs": [],
   "source": [
    "topcatPCAextracted = PCA(k=397, inputCol = \"allTopCat\", outputCol=\"topcat_pca_features\")\n",
    "topcatPCAmodel = topcatPCAextracted.fit(docTopCatConcDF)\n",
    "topcatPCAExpVar = topcatPCAmodel.explainedVariance\n",
    "topcatPCAExpVarCumSum = np.cumsum(topcatPCAExpVar)"
   ]
  },
  {
   "cell_type": "code",
   "execution_count": 22,
   "metadata": {
    "collapsed": false
   },
   "outputs": [
    {
     "data": {
      "image/png": "[encoded data removed]",
      "text/plain": [
       "<matplotlib.figure.Figure at 0x7f78a7814c50>"
      ]
     },
     "metadata": {},
     "output_type": "display_data"
    },
    {
     "data": {
      "image/png": "[encoded data removed]",
      "text/plain": [
       "<matplotlib.figure.Figure at 0x7f78a4c6f590>"
      ]
     },
     "metadata": {},
     "output_type": "display_data"
    }
   ],
   "source": [
    "plt.plot(range(1, len(topcatPCAExpVar)+1), topcatPCAExpVar, 'r+--', label=\"Var Exp\")\n",
    "plt.axhline(0.05*topPCAExpVar[0])\n",
    "plt.legend(loc=\"best\")\n",
    "plt.show()\n",
    "plt.plot(range(1, len(topcatPCAExpVarCumSum)+1), topcatPCAExpVarCumSum, 'g+-', label=\"CumSum Var Exp\")\n",
    "plt.axhline(0.9)\n",
    "plt.legend(loc=\"best\")\n",
    "plt.ylim(0, 1)\n",
    "plt.show()"
   ]
  },
  {
   "cell_type": "markdown",
   "metadata": {},
   "source": [
    "#### We observe that 50 PCAs from a total of 397 variables are able to explain over 90% variance in the data"
   ]
  },
  {
   "cell_type": "markdown",
   "metadata": {},
   "source": [
    "#### d) document_entities.csv"
   ]
  },
  {
   "cell_type": "code",
   "execution_count": 23,
   "metadata": {
    "collapsed": false
   },
   "outputs": [
    {
     "name": "stdout",
     "output_type": "stream",
     "text": [
      "documents_entities.csv\n",
      "Dataframe has  5537552  rows.\n",
      "+-----------+--------------------+-----------------+\n",
      "|document_id|           entity_id| confidence_level|\n",
      "+-----------+--------------------+-----------------+\n",
      "|    1524246|f9eec25663db4cd83...|0.672865314504701|\n",
      "|    1524246|55ebcfbdaff1d6f60...|0.399113728441297|\n",
      "|    1524246|839907a972930b17b...|0.392095749652966|\n",
      "|    1524246|04d8f9a1ad48f126d...|0.213996376305138|\n",
      "|    1617787|612a1d17685a498af...|0.386192829940441|\n",
      "+-----------+--------------------+-----------------+\n",
      "only showing top 5 rows\n",
      "\n",
      "root\n",
      " |-- document_id: integer (nullable = true)\n",
      " |-- entity_id: string (nullable = true)\n",
      " |-- confidence_level: double (nullable = true)\n",
      "\n"
     ]
    }
   ],
   "source": [
    "csvOverview(docEnt)"
   ]
  },
  {
   "cell_type": "code",
   "execution_count": 24,
   "metadata": {
    "collapsed": false
   },
   "outputs": [
    {
     "name": "stdout",
     "output_type": "stream",
     "text": [
      "Number of entities entries:  5537552\n",
      "Number of distinct entities:  1326009\n",
      "Number of null values in entity_id:  0\n",
      "Number of null values in confidence_level:  0\n",
      "+-----------+--------------------+-----------------+\n",
      "|document_id|           entity_id| confidence_level|\n",
      "+-----------+--------------------+-----------------+\n",
      "|    1524246|f9eec25663db4cd83...|0.672865314504701|\n",
      "|    1524246|55ebcfbdaff1d6f60...|0.399113728441297|\n",
      "|    1524246|839907a972930b17b...|0.392095749652966|\n",
      "|    1524246|04d8f9a1ad48f126d...|0.213996376305138|\n",
      "|    1617787|612a1d17685a498af...|0.386192829940441|\n",
      "|    1617787|fb8c6cb0879e0de87...|0.364116465983032|\n",
      "|    1617787|793c6a6cf386edb82...|0.349168245516694|\n",
      "|    1617787|b525b84d5ed52a345...|0.287004519610819|\n",
      "|    1617787|758cb9cb3014607cb...|0.237956988738312|\n",
      "|    1617787|d523aaba6d3916f8b...|0.235798527030791|\n",
      "+-----------+--------------------+-----------------+\n",
      "only showing top 10 rows\n",
      "\n"
     ]
    }
   ],
   "source": [
    "docEntSchema = StructType(\n",
    "                    [StructField(\"document_id\", StringType(), True),\n",
    "                     StructField(\"entity_id\", StringType(), True),\n",
    "                     StructField(\"confidence_level\", DoubleType(), True)])\n",
    "\n",
    "docEntDF = spark.read.schema(docEntSchema).options(header='true', inferschema='false', nullValue='\\\\N').csv(docEnt)\n",
    "docEntDF.cache()\n",
    "print \"Number of entities entries: \", docEntDF.select('entity_id').count()\n",
    "print \"Number of distinct entities: \", docEntDF.select('entity_id').distinct().count()\n",
    "print \"Number of null values in entity_id: \", docEntDF.where(docEntDF.entity_id.isNull()).count()\n",
    "print \"Number of null values in confidence_level: \", docEntDF.where(docEntDF.confidence_level.isNull()).count()\n",
    "docEntDF.show(n=10)"
   ]
  },
  {
   "cell_type": "markdown",
   "metadata": {},
   "source": [
    "#### As we see there are 1,326,009 total distinct entities and therefore the pivot function that helped us perform the one hot kind of encoding is giving some issues. There is a pivatMaxValues cutoff that is set to 10,000 and has to be changed manually in order to proceed and I haven't been able to find the variable and change it. So I am attempting to perform the same operation manually"
   ]
  },
  {
   "cell_type": "code",
   "execution_count": 25,
   "metadata": {
    "collapsed": false
   },
   "outputs": [],
   "source": [
    "def getConfArray(entityList, tup2conv):\n",
    "    '''\n",
    "    Function converts the tup2conv into a one hot encoding using the refList\n",
    "    @params\n",
    "    entityList: a python list with names of all the entity_ids\n",
    "    tup2conv: list of tuple kind of object containing pair of (entity_id, confidence_level)\n",
    "    @returns\n",
    "    A sparse vector\n",
    "    '''    \n",
    "    entityIdx = []\n",
    "    confLevVal = []\n",
    "    for tupPair in tup2conv:\n",
    "        entityIdx.append(entityList.index(tupPair[0]))\n",
    "        confLevVal.append(tupPair[1])\n",
    "\n",
    "    return Vectors.sparse(len(entityList), entityIdx, confLevVal)\n",
    "\n",
    "def performPivot(dfname, groupByCol, pivotCol, values):\n",
    "    '''\n",
    "    This function performs a pivoting job similar to the ones performed above using pysparks pivot function.\n",
    "    @params\n",
    "    dfname: dataframe that needs to used to create a new df\n",
    "    pivotCol: column name around which it needs to be pivoted\n",
    "    values: column to be used for assigning values to the new variable\n",
    "    @returns\n",
    "    pyspark dataframe\n",
    "    '''\n",
    "    # Variable to define an output type for a userDefinedFunction udf\n",
    "    mergedSchema = ArrayType(StructType([\n",
    "                StructField(pivotCol, StringType(), True),\n",
    "                StructField(values, DoubleType(), True)]))\n",
    "    \n",
    "    # An array to be used for comparison while creating a sparse confidence_level vector for each document_id\n",
    "    entityArray = dfname.select(\"entity_id\").distinct().rdd.map(lambda r: r(0)).collect()\n",
    "    \n",
    "    # User Defined Functions\n",
    "    createTup = F.udf(lambda entID, conLev: [(entID[i], conLev[i]) for i in range(len(entID))], mergedSchema)\n",
    "    #createPivotedData = F.udf(lambda tupleVec: getConfArray(entityArray, tupleVec), ArrayType(FloatType(), containsNull=False))\n",
    "    \n",
    "    groupedDF = dfname.groupBy(groupByCol).agg(F.collect_list(pivotCol).alias(pivotCol+'s'), F.collect_list(values).alias(values+'s'))\n",
    "    groupedTupDF = groupedDF.select('document_id', createTup(groupedDF.entity_ids, groupedDF.confidence_levels).alias(\"entityID_confLev\"))\n",
    "    \n",
    "    groupedTupDF.show()\n",
    "    return None\n",
    "\n",
    "#performPivot(docEntDF, \"document_id\", \"entity_id\", \"confidence_level\")"
   ]
  },
  {
   "cell_type": "markdown",
   "metadata": {},
   "source": [
    "#### We find that there are too many distinct entities and therefore using the one hot encoding approach for entities is too cumbersome and is not feasible based on the computing resources available. So I look at the frequency of entity Ids and then depending on the distribution, I will label the ones which occur fewer than a certain criteria, I will assign it to a single \"other\" category"
   ]
  },
  {
   "cell_type": "code",
   "execution_count": 34,
   "metadata": {
    "collapsed": false
   },
   "outputs": [
    {
     "name": "stdout",
     "output_type": "stream",
     "text": [
      "+--------------------+------+\n",
      "|           entity_id| count|\n",
      "+--------------------+------+\n",
      "|bd16d44696774327e...|137055|\n",
      "|e3e4b172a6e3fe3a4...|126808|\n",
      "|4b7289d10fcf4499a...|124124|\n",
      "|3cfacc2fbdb261d00...| 23710|\n",
      "|024d2d0130c4b1737...| 21823|\n",
      "|896ebce354e38fd15...| 21617|\n",
      "|94101adfc2f6bccba...| 20260|\n",
      "|306e8bd0628115c99...| 19816|\n",
      "|98bf11f29dd0160f5...| 17069|\n",
      "|d551b0d2feb1f8a89...| 15033|\n",
      "|d5f978b0e26346b87...| 14753|\n",
      "|8fb694b25a41a6ffb...| 12335|\n",
      "|ac025f14f690261ef...| 12113|\n",
      "|a2563e5ab805a2f7c...| 11810|\n",
      "|9da9595caa381755c...| 11495|\n",
      "|7f77b6d24f62a1ad1...| 11179|\n",
      "|1834eb4deaf946beb...| 10533|\n",
      "|3a97c9eb9a642e38b...|  8859|\n",
      "|8e233b1d2cd2bfe82...|  8849|\n",
      "|172546fe32bad5183...|  8846|\n",
      "+--------------------+------+\n",
      "only showing top 20 rows\n",
      "\n"
     ]
    }
   ],
   "source": [
    "# docEntDF is the dataframe that we need to use\n",
    "docEntDFGrpByEnt = docEntDF.groupBy(\"entity_id\").count().sort('count', ascending=False)\n",
    "docEntDFGrpByEnt.show()\n",
    "# Generally, we should avoid using the collect function but in this case I know that the data isn't that massive\n",
    "entCountList = docEntDFGrpByEnt.select(\"count\").rdd.flatMap(lambda x: x).collect()"
   ]
  },
  {
   "cell_type": "markdown",
   "metadata": {},
   "source": [
    "### We can plot the frequency distribution of the entity ids and retain only the top 1000 ids (in the order of their frequency). We rename all the other entity Ids to \"other\""
   ]
  },
  {
   "cell_type": "code",
   "execution_count": 38,
   "metadata": {
    "collapsed": false
   },
   "outputs": [
    {
     "data": {
      "image/png": "[encoded data removed]",
      "text/plain": [
       "<matplotlib.figure.Figure at 0x7f78a4c66150>"
      ]
     },
     "metadata": {},
     "output_type": "display_data"
    },
    {
     "data": {
      "image/png": "[encoded data removed]",
      "text/plain": [
       "<matplotlib.figure.Figure at 0x7f78a78b0910>"
      ]
     },
     "metadata": {},
     "output_type": "display_data"
    },
    {
     "data": {
      "image/png": "[encoded data removed]",
      "text/plain": [
       "<matplotlib.figure.Figure at 0x7f78a4cafb10>"
      ]
     },
     "metadata": {},
     "output_type": "display_data"
    }
   ],
   "source": [
    "for i in range(3):\n",
    "    plt.plot(range(1000*i, 1000*(i+1)), entCountList[1000*i:1000*(i+1)], 'r+')\n",
    "    plt.show()"
   ]
  },
  {
   "cell_type": "markdown",
   "metadata": {},
   "source": [
    "### Merging the docEntDF with the frequency countDF"
   ]
  },
  {
   "cell_type": "code",
   "execution_count": 43,
   "metadata": {
    "collapsed": false
   },
   "outputs": [
    {
     "name": "stdout",
     "output_type": "stream",
     "text": [
      "+--------------------------------+-----------+-----------------+-----+\n",
      "|entity_id                       |document_id|confidence_level |count|\n",
      "+--------------------------------+-----------+-----------------+-----+\n",
      "|000ab3f59d9dd7961149fa226abc0a18|284139     |0.309642330733532|1    |\n",
      "|001572ecebd949798be04d8ebb99f3ec|1682741    |0.649684958122593|2    |\n",
      "|001572ecebd949798be04d8ebb99f3ec|2048454    |0.292752760765111|2    |\n",
      "|0023f3b4067924d0f45f97096ab6eb08|1615335    |0.41318581921226 |1    |\n",
      "|0029fb7c9258c32f92591d569ea0ab5b|828361     |0.455353906195519|1    |\n",
      "+--------------------------------+-----------+-----------------+-----+\n",
      "only showing top 5 rows\n",
      "\n"
     ]
    }
   ],
   "source": [
    "docEntFreqDF = docEntDF.join(docEntDFGrpByEnt, on=\"entity_id\", how=\"left\")\n",
    "docEntFreqDF.show(n=5, truncate=False)"
   ]
  },
  {
   "cell_type": "markdown",
   "metadata": {},
   "source": [
    "### We set all the entities with entity_id count less than 500 to be other"
   ]
  },
  {
   "cell_type": "code",
   "execution_count": 49,
   "metadata": {
    "collapsed": false
   },
   "outputs": [
    {
     "name": "stdout",
     "output_type": "stream",
     "text": [
      "+-----------+--------------------+-----------------+\n",
      "|document_id|           entity_id| confidence_level|\n",
      "+-----------+--------------------+-----------------+\n",
      "|          1|f065e2b0f640b2ffa...|0.481630603185953|\n",
      "|         10|               other|0.905015155754305|\n",
      "|         10|               other|0.809785178276881|\n",
      "|      10000|               other|0.236893968334246|\n",
      "|     100000|98bf11f29dd0160f5...|0.404393819710496|\n",
      "|    1000000|               other|0.735037947470355|\n",
      "|    1000000|               other|0.215278205635585|\n",
      "|    1000001|               other|0.928280511852677|\n",
      "|    1000001|               other|0.223568064648854|\n",
      "|    1000003|               other|0.211210321532183|\n",
      "|    1000003|               other|0.616049557311229|\n",
      "|    1000004|               other|0.842613337025662|\n",
      "|    1000005|               other|0.828025477495768|\n",
      "|    1000005|3cfacc2fbdb261d00...|0.549338440851708|\n",
      "|    1000006|36742caa1691aaa7a...| 0.78298490125024|\n",
      "|    1000006|               other|0.229488589277177|\n",
      "|    1000007|               other|0.809790441220702|\n",
      "|    1000008|               other|0.859121157215785|\n",
      "|    1000009|               other|0.454195926223615|\n",
      "|    1000009|               other|0.864256474187855|\n",
      "|    1000009|               other|0.575834897041928|\n",
      "|    1000009|               other|0.323859720917904|\n",
      "|    1000009|3bcb4d727fd12e78d...|0.929298708407375|\n",
      "|    1000009|               other|0.620433302239778|\n",
      "|    1000009|e703da49f727bbc5e...|0.528119010791107|\n",
      "|    1000009|44c06011fbb3a132e...|0.825451905593138|\n",
      "|    1000009|               other|0.488258539298393|\n",
      "|    1000009|               other|0.254672197167079|\n",
      "|     100001|               other|0.678302227395912|\n",
      "|     100001|               other|0.738046374185608|\n",
      "|    1000010|28e7eca0b931421f5...|0.659406166386445|\n",
      "|    1000011|               other|0.783148097018863|\n",
      "|    1000011|               other|0.233069555563335|\n",
      "|    1000011|               other|0.247661825100088|\n",
      "|    1000012|               other|0.232525528746144|\n",
      "|    1000012|               other|0.578921354553697|\n",
      "|    1000012|               other|0.246991968621898|\n",
      "|    1000012|               other|0.783148097018863|\n",
      "|    1000013|               other|0.871288428492787|\n",
      "|    1000014|               other|0.247391975737135|\n",
      "|    1000014|3cfacc2fbdb261d00...|0.639930046723725|\n",
      "|    1000015|               other|0.847601730728739|\n",
      "|    1000016|               other|0.505111748067767|\n",
      "|    1000016|               other|0.511553701396153|\n",
      "|    1000016|               other|0.507742973465607|\n",
      "|    1000016|8532f8f7668cc8db3...|0.342593584214174|\n",
      "|    1000016|               other|0.541286798809478|\n",
      "|    1000016|2caca314d8c34267c...|0.411993345114046|\n",
      "|    1000016|5af1f4f86e84385a9...|0.371666241788235|\n",
      "|    1000016|               other|0.532656398278015|\n",
      "|    1000016|               other|0.541286798809478|\n",
      "|    1000018|3cfacc2fbdb261d00...|0.547196894522803|\n",
      "|    1000018|               other|0.785204341405273|\n",
      "|    1000019|               other|0.222950362078661|\n",
      "|    1000019|               other|0.852305017341944|\n",
      "|    1000020|               other|0.578921354553697|\n",
      "|    1000020|               other|0.232525528746144|\n",
      "|    1000020|               other|0.783148097018863|\n",
      "|    1000020|               other|0.246991968621898|\n",
      "|    1000021|               other|0.901399355620787|\n",
      "|    1000022|3cfacc2fbdb261d00...|0.666455513693587|\n",
      "|    1000023|               other|0.902796951889677|\n",
      "|    1000024|459e574a5c891df66...|0.802096221386538|\n",
      "|    1000025|               other|0.869581178481031|\n",
      "|    1000025|               other|0.229294306573307|\n",
      "|    1000026|               other|0.223124048680189|\n",
      "|    1000026|               other|0.862871323107567|\n",
      "|    1000027|               other|0.833231586240904|\n",
      "|    1000028|               other|0.307326517084513|\n",
      "|    1000028|5bf667b85ba6bbd3c...|0.239308577701091|\n",
      "|    1000028|81c116af828765f77...|0.215465308758366|\n",
      "|    1000029|3cfacc2fbdb261d00...|0.663741973381394|\n",
      "|    1000030|               other|0.247391975737135|\n",
      "|    1000030|               other|0.783148097018863|\n",
      "|    1000030|               other|0.232850629649956|\n",
      "|    1000031|3cfacc2fbdb261d00...|0.532428500170109|\n",
      "|    1000032|               other|0.833963294993934|\n",
      "|    1000033|               other|0.846555290770771|\n",
      "|    1000034|               other|0.247526580506195|\n",
      "|    1000034|               other|0.232959871151601|\n",
      "|    1000034|               other|0.783148097018863|\n",
      "|    1000035|               other|0.906586162895858|\n",
      "|    1000035|               other|0.213964275753175|\n",
      "|    1000036|               other|0.232850629649956|\n",
      "|    1000036|               other|0.783148097018863|\n",
      "|    1000036|               other|0.247391975737135|\n",
      "|    1000037|               other|0.885108697466282|\n",
      "|    1000038|               other|0.901399355620787|\n",
      "|    1000039|               other|0.836030068382392|\n",
      "|    1000040|               other|0.841370612070326|\n",
      "|    1000040|34dad8d377a6c6190...|0.644726668879652|\n",
      "|    1000041|               other|0.856663124467135|\n",
      "|    1000042|               other|0.339787388435397|\n",
      "|    1000042|               other|0.358019901098365|\n",
      "|    1000043|3cfacc2fbdb261d00...|0.210803589705447|\n",
      "|    1000043|               other|0.873925549377444|\n",
      "|    1000043|               other| 0.22326562354703|\n",
      "|    1000044|               other|0.811786616510704|\n",
      "|    1000044|3cfacc2fbdb261d00...|0.551596680213807|\n",
      "|    1000045|612298a3cdfc0991c...|0.606399095251267|\n",
      "|    1000045|3cfacc2fbdb261d00...|0.662453136619621|\n",
      "|    1000045|               other|0.215866520595646|\n",
      "|    1000046|3cfacc2fbdb261d00...|0.545160565894824|\n",
      "|    1000046|f72d9902704ec7662...|0.821446648745163|\n",
      "|    1000047|               other|0.718880572072336|\n",
      "|    1000047|3cfacc2fbdb261d00...|0.663092213603859|\n",
      "|    1000047|7ae1a8e2f5f945444...|0.731817540157194|\n",
      "|    1000048|28e7eca0b931421f5...| 0.73703447257035|\n",
      "|    1000049|3cfacc2fbdb261d00...|0.659996812390737|\n",
      "|    1000049|               other|0.523981704201134|\n",
      "|     100005|               other| 0.22776835121922|\n",
      "|    1000050|               other|0.867629344259477|\n",
      "|    1000051|               other|0.842773613613356|\n",
      "|    1000051|3cfacc2fbdb261d00...|0.553985093556675|\n",
      "|    1000052|               other|0.888685992724115|\n",
      "|    1000053|               other|0.235804797686673|\n",
      "|    1000053|7c300fc07411f363f...|0.384184179816468|\n",
      "|    1000053|               other|0.300290282497252|\n",
      "|    1000053|5eab4015954ef1170...|0.478945410604533|\n",
      "|    1000053|               other|0.821163974621136|\n",
      "|    1000053|3becc4cff0349095d...|0.256782015969298|\n",
      "|    1000053|8532f8f7668cc8db3...|0.683865243482023|\n",
      "|    1000053|               other|0.276019139972375|\n",
      "|    1000055|               other|0.222602824758944|\n",
      "|    1000055|               other|0.876255167186652|\n",
      "|    1000056|               other|0.870772993332569|\n",
      "|    1000057|a40341963e70ad4f8...|0.204454190515418|\n",
      "|    1000058|               other|0.898140080805566|\n",
      "|    1000059|               other|0.232687589145467|\n",
      "|    1000059|               other|0.783148097018863|\n",
      "|    1000059|               other|0.247191265325239|\n",
      "|     100006|               other|0.945173553499513|\n",
      "|     100006|               other|0.293483950915416|\n",
      "|    1000060|3cfacc2fbdb261d00...|0.663741973381394|\n",
      "|    1000061|               other|0.842852769209633|\n",
      "|    1000061|3cfacc2fbdb261d00...|0.552773684331882|\n",
      "|    1000062|               other|0.223014574178897|\n",
      "|    1000062|               other|0.836142994153674|\n",
      "|    1000063|               other|0.885644030284707|\n",
      "|    1000063|               other|0.217710690251621|\n",
      "|    1000064|3cfacc2fbdb261d00...|0.663741973381394|\n",
      "|    1000065|               other|0.888163101968906|\n",
      "|    1000066|               other|0.846118879819084|\n",
      "|    1000067|               other|0.246991968621898|\n",
      "|    1000067|               other|0.232525528746144|\n",
      "|    1000067|               other|0.783148097018863|\n",
      "|    1000067|               other|0.578921354553697|\n",
      "|    1000068|               other|0.344434938083167|\n",
      "|    1000068|               other|0.551128661404825|\n",
      "|    1000068|3cfacc2fbdb261d00...|0.665075026361669|\n",
      "|    1000069|               other|0.216695278253801|\n",
      "|    1000069|               other|0.210467275774883|\n",
      "|    1000069|               other|0.888407541726694|\n",
      "|    1000069|               other|0.890756216940842|\n",
      "|    1000070|               other|0.357176232288968|\n",
      "|    1000070|               other| 0.24471074166598|\n",
      "|    1000070|               other|0.297100231291733|\n",
      "|    1000070|0312ac4a730dc9d92...|0.864489249997484|\n",
      "|    1000070|f72d9902704ec7662...|0.283089637781874|\n",
      "|    1000071|               other|0.258470196517397|\n",
      "|    1000071|612298a3cdfc0991c...|0.606399095251267|\n",
      "|    1000071|3cfacc2fbdb261d00...|0.662453136619621|\n",
      "|    1000071|               other|0.219922392734637|\n",
      "|    1000072|               other|0.880662738256616|\n",
      "|    1000073|               other|0.858629238570128|\n",
      "|    1000077|               other|0.842852769209633|\n",
      "|    1000077|3cfacc2fbdb261d00...|0.664402778495694|\n",
      "|    1000078|               other|0.868600367981435|\n",
      "|    1000079|               other|0.928280511852677|\n",
      "|    1000079|               other|0.845430811075982|\n",
      "|    1000079|               other|0.223568064648854|\n",
      "|    1000080|3cfacc2fbdb261d00...|0.637839745571717|\n",
      "|    1000080|               other|0.783148097018863|\n",
      "|    1000081|               other|0.890436021832102|\n",
      "|    1000081|               other|0.219734040977399|\n",
      "|    1000082|               other|0.857498305015362|\n",
      "|    1000083|3cfacc2fbdb261d00...|0.548253840110585|\n",
      "|    1000083|               other|0.219220750024141|\n",
      "|    1000083|8532f8f7668cc8db3...|0.749019711194855|\n",
      "|    1000084|               other|0.936343317383174|\n",
      "|    1000084|3dc264a7b859d3b4b...|0.298791261790171|\n",
      "|    1000085|               other|0.845365926342333|\n",
      "|    1000085|3cfacc2fbdb261d00...|0.553985093556675|\n",
      "|    1000086|3cfacc2fbdb261d00...|0.527604571702215|\n",
      "|    1000086|               other|0.827352261466559|\n",
      "|    1000087|               other|0.906313938582165|\n",
      "|    1000087|               other|0.885445435025444|\n",
      "|    1000088|               other|0.866332993240384|\n",
      "|    1000089|               other|0.897656485674592|\n",
      "|    1000090|a496d580dfe32dbf0...|0.834692430247765|\n",
      "|    1000090|4da3b10fd83e7382c...|0.211190282999762|\n",
      "|    1000091|               other|0.628525150886789|\n",
      "|    1000092|9e37484ed341a537f...|0.871581491329233|\n",
      "|    1000093|               other|0.844047133176619|\n",
      "|    1000093|               other|0.219566431969469|\n",
      "|    1000094|               other|0.839927017208204|\n",
      "|    1000095|               other|0.833963294993934|\n",
      "|    1000095|               other|0.336477926741109|\n",
      "|    1000096|c601ff6bac715a23a...|0.866912956623361|\n",
      "|    1000097|               other|0.860763727245966|\n",
      "|    1000098|               other|0.881767054619183|\n",
      "|    1000099|               other|0.890436021832102|\n",
      "|    1000099|               other|0.217242176364821|\n",
      "|     100010|               other|0.729053912261576|\n",
      "|    1000100|               other|0.845380219052218|\n",
      "|    1000102|3cfacc2fbdb261d00...|0.674211453766877|\n",
      "|    1000102|5cce3f5c26a2a6fa4...|0.807581860631312|\n",
      "|    1000103|34dad8d377a6c6190...|0.588763578064691|\n",
      "|    1000103|               other|0.733895535404096|\n",
      "|    1000104|3cfacc2fbdb261d00...|0.532428500170109|\n",
      "|    1000105|018b644c97b216f41...|0.798054671803625|\n",
      "|    1000106|               other|0.219569632406881|\n",
      "|    1000106|               other|0.914663521709996|\n",
      "|    1000106|               other| 0.21551031276045|\n",
      "|    1000107|b19c1a4b813665295...|0.805332424797178|\n",
      "|    1000108|3cfacc2fbdb261d00...|0.553985093556675|\n",
      "|    1000108|               other|0.839846667925571|\n",
      "|    1000109|               other|0.902333061715863|\n",
      "|    1000110|               other|0.783148097018863|\n",
      "|    1000110|               other| 0.24745919959433|\n",
      "|    1000110|               other|0.232905193970288|\n",
      "|    1000111|3cfacc2fbdb261d00...|0.663741973381394|\n",
      "|    1000112|               other|0.850307337433189|\n",
      "|    1000113|               other|0.900457707920126|\n",
      "|    1000114|92ff516fcc8c75733...| 0.22662695633117|\n",
      "|    1000115|               other|0.860763727245966|\n",
      "|    1000116|3cfacc2fbdb261d00...|0.530991998607609|\n",
      "|    1000117|c923372d9455e45c8...|0.242394437556356|\n",
      "|    1000117|               other|0.898621648916089|\n",
      "|    1000118|3cfacc2fbdb261d00...|0.523284199106386|\n",
      "|    1000119|               other| 0.84669751529268|\n",
      "|    1000119|3cfacc2fbdb261d00...|0.512059881423964|\n",
      "|    1000121|3cfacc2fbdb261d00...|0.663092213603859|\n",
      "|    1000122|               other|0.875658850111791|\n",
      "|    1000122|               other|0.214749601587257|\n",
      "|    1000123|               other|0.836751904221096|\n",
      "|    1000125|3cfacc2fbdb261d00...|0.669373556926217|\n",
      "|    1000126|               other|0.813511449514175|\n",
      "|    1000126|3cfacc2fbdb261d00...| 0.68285073128103|\n",
      "|    1000127|               other|0.849836833615434|\n",
      "|    1000128|               other|0.856663124467135|\n",
      "|    1000129|               other|0.327390622239021|\n",
      "|    1000129|               other| 0.58961568332526|\n",
      "|    1000131|3cfacc2fbdb261d00...|0.664402778495694|\n",
      "|    1000131|               other|0.838078641479669|\n",
      "|    1000132|               other|0.886160531389796|\n",
      "|    1000132|               other|0.334022535380787|\n",
      "|    1000132|3cfacc2fbdb261d00...|0.662453136619621|\n",
      "|    1000133|3cfacc2fbdb261d00...|0.663741973381394|\n",
      "|    1000134|               other|0.842653374115448|\n",
      "|    1000135|6cec5e869ee21609f...|0.782889080306168|\n",
      "|    1000136|3cfacc2fbdb261d00...|0.663741973381394|\n",
      "|    1000136|               other|0.305625621111379|\n",
      "|    1000137|c923372d9455e45c8...|0.249001062209841|\n",
      "|    1000137|               other|0.882249264554549|\n",
      "|    1000138|               other|0.862644024853566|\n",
      "|    1000138|               other|0.231085782159993|\n",
      "|    1000139|3cfacc2fbdb261d00...|0.531704023818521|\n",
      "|    1000140|               other|0.848104113134702|\n",
      "|    1000140|3cfacc2fbdb261d00...| 0.66120562130886|\n",
      "|    1000141|               other|0.868600367981435|\n",
      "|    1000142|               other|0.833963294993934|\n",
      "|    1000143|               other|0.811427218974517|\n",
      "|    1000143|3cfacc2fbdb261d00...|0.510310202393349|\n",
      "|    1000144|c923372d9455e45c8...|0.249001062209841|\n",
      "|    1000144|               other|0.906138476185412|\n",
      "|    1000145|               other|0.835189358420867|\n",
      "|    1000145|               other|0.258196925448524|\n",
      "|    1000145|               other|0.878244857931904|\n",
      "|    1000145|               other|0.765324013468088|\n",
      "|    1000145|               other|0.792488978330745|\n",
      "|    1000146|               other| 0.87450560173451|\n",
      "|    1000147|               other|0.223568064648854|\n",
      "|    1000147|               other|0.845430811075982|\n",
      "|    1000147|               other|0.845323102119217|\n",
      "|    1000148|               other|0.298198830836004|\n",
      "|    1000148|3cfacc2fbdb261d00...|0.657129035944782|\n",
      "|    1000149|               other|0.893576513214071|\n",
      "|    1000149|               other|0.210989689312794|\n",
      "|    1000150|3cfacc2fbdb261d00...|0.663741973381394|\n",
      "|    1000151|3cfacc2fbdb261d00...|0.674211453766877|\n",
      "|    1000151|               other|0.312454539570481|\n",
      "|    1000152|3cfacc2fbdb261d00...|0.553985093556675|\n",
      "|    1000152|               other|0.218146181862501|\n",
      "|    1000153|               other|0.876066527033118|\n",
      "|    1000154|               other|0.233014656493707|\n",
      "|    1000154|               other|0.783148097018863|\n",
      "|    1000154|               other|0.247594122096381|\n",
      "|    1000155|               other|0.783148097018863|\n",
      "|    1000155|               other|0.247661825100088|\n",
      "|    1000155|               other|0.233069555563335|\n",
      "|    1000156|               other|0.878524979211338|\n",
      "|    1000157|               other|0.832209168754966|\n",
      "|    1000157|3cfacc2fbdb261d00...|0.665075026361669|\n",
      "|    1000158|               other|0.866412984484457|\n",
      "|    1000159|3cfacc2fbdb261d00...|0.526959096178798|\n",
      "|     100016|               other|0.280209009763446|\n",
      "|    1000160|               other|0.295138383615403|\n",
      "|    1000160|3cfacc2fbdb261d00...|0.512059881423964|\n",
      "|    1000160|               other|0.290505135993378|\n",
      "|    1000160|612298a3cdfc0991c...| 0.68004954624971|\n",
      "|    1000160|               other|0.321253001022477|\n",
      "|    1000160|585435d7916c996d8...|0.805663421530419|\n",
      "|    1000161|               other|0.913002104086247|\n",
      "|    1000162|               other| 0.94357366260141|\n",
      "|    1000162|bab3fa750e5859134...|0.764876824752767|\n",
      "|    1000162|               other|0.943046050004735|\n",
      "|    1000162|4bd6b5da6b90e6174...|0.302454148685582|\n",
      "|    1000162|               other|0.819557289890963|\n",
      "|    1000162|               other|0.284937687003371|\n",
      "|    1000162|a0729474a45b02746...|0.285103085777797|\n",
      "|    1000162|               other|0.412670186377498|\n",
      "|    1000162|               other| 0.27089673509957|\n",
      "|    1000163|               other|0.802207764437261|\n",
      "|    1000164|28e7eca0b931421f5...|0.659406166386445|\n",
      "|    1000165|               other|0.818868175188462|\n",
      "|    1000165|3cfacc2fbdb261d00...|0.656579881301202|\n",
      "|    1000166|               other|0.882561558740377|\n",
      "|    1000167|               other|0.847601730728739|\n",
      "|    1000168|               other|0.810845866460522|\n",
      "|    1000168|               other|0.928280511852677|\n",
      "|    1000168|               other|0.845430811075982|\n",
      "|    1000169|3cfacc2fbdb261d00...|0.531704023818521|\n",
      "|    1000170|3cfacc2fbdb261d00...|0.519909028118028|\n",
      "|    1000171|               other|0.881614188282594|\n",
      "|    1000171|3cfacc2fbdb261d00...|0.515312267395159|\n",
      "|    1000172|               other| 0.87450560173451|\n",
      "|    1000172|               other|0.230591041185525|\n",
      "|    1000172|               other|0.217569622592457|\n",
      "|    1000173|3cfacc2fbdb261d00...|0.216397418189563|\n",
      "|    1000173|               other|0.884423630667244|\n",
      "|    1000174|               other|0.214188644869692|\n",
      "|    1000174|               other|0.224178871947871|\n",
      "|    1000174|3cfacc2fbdb261d00...|0.215881128566522|\n",
      "|    1000175|               other|0.888163101968906|\n",
      "|    1000176|               other|0.712518764353198|\n",
      "|    1000176|               other|0.316651435791302|\n",
      "|    1000176|               other| 0.26758649357117|\n",
      "|    1000176|f5f92a6fc687540ca...|0.417674280418942|\n",
      "|    1000177|               other|0.898509620326376|\n",
      "|    1000178|28e7eca0b931421f5...|0.533165860315316|\n",
      "|    1000178|ac025f14f690261ef...|0.800797631394405|\n",
      "|    1000179|               other|0.834578702564474|\n",
      "|    1000179|               other|0.649678203592782|\n",
      "|    1000180|               other|0.902333061715863|\n",
      "|    1000181|               other| 0.25578445297829|\n",
      "|    1000181|3cfacc2fbdb261d00...|0.635212955501128|\n",
      "|    1000182|0312ac4a730dc9d92...|0.835919638346223|\n",
      "|    1000183|3cfacc2fbdb261d00...|0.637166654804612|\n",
      "|    1000183|               other|0.578921354553697|\n",
      "|    1000183|               other|0.246991968621898|\n",
      "|    1000183|               other|0.783148097018863|\n",
      "|    1000184|               other|0.815113490396462|\n",
      "|    1000184|               other|0.201966323956259|\n",
      "|    1000184|3cfacc2fbdb261d00...|0.513422548275475|\n",
      "|    1000185|               other|0.783148097018863|\n",
      "|    1000185|               other|0.233014656493707|\n",
      "|    1000185|               other|0.247594122096381|\n",
      "|    1000186|               other|0.219445637178952|\n",
      "|    1000186|               other|0.882249264554549|\n",
      "|    1000187|               other|0.857839425429375|\n",
      "|    1000188|               other|0.247594122096381|\n",
      "|    1000188|               other|0.783148097018863|\n",
      "|    1000188|               other|0.233014656493707|\n",
      "|    1000189|d551b0d2feb1f8a89...|0.407099174350856|\n",
      "|    1000189|               other|0.314071554348445|\n",
      "|     100019|               other|0.737025257895425|\n",
      "|     100019|               other|0.297229264809286|\n",
      "|    1000190|               other|0.882249264554549|\n",
      "|    1000191|               other|0.224200302846557|\n",
      "|    1000191|               other| 0.91102546079752|\n",
      "|    1000192|               other|0.831087215778243|\n",
      "|    1000193|               other|  0.2185218409873|\n",
      "|    1000193|               other|0.887110877506136|\n",
      "|    1000194|               other|0.858215599997679|\n",
      "|    1000195|               other|0.827167101960418|\n",
      "|    1000196|3cfacc2fbdb261d00...|0.526323523679818|\n",
      "|    1000197|               other|0.879800175800121|\n",
      "|    1000199|               other|0.891970391931193|\n",
      "|      10002|               other|0.359228312737694|\n",
      "|      10002|               other|0.230146328595836|\n",
      "|    1000200|               other| 0.88457118522355|\n",
      "|    1000202|               other|0.233014656493707|\n",
      "|    1000202|               other|0.783148097018863|\n",
      "|    1000202|               other|0.247594122096381|\n",
      "|    1000203|               other|0.752224770350023|\n",
      "|    1000203|3cfacc2fbdb261d00...|0.663741973381394|\n",
      "|    1000205|               other| 0.88920674368625|\n",
      "|    1000205|               other|0.210997288810907|\n",
      "|    1000205|               other|0.212456522354048|\n",
      "|    1000206|3cfacc2fbdb261d00...|0.532428500170109|\n",
      "|    1000207|               other|0.733895535404096|\n",
      "|    1000207|34dad8d377a6c6190...|0.588763578064691|\n",
      "|    1000207|eaa2fbcb34a3ec9eb...|0.217388454658843|\n",
      "|    1000208|               other|0.783148097018863|\n",
      "|    1000208|               other|0.247391975737135|\n",
      "|    1000208|               other|0.232850629649956|\n",
      "|    1000209|               other|0.232525528746144|\n",
      "|    1000209|               other|0.246991968621898|\n",
      "|    1000209|               other|0.783148097018863|\n",
      "|    1000209|               other|0.578921354553697|\n",
      "|    1000210|               other|0.867997140855298|\n",
      "|    1000211|               other|0.634011204186619|\n",
      "|    1000211|4da3b10fd83e7382c...|0.898970559193885|\n",
      "|    1000211|               other|0.215151176527967|\n",
      "|    1000211|2caca314d8c34267c...|0.861698286065208|\n",
      "|    1000211|               other|0.820178729950467|\n",
      "|    1000211|               other|0.253217826969008|\n",
      "|    1000211|4d0a3bde1b2673922...|0.392872342547194|\n",
      "|    1000211|               other|0.236953638871353|\n",
      "|    1000211|               other|0.374602052126183|\n",
      "|    1000211|4d04e2c11c1aac9ce...|0.420913914140856|\n",
      "|    1000212|               other|0.900929527515042|\n",
      "|    1000213|3cfacc2fbdb261d00...|0.526323523679818|\n",
      "|    1000214|               other|0.233069555563335|\n",
      "|    1000214|               other|0.247661825100088|\n",
      "|    1000214|               other|0.783148097018863|\n",
      "|    1000215|               other|0.217723194898221|\n",
      "|    1000215|cc7a3fe4efeed6030...|0.776967646179873|\n",
      "|    1000215|3cfacc2fbdb261d00...|0.557847551589792|\n",
      "|    1000216|               other|0.901399355620787|\n",
      "|    1000217|               other|0.232850629649956|\n",
      "|    1000217|               other|0.783148097018863|\n",
      "|    1000217|               other|0.247391975737135|\n",
      "|    1000218|3cfacc2fbdb261d00...|0.659406166386445|\n",
      "|    1000218|               other|0.310173796118909|\n",
      "|    1000219|3cfacc2fbdb261d00...|0.663741973381394|\n",
      "|    1000221|3cfacc2fbdb261d00...|0.663741973381394|\n",
      "|    1000222|               other|0.338669668736425|\n",
      "|    1000223|               other|0.253800414936131|\n",
      "|    1000223|               other|0.266357318529349|\n",
      "|    1000223|               other|0.487839219839174|\n",
      "|    1000223|               other|0.912166008920917|\n",
      "|    1000223|               other|0.461720804848571|\n",
      "|    1000223|               other|0.942066537853868|\n",
      "|    1000223|bab3fa750e5859134...|0.758700730924451|\n",
      "|    1000224|               other|0.826411677093973|\n",
      "|    1000225|               other|0.233014656493707|\n",
      "|    1000225|               other|0.247594122096381|\n",
      "|    1000225|               other|0.783148097018863|\n",
      "|    1000226|3cfacc2fbdb261d00...|0.663092213603859|\n",
      "|    1000226|               other|0.827781130748591|\n",
      "|    1000226|               other|0.306253461952037|\n",
      "|    1000227|               other|0.244093685617322|\n",
      "|    1000227|306e8bd0628115c99...|0.744499618152996|\n",
      "|    1000227|3cfacc2fbdb261d00...|0.688662018007977|\n",
      "|    1000228|               other|0.210315953993055|\n",
      "|    1000228|3cfacc2fbdb261d00...|0.735704919633549|\n",
      "|    1000229|               other|0.879027625045087|\n",
      "|    1000229|3dc264a7b859d3b4b...|0.298095026511374|\n",
      "|     100023|               other|0.237974620928791|\n",
      "|    1000230|               other|0.841249501729712|\n",
      "|    1000230|f72d9902704ec7662...|0.220162768370771|\n",
      "|    1000231|               other|0.224200302846557|\n",
      "|    1000231|               other| 0.91102546079752|\n",
      "|    1000232|               other|0.844740230235774|\n",
      "|    1000233|               other|0.898509620326376|\n",
      "|    1000234|               other|0.898140080805566|\n",
      "|    1000235|               other|0.218641577604226|\n",
      "|    1000235|               other|0.891461045121981|\n",
      "|    1000236|3cfacc2fbdb261d00...|0.530991998607609|\n",
      "|    1000237|               other|0.217078503013426|\n",
      "|    1000237|               other|0.826411677093973|\n",
      "|    1000238|               other|0.841249501729712|\n",
      "|    1000238|               other|0.214554989126483|\n",
      "|    1000238|3cfacc2fbdb261d00...|0.213679314464539|\n",
      "|    1000239|               other|0.889993971470398|\n",
      "|    1000239|               other|0.508035587179459|\n",
      "|    1000241|               other|0.783148097018863|\n",
      "|    1000241|               other|0.232905193970288|\n",
      "|    1000241|               other| 0.24745919959433|\n",
      "|    1000242|c668b47d85088a7c5...|0.277994931254966|\n",
      "|    1000242|               other|0.219658985033422|\n",
      "|    1000243|               other|0.223568064648854|\n",
      "|    1000243|               other|0.928280511852677|\n",
      "|    1000244|               other|0.880786904945026|\n",
      "|    1000244|653fa79815a1ca539...| 0.26634896040866|\n",
      "|    1000244|               other|0.310330524332033|\n",
      "|    1000244|               other|0.355542670256017|\n",
      "|    1000244|               other|0.673240089977173|\n",
      "|    1000245|               other|0.826411677093973|\n",
      "|    1000246|3cfacc2fbdb261d00...|0.549338440851708|\n",
      "|    1000246|               other|0.848104113134702|\n",
      "|    1000248|               other|0.878680016061709|\n",
      "|    1000249|               other|0.891268467910149|\n",
      "|    1000249|3cfacc2fbdb261d00...|0.517292499692924|\n",
      "|     100025|               other|0.654584398162025|\n",
      "|    1000250|               other|0.587603144167657|\n",
      "|    1000250|               other|0.836030068382392|\n",
      "|    1000250|3cfacc2fbdb261d00...| 0.65825102466999|\n",
      "|    1000250|               other|0.604671955395666|\n",
      "|    1000251|               other|0.879241216366649|\n",
      "|    1000251|               other|0.212335931766372|\n",
      "|    1000251|               other|0.210745733101231|\n",
      "|    1000251|3cfacc2fbdb261d00...|0.216659532585473|\n",
      "|    1000252|               other|  0.6915175045432|\n",
      "|    1000252|4b7289d10fcf4499a...|0.762342514816305|\n",
      "|    1000252|495fcebf39755461d...| 0.64328712637156|\n",
      "|    1000253|               other|0.912582200907533|\n",
      "|    1000255|               other|0.785849568118495|\n",
      "+-----------+--------------------+-----------------+\n",
      "only showing top 500 rows\n",
      "\n"
     ]
    }
   ],
   "source": [
    "setOther = F.udf(lambda entId, cnt: entId if cnt > 500 else \"other\", StringType())\n",
    "docEntFreqCutOffDF = docEntFreqDF.select(\"document_id\", setOther(\"entity_id\", \"count\").alias(\"entity_id\"), \"confidence_level\").orderBy(\"document_id\")\n",
    "docEntFreqCutOffDF.show(n=500)"
   ]
  },
  {
   "cell_type": "markdown",
   "metadata": {
    "collapsed": true
   },
   "source": [
    "### 4) Merging documents_meta.csv with the joint topic/category document\n",
    "#### Following is a section that I tried but it gives errors"
   ]
  },
  {
   "cell_type": "code",
   "execution_count": 61,
   "metadata": {
    "collapsed": false
   },
   "outputs": [
    {
     "name": "stdout",
     "output_type": "stream",
     "text": [
      "+-----------+--------------------+-----------------+\n",
      "|document_id|           entity_id| confidence_level|\n",
      "+-----------+--------------------+-----------------+\n",
      "|          1|f065e2b0f640b2ffa...|0.481630603185953|\n",
      "|         10|e22c0c3a4420c7397...|0.905015155754305|\n",
      "|         10|304dadf6c6b6239d3...|0.809785178276881|\n",
      "|      10000|21300bf8246944d2b...|0.236893968334246|\n",
      "|     100000|98bf11f29dd0160f5...|0.404393819710496|\n",
      "|    1000000|5a1e7eb02fd637829...|0.735037947470355|\n",
      "|    1000000|f4cfd530a4ab914af...|0.215278205635585|\n",
      "|    1000001|20caba63f9eff1455...|0.928280511852677|\n",
      "|    1000001|1be45645886cccbad...|0.223568064648854|\n",
      "|    1000003|48ef23823239baf4b...|0.616049557311229|\n",
      "|    1000003|6e7f02e7740c29845...|0.211210321532183|\n",
      "|    1000004|b96382657863a9a0a...|0.842613337025662|\n",
      "|    1000005|3ae7048a294c3034e...|0.828025477495768|\n",
      "|    1000005|3cfacc2fbdb261d00...|0.549338440851708|\n",
      "|    1000006|36742caa1691aaa7a...| 0.78298490125024|\n",
      "|    1000006|2a9982638a3f99d7f...|0.229488589277177|\n",
      "|    1000007|c605ee60f1aa79fc1...|0.809790441220702|\n",
      "|    1000008|a6fe9c10695615b28...|0.859121157215785|\n",
      "|    1000009|3bcb4d727fd12e78d...|0.929298708407375|\n",
      "|    1000009|ae975a43ae865ead3...|0.864256474187855|\n",
      "|    1000009|44c06011fbb3a132e...|0.825451905593138|\n",
      "|    1000009|308ec570fe8584d9d...|0.620433302239778|\n",
      "|    1000009|bff50fe200c708113...|0.575834897041928|\n",
      "|    1000009|e703da49f727bbc5e...|0.528119010791107|\n",
      "|    1000009|508a1db36e6b644e4...|0.488258539298393|\n",
      "+-----------+--------------------+-----------------+\n",
      "only showing top 25 rows\n",
      "\n",
      "+-----------+--------------------+-----------------+\n",
      "|document_id|           entity_id| confidence_level|\n",
      "+-----------+--------------------+-----------------+\n",
      "|          1|f065e2b0f640b2ffa...|0.481630603185953|\n",
      "|         10|e22c0c3a4420c7397...|0.905015155754305|\n",
      "|      10000|21300bf8246944d2b...|0.236893968334246|\n",
      "|     100000|98bf11f29dd0160f5...|0.404393819710496|\n",
      "|    1000000|5a1e7eb02fd637829...|0.735037947470355|\n",
      "|    1000001|20caba63f9eff1455...|0.928280511852677|\n",
      "|    1000003|48ef23823239baf4b...|0.616049557311229|\n",
      "|    1000004|b96382657863a9a0a...|0.842613337025662|\n",
      "|    1000005|3ae7048a294c3034e...|0.828025477495768|\n",
      "|    1000006|36742caa1691aaa7a...| 0.78298490125024|\n",
      "+-----------+--------------------+-----------------+\n",
      "only showing top 10 rows\n",
      "\n"
     ]
    },
    {
     "data": {
      "text/plain": [
       "533563"
      ]
     },
     "execution_count": 61,
     "metadata": {},
     "output_type": "execute_result"
    }
   ],
   "source": [
    "docEntOrderedConfLevDF = docEntDF.orderBy(\"document_id\", F.desc(\"confidence_level\"))\n",
    "docEntOrderedConfLevDF.show(n=25)\n",
    "docEntMaxConfDF = docEntOrderedConfLevDF.groupBy(\"document_id\").agg(F.first(\"entity_id\").alias(\"entity_id\"), F.first(\"confidence_level\").alias(\"confidence_level\")).orderBy(\"document_id\")\n",
    "docEntMaxConfDF.show(n=10)\n",
    "docEntMaxConfDF.select(\"entity_id\").distinct().count()"
   ]
  },
  {
   "cell_type": "code",
   "execution_count": 39,
   "metadata": {
    "collapsed": false
   },
   "outputs": [
    {
     "data": {
      "text/plain": [
       "5537552"
      ]
     },
     "execution_count": 39,
     "metadata": {},
     "output_type": "execute_result"
    }
   ],
   "source": []
  },
  {
   "cell_type": "code",
   "execution_count": 27,
   "metadata": {
    "collapsed": false
   },
   "outputs": [],
   "source": [
    "#docMetTopCatDF = docMetDF.join(docTopCatConcDF, on=\"document_id\", how=\"inner\")\n",
    "#docMetTopCatDF.show()"
   ]
  },
  {
   "cell_type": "code",
   "execution_count": 28,
   "metadata": {
    "collapsed": false
   },
   "outputs": [],
   "source": [
    "#oneHotEncPub = OneHotEncoder(inputCol=\"publisher_id\", outputCol=\"allPub\")\n",
    "#docMetTopCat_PubDF = oneHotEncPub.transform(docMetTopCatDF)\n",
    "#docMetTopCat_PubDF.show()"
   ]
  },
  {
   "cell_type": "code",
   "execution_count": 29,
   "metadata": {
    "collapsed": false
   },
   "outputs": [],
   "source": [
    "#oneHotEncSou = OneHotEncoder(inputCol=\"source_id\", outputCol=\"allSou\")\n",
    "#docMetTopCat_PubSouDF = oneHotEncSou.transform(docMetTopCat_PubDF)\n",
    "#docMetTopCat_PubSouDF.show(n=5)"
   ]
  },
  {
   "cell_type": "code",
   "execution_count": 30,
   "metadata": {
    "collapsed": false
   },
   "outputs": [],
   "source": [
    "#colTopCatPubSouAssembler = VectorAssembler(inputCols=[\"allTopCat\", \"allPub\", \"allSou\"], outputCol=\"allTopCatPubSou\")\n",
    "#docMetTopCatConcDF = colTopCatPubSouAssembler.transform(docMetTopCat_PubSouDF).select(\"document_id\", \"publish_time\", \"allTopCatPubSou\")\n",
    "#docMetTopCatConcDF.show()"
   ]
  },
  {
   "cell_type": "code",
   "execution_count": 31,
   "metadata": {
    "collapsed": false
   },
   "outputs": [],
   "source": [
    "#metTopCatPCAextracted = PCA(k=16063, inputCol = \"allTopCatPubSou\", outputCol=\"TopCatPubSou_pca_features\")\n",
    "#metTopCatPCAmodel = metTopCatPCAextracted.fit(docMetTopCatConcDF)\n",
    "#metTopCatPCAExpVar = metTopCatPCAmodel.explainedVariance\n",
    "#metTopCatPCAExpVarCumSum = np.cumsum(metTopCatPCAExpVar)"
   ]
  },
  {
   "cell_type": "code",
   "execution_count": null,
   "metadata": {
    "collapsed": true
   },
   "outputs": [],
   "source": []
  }
 ],
 "metadata": {
  "anaconda-cloud": {},
  "kernelspec": {
   "display_name": "PySpark",
   "language": "python",
   "name": "pyspark"
  },
  "language_info": {
   "codemirror_mode": {
    "name": "ipython",
    "version": 2
   },
   "file_extension": ".py",
   "mimetype": "text/x-python",
   "name": "python",
   "nbconvert_exporter": "python",
   "pygments_lexer": "ipython2",
   "version": "2.7.13"
  }
 },
 "nbformat": 4,
 "nbformat_minor": 1
}

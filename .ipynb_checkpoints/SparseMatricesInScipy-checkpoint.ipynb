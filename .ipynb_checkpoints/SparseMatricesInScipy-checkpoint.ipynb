{
 "cells": [
  {
   "cell_type": "markdown",
   "metadata": {},
   "source": [
    "## Sparse matrices in Scipy: "
   ]
  },
  {
   "cell_type": "markdown",
   "metadata": {},
   "source": [
    "### 1) Sparce Matrices"
   ]
  },
  {
   "cell_type": "code",
   "execution_count": 1,
   "metadata": {
    "collapsed": false
   },
   "outputs": [
    {
     "data": {
      "image/png": "[encoded data removed]",
      "text/plain": [
       "<matplotlib.figure.Figure at 0xa768ef0>"
      ]
     },
     "metadata": {},
     "output_type": "display_data"
    }
   ],
   "source": [
    "%matplotlib inline\n",
    "import numpy as np\n",
    "import matplotlib.pyplot as plt\n",
    "\n",
    "# How memory size increases with dimension\n",
    "x = np.linspace(0, 1e6, 10)\n",
    "plt.plot(x, 8*(x**2)/(1e6), 'k-')\n",
    "plt.xlabel('n')\n",
    "plt.ylabel('Memory [Mb]')\n",
    "plt.show()"
   ]
  },
  {
   "cell_type": "code",
   "execution_count": 2,
   "metadata": {
    "collapsed": false
   },
   "outputs": [],
   "source": [
    "# Testing out the spy() function\n",
    "a_diag = np.diag(np.arange(50))"
   ]
  },
  {
   "cell_type": "code",
   "execution_count": 3,
   "metadata": {
    "collapsed": false
   },
   "outputs": [
    {
     "data": {
      "text/plain": [
       "<matplotlib.image.AxesImage at 0xac41860>"
      ]
     },
     "execution_count": 3,
     "metadata": {},
     "output_type": "execute_result"
    },
    {
     "data": {
      "image/png": "[encoded data removed]",
      "text/plain": [
       "<matplotlib.figure.Figure at 0xa918d68>"
      ]
     },
     "metadata": {},
     "output_type": "display_data"
    }
   ],
   "source": [
    "plt.spy(a_diag)"
   ]
  },
  {
   "cell_type": "markdown",
   "metadata": {},
   "source": [
    "### spy() function can be used to check the sparsity of an array"
   ]
  },
  {
   "cell_type": "markdown",
   "metadata": {},
   "source": [
    "### 2) Dealing with sparse matrices\n",
    "#### Scipy library to deal with sparce matrices is scipy.sparse"
   ]
  },
  {
   "cell_type": "markdown",
   "metadata": {},
   "source": [
    "#### a) Diagonal format"
   ]
  },
  {
   "cell_type": "code",
   "execution_count": 4,
   "metadata": {
    "collapsed": false
   },
   "outputs": [
    {
     "data": {
      "text/plain": [
       "array([[1, 2, 3, 4],\n",
       "       [1, 2, 3, 4],\n",
       "       [1, 2, 3, 4]])"
      ]
     },
     "execution_count": 4,
     "metadata": {},
     "output_type": "execute_result"
    }
   ],
   "source": [
    "import scipy.sparse as sps\n",
    "data = np.array([[1, 2, 3, 4]]).repeat(3, axis=0)\n",
    "data"
   ]
  },
  {
   "cell_type": "code",
   "execution_count": 5,
   "metadata": {
    "collapsed": true
   },
   "outputs": [],
   "source": [
    "# Treating this array as an array of non zero diagnals and defining offsets for each of the three diagonals\n",
    "offset = np.array([0, -1, 2])\n",
    "mtx = sps.dia_matrix((data, offset), shape=(4,4))"
   ]
  },
  {
   "cell_type": "code",
   "execution_count": 6,
   "metadata": {
    "collapsed": false
   },
   "outputs": [
    {
     "name": "stdout",
     "output_type": "stream",
     "text": [
      "  (0, 0)\t1\n",
      "  (1, 1)\t2\n",
      "  (2, 2)\t3\n",
      "  (3, 3)\t4\n",
      "  (1, 0)\t1\n",
      "  (2, 1)\t2\n",
      "  (3, 2)\t3\n",
      "  (0, 2)\t3\n",
      "  (1, 3)\t4\n"
     ]
    }
   ],
   "source": [
    "print mtx"
   ]
  },
  {
   "cell_type": "code",
   "execution_count": 7,
   "metadata": {
    "collapsed": false
   },
   "outputs": [
    {
     "data": {
      "text/plain": [
       "matrix([[1, 0, 3, 0],\n",
       "        [1, 2, 0, 4],\n",
       "        [0, 2, 3, 0],\n",
       "        [0, 0, 3, 4]])"
      ]
     },
     "execution_count": 7,
     "metadata": {},
     "output_type": "execute_result"
    }
   ],
   "source": [
    "# We need to convert mtx to dense form to obtaing the tru matrix\n",
    "mtx.todense()"
   ]
  },
  {
   "cell_type": "markdown",
   "metadata": {},
   "source": [
    "#### b) List of List formats (LILS)"
   ]
  },
  {
   "cell_type": "code",
   "execution_count": 8,
   "metadata": {
    "collapsed": false
   },
   "outputs": [
    {
     "name": "stdout",
     "output_type": "stream",
     "text": [
      "  (0, 1)\t1\n",
      "  (0, 2)\t2\n",
      "  (1, 0)\t3\n",
      "  (1, 2)\t1\n",
      "  (2, 0)\t1\n",
      "  (2, 3)\t1\n"
     ]
    }
   ],
   "source": [
    "mtx = sps.lil_matrix([[0, 1, 2, 0], [3, 0, 1, 0], [1, 0, 0, 1]])\n",
    "print mtx"
   ]
  },
  {
   "cell_type": "markdown",
   "metadata": {},
   "source": [
    "This matrix will always be a sparse matrix and we will always have to use todense and toarray functions to visualize them in proper format. We can do the slicing and the slices will also have to be convrted to view\n"
   ]
  },
  {
   "cell_type": "markdown",
   "metadata": {},
   "source": [
    "#### c) Dictionary of Keys format"
   ]
  },
  {
   "cell_type": "markdown",
   "metadata": {},
   "source": [
    "The matrix is saved as a dictionary with (row, col) tuples as keys and the corresponding element entries as values"
   ]
  },
  {
   "cell_type": "code",
   "execution_count": 9,
   "metadata": {
    "collapsed": false
   },
   "outputs": [
    {
     "name": "stdout",
     "output_type": "stream",
     "text": [
      "mtx_reg \n",
      "[[ 0.  0.  3.  0.  0.]\n",
      " [ 0.  2.  0.  0.  0.]\n",
      " [ 0.  0.  2.  0.  0.]\n",
      " [ 0.  0. -1.  0.  0.]\n",
      " [ 0.  0.  0.  0.  0.]]\n",
      "mtx \n",
      "  (3, 2)\t-1.0\n",
      "  (2, 2)\t2.0\n",
      "  (0, 2)\t3.0\n",
      "  (1, 1)\t2.0\n"
     ]
    }
   ],
   "source": [
    "import sys\n",
    "mtx = sps.dok_matrix((5, 5), dtype=np.float64)\n",
    "mtx[0,2] = 3\n",
    "mtx[3,2] = -1\n",
    "mtx[1,1] = 2\n",
    "mtx[2,2] =2\n",
    "mtx_reg = mtx.todense()\n",
    "print \"mtx_reg \\n\", mtx_reg\n",
    "print \"mtx \\n\", mtx"
   ]
  },
  {
   "cell_type": "markdown",
   "metadata": {},
   "source": [
    "#### d) Coordinate format\n",
    "we have three arrays:\n",
    "\n",
    "row = [row_indices]\n",
    "\n",
    "col = [col_indices]\n",
    "\n",
    "data = [........]\n",
    "\n",
    "Now matrix[row[i], col[i]] = data[i]"
   ]
  },
  {
   "cell_type": "code",
   "execution_count": 10,
   "metadata": {
    "collapsed": false
   },
   "outputs": [
    {
     "name": "stdout",
     "output_type": "stream",
     "text": [
      "[[4 0 9 0]\n",
      " [0 7 0 0]\n",
      " [0 0 0 0]\n",
      " [0 0 0 5]]\n"
     ]
    }
   ],
   "source": [
    "row = np.array([0, 3, 1, 0])\n",
    "col = np.array([0, 3, 1, 2])\n",
    "data = np.array([4, 5, 7, 9])\n",
    "mtx = sps.coo_matrix((data, (row, col)), shape=(4, 4))\n",
    "print mtx.toarray()\n"
   ]
  }
 ],
 "metadata": {
  "kernelspec": {
   "display_name": "Python 2",
   "language": "python",
   "name": "python2"
  },
  "language_info": {
   "codemirror_mode": {
    "name": "ipython",
    "version": 2
   },
   "file_extension": ".py",
   "mimetype": "text/x-python",
   "name": "python",
   "nbconvert_exporter": "python",
   "pygments_lexer": "ipython2",
   "version": "2.7.5"
  }
 },
 "nbformat": 4,
 "nbformat_minor": 0
}
